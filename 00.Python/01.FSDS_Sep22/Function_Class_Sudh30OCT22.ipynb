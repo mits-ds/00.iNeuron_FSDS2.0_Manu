{
 "cells": [
  {
   "cell_type": "code",
   "execution_count": null,
   "id": "c84a9786-b119-4593-a634-940304ae1a8c",
   "metadata": {},
   "outputs": [],
   "source": [
    "# write a function which wil try to find out len of a string with out using inbuilt "
   ]
  }
 ],
 "metadata": {
  "kernelspec": {
   "display_name": "Python 3 (ipykernel)",
   "language": "python",
   "name": "python3"
  },
  "language_info": {
   "codemirror_mode": {
    "name": "ipython",
    "version": 3
   },
   "file_extension": ".py",
   "mimetype": "text/x-python",
   "name": "python",
   "nbconvert_exporter": "python",
   "pygments_lexer": "ipython3",
   "version": "3.10.6"
  }
 },
 "nbformat": 4,
 "nbformat_minor": 5
}
