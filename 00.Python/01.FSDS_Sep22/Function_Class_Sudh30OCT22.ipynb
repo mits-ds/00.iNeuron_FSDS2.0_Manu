{
 "cells": [
  {
   "cell_type": "markdown",
   "id": "aba0a3f9",
   "metadata": {},
   "source": [
    "## write a function which wil try to find out len of a string with out using inbuilt "
   ]
  },
  {
   "cell_type": "code",
   "execution_count": null,
   "id": "c161caa3",
   "metadata": {},
   "outputs": [],
   "source": [
    "def lengt(string):\n",
    "    count=0\n",
    "    for i in string:\n",
    "        count +=1\n",
    "    return count"
   ]
  },
  {
   "cell_type": "markdown",
   "id": "58c789f9",
   "metadata": {},
   "source": [
    "## Write a funciton which will print the index of list element with out using an index "
   ]
  },
  {
   "cell_type": "code",
   "execution_count": 1,
   "id": "dfc3a826",
   "metadata": {},
   "outputs": [],
   "source": [
    "lst1 = [1,2,3,4,\"manu\",\"ineuron\"]"
   ]
  },
  {
   "cell_type": "code",
   "execution_count": 3,
   "id": "089f87de",
   "metadata": {},
   "outputs": [],
   "source": [
    "def index_counter(lst2):\n",
    "    for i in range(0, len(lst2)):\n",
    "        print(lst2[i], \":\",i)"
   ]
  },
  {
   "cell_type": "code",
   "execution_count": 4,
   "id": "148981fd",
   "metadata": {},
   "outputs": [
    {
     "name": "stdout",
     "output_type": "stream",
     "text": [
      "1 : 0\n",
      "2 : 1\n",
      "3 : 2\n",
      "4 : 3\n",
      "manu : 4\n",
      "ineuron : 5\n"
     ]
    }
   ],
   "source": [
    "index_counter(lst1)"
   ]
  },
  {
   "cell_type": "markdown",
   "id": "1b93fee1",
   "metadata": {},
   "source": [
    "## write a function which will be able to print an ip address of your system"
   ]
  },
  {
   "cell_type": "code",
   "execution_count": 7,
   "id": "de7dc6f0",
   "metadata": {},
   "outputs": [
    {
     "data": {
      "text/plain": [
       "'192.168.1.12'"
      ]
     },
     "execution_count": 7,
     "metadata": {},
     "output_type": "execute_result"
    }
   ],
   "source": [
    "import socket\n",
    "def ip_id():\n",
    "    ip=socket.gethostbyname(socket.gethostname())\n",
    "    return ip\n",
    "ip_id()"
   ]
  },
  {
   "cell_type": "markdown",
   "id": "a5ad3ad9",
   "metadata": {},
   "source": [
    "## write a function which will shutdown your system\n"
   ]
  },
  {
   "cell_type": "code",
   "execution_count": null,
   "id": "22432e1a",
   "metadata": {},
   "outputs": [],
   "source": [
    "# import modules\n",
    "from tkinter import *\n",
    "import os\n",
    "\n",
    "\n",
    "# user define function\n",
    "def shutdown():\n",
    "\treturn os.system(\"shutdown /s /t 1\")\n",
    "\n",
    "def restart():\n",
    "\treturn os.system(\"shutdown /r /t 1\")\n",
    "\n",
    "def logout():\n",
    "\treturn os.system(\"shutdown -l\")\n",
    "\n",
    "\n",
    "# tkinter object\n",
    "master = Tk()\n",
    "\n",
    "# background set to grey\n",
    "master.configure(bg='light grey')\n",
    "\n",
    "# creating a button using the widget\n",
    "# Buttons that will call the submit function\n",
    "Button(master, text=\"Shutdown\", command=shutdown).grid(row=0)\n",
    "Button(master, text=\"Restart\", command=restart).grid(row=1)\n",
    "Button(master, text=\"Log out\", command=logout).grid(row=2)\n",
    "\n",
    "mainloop()"
   ]
  },
  {
   "cell_type": "markdown",
   "id": "16d60f44",
   "metadata": {},
   "source": [
    "##  write a function which will take input as a list with any kind of numeric value and give an out as a multiplication of all the numeric data l = [3.5, 6.56, 4,5,\"sudh\" , \"ineuron\" , 'fsda bootcamp 2.0']"
   ]
  },
  {
   "cell_type": "code",
   "execution_count": 19,
   "id": "7cb2be47",
   "metadata": {},
   "outputs": [
    {
     "data": {
      "text/plain": [
       "917.918"
      ]
     },
     "execution_count": 19,
     "metadata": {},
     "output_type": "execute_result"
    }
   ],
   "source": [
    "lst3 = [3.5, 6.55656, 8,5,\"sudh\" , \"ineuron\" , 'fsda bootcamp 2.0']\n",
    "def multiplier(lst4):\n",
    "    mult =1\n",
    "    for i in lst4:\n",
    "        if type(i) == int or type(i) == float:\n",
    "            mult = mult*i\n",
    "    return round(mult, 3)\n",
    "\n",
    "multiplier(lst3)"
   ]
  },
  {
   "cell_type": "markdown",
   "id": "b700a038",
   "metadata": {},
   "source": [
    "##  write a function which will be able to read all the mails "
   ]
  },
  {
   "cell_type": "code",
   "execution_count": 4,
   "id": "b68348a3",
   "metadata": {},
   "outputs": [
    {
     "name": "stdout",
     "output_type": "stream",
     "text": [
      "From : Goibibo <noreply@content.goibibo.com>\n",
      "\n",
      "Subject :  =?UTF-8?Q?We=E2=80=99ve_Sorted_Your_Saturday_Plans_=F0=9F=98=89?= \n",
      "\n",
      "From : manumadhav@gmail.com\n",
      "\n",
      "Subject :  None \n",
      "\n",
      "From : Google <no-reply@accounts.google.com>\n",
      "\n",
      "Subject :  Security alert \n",
      "\n",
      "From : Nurserylive Gift <info@update.nurserylive.com>\n",
      "\n",
      "Subject :  =?UTF-8?Q?Re:=F0=9F=8C=BB_Bamboo_+_Jade_=3D_Luck_+_Love_+_Prosperity,_Man?=\n",
      " =?UTF-8?Q?u_Madhav?= \n",
      "\n",
      "From : \"SpiceJet\" <spicejet@web-spicejet.com>\n",
      "\n",
      "Subject :  =?windows-1252?Q?You_said_=91YES=92_and_we_vowed_to_make_it_a_ha?=\n",
      " =?windows-1252?Q?ppy_day_for_you._Book_SpiceJet_Charter!?= \n",
      "\n",
      "From : Twinkl India <new-resources@social.twinkl.co.uk>\n",
      "\n",
      "Subject :  Time to get back to School again! \n",
      "\n",
      "From : ETAuto Latest News<newsletter@etauto.com>\n",
      "\n",
      "Subject :  Andy Palmer resigns from Switch Mobility, Mahesh Babu elevated | Maruti scales up capex by 40% | Indian Tractor Inc drivers, challenges in 2025 \n",
      "\n",
      "From : \"Moneycontrol : PRO Weekender\" <subscriptions@moneycontrol.com>\n",
      "\n",
      "Subject :  Outrunning the bear \n",
      "\n",
      "From : \"Cite.Co\" <Cite@citemailer.com>\n",
      "\n",
      "Subject :  Is your employee attendance automated? \n",
      "\n",
      "From : \"Udemy Instructor: Ardit Sulce\" <no-reply@e.udemymail.com>\n",
      "\n",
      "Subject :  The Python Mega Course 2.0 is Now Live \n",
      "\n",
      "From : \"Audible.in\" <newsletters@audible.in>\n",
      "\n",
      "Subject :  =?UTF-8?B?RklOQUwgREFZUzogMiBtb250aHMgb2YgQXVkaWJsZSDigrk1?= \n",
      "\n",
      "From : Google Calendar <calendar-notification@google.com>\n",
      "\n",
      "Subject :  Daily Agenda for Manu Madhav as of 5am \n",
      "\n",
      "From : \"Udemy Instructor: Chris Haroun\" <no-reply@e.udemymail.com>\n",
      "\n",
      "Subject :  [1 Day Left: Early Black Friday Sale] ALL Courses Sale \n",
      "\n",
      "From : \"University of Maryland, College Park\" <no-reply@m.mail.coursera.org>\n",
      "\n",
      "Subject :  Complete a Free Preliminary Application Today for Your Master's Degree \n",
      "\n",
      "From : HackerRank Team <no-reply@hackerrankmail.com>\n",
      "\n",
      "Subject :  Can You Solve Find a string? \n",
      "\n",
      "From : Nano Magazine <info@worldnanofoundation.com>\n",
      "\n",
      "Subject :  Pioneering MedTech company secure commitments of over $21 million \n",
      "\n",
      "From : Google Pay <google-pay-noreply@google.com>\n",
      "\n",
      "Subject :  New bill from BSNL Landline - Individual. Pay now on Google Pay \n",
      "\n",
      "From : Udemy <hello@students.udemy.com>\n",
      "\n",
      "Subject :  Still interested in\n",
      " =?UTF-8?Q?=E2=80=9CPractice_Exams_=3A_Leading_SAFe=E2=80=9D=3F?= \n",
      "\n",
      "From : \"INDIAN SCHOOL OF BUSINESS\" <ampba@marketing.isb.edu>\n",
      "\n",
      "Subject :  Become a future leader in analytics and data science - less than 3 days to apply for AMPBA \n",
      "\n",
      "From : CUSTOMERSERVICE <CUSTOMERSERVICE@ICICIBANK.COM>\n",
      "\n",
      "Subject :  Status of your SR863369157 \n",
      "\n",
      "From : credit_cards@icicibank.com\n",
      "\n",
      "Subject :  Transaction alert for your ICICI Bank credit card \n",
      "\n",
      "From : Larissa Sander via XING <mailrobot@mail.xing.com>\n",
      "\n",
      "Subject :  Invitation to: Transformation erleben \n",
      "\n",
      "From : MCA21 Administrator <MCAADM@MCA.GOV.IN>\n",
      "\n",
      "Subject :  Approval of SRN F34825406 dated 28/10/2022 \n",
      "\n",
      "From : MCA21 Administrator <MCAADM@MCA.GOV.IN>\n",
      "\n",
      "Subject :  Approval of SRN F34815753 dated 28/10/2022 \n",
      "\n",
      "From : Federal Bank <fedmail@federalbank.co.in>\n",
      "\n",
      "Subject :  =?UTF-8?Q?Welcome_Home_Winter_=F0=9F=A7=A5Wi?=\n",
      " =?UTF-8?Q?th_Federal_Bank_Cards=F0=9F=8E=AB=F0=9F=9B=92?= \n",
      "\n",
      "From : Your ITR Intimation <intimations@cpc.incometax.gov.in>\n",
      "\n",
      "Subject :  Your ITR Intimation \n",
      "\n",
      "From : communication@cpc.incometax.gov.in\n",
      "\n",
      "Subject :  Confirmation on e-Verification of Income Tax Return \n",
      "\n",
      "From : Volker Faust via XING <mailrobot@mail.xing.com>\n",
      "\n",
      "Subject :  Moderator news for the Kunststoffspritzguss group. \n",
      "\n",
      "From : \"iNeuron.ai\" <contact@ineuron.ai>\n",
      "\n",
      "Subject :  Full Stack Data Science BootCamp 2.0 \n",
      "\n",
      "From : ETCIO<promo@etauto.com>\n",
      "\n",
      "Subject :  You're Invited || Insightful Discussion on \"Unlock The Full Benefits Of Modern ERP\" || 23rd November, 4:00 PM \n",
      "\n",
      "From : =?utf-8?Q?IIM=20Ahmedabad=2C=20Executive=20Education?= <exedinfo@iima.ac.in>\n",
      "\n",
      "Subject :  =?utf-8?Q?IIM=20Ahmedabad=3A=20Programme=20on=C2=A0Design=20Thinking?= \n",
      "\n",
      "From : =?windows-1252?Q?ABC_=96_Aditya_Birla_Sun_Life_Mutual_Fund?= <recommended@abslmf.adityabirlacapital.org>\n",
      "\n",
      "Subject :  =?utf-8?B?VFJFTkRJTkcg8J+TiA==?= \n",
      "\n",
      "From : =?utf-8?Q?KENT=20Cam?= <hello@kentcam.com>\n",
      "\n",
      "Subject :  =?utf-8?Q?Say=20NO=20to=20Manual=20Register=2Dbased=20Visitor=20Management=20System=21=20Automate=20it=20with=20Kent=20CamAttendance=21?= \n",
      "\n",
      "From : Alumni Network SCMHRD <invitations@linkedin.com>\n",
      "\n",
      "Subject :  I want to connect \n",
      "\n",
      "From : \"Udemy Instructor: Ardit Sulce\" <no-reply@e.udemymail.com>\n",
      "\n",
      "Subject :  Free access to the old Python Mega Course \n",
      "\n",
      "From : Ivana Mangold via XING <mailrobot@mail.xing.com>\n",
      "\n",
      "Subject :  Invitation to: Corporate Health &amp; Fitness neu gedacht \n",
      "\n"
     ]
    },
    {
     "ename": "NameError",
     "evalue": "name 'traceback' is not defined",
     "output_type": "error",
     "traceback": [
      "\u001b[1;31m---------------------------------------------------------------------------\u001b[0m",
      "\u001b[1;31mUnicodeDecodeError\u001b[0m                        Traceback (most recent call last)",
      "Input \u001b[1;32mIn [4]\u001b[0m, in \u001b[0;36mread_email_from_gmail\u001b[1;34m()\u001b[0m\n\u001b[0;32m     28\u001b[0m \u001b[38;5;28;01mif\u001b[39;00m \u001b[38;5;28misinstance\u001b[39m(arr, \u001b[38;5;28mtuple\u001b[39m):\n\u001b[1;32m---> 29\u001b[0m     msg \u001b[38;5;241m=\u001b[39m email\u001b[38;5;241m.\u001b[39mmessage_from_string(\u001b[38;5;28;43mstr\u001b[39;49m\u001b[43m(\u001b[49m\u001b[43marr\u001b[49m\u001b[43m[\u001b[49m\u001b[38;5;241;43m1\u001b[39;49m\u001b[43m]\u001b[49m\u001b[43m,\u001b[49m\u001b[38;5;124;43m'\u001b[39;49m\u001b[38;5;124;43mutf-8\u001b[39;49m\u001b[38;5;124;43m'\u001b[39;49m\u001b[43m)\u001b[49m)\n\u001b[0;32m     30\u001b[0m     email_subject \u001b[38;5;241m=\u001b[39m msg[\u001b[38;5;124m'\u001b[39m\u001b[38;5;124msubject\u001b[39m\u001b[38;5;124m'\u001b[39m]\n",
      "\u001b[1;31mUnicodeDecodeError\u001b[0m: 'utf-8' codec can't decode byte 0x92 in position 6432: invalid start byte",
      "\nDuring handling of the above exception, another exception occurred:\n",
      "\u001b[1;31mNameError\u001b[0m                                 Traceback (most recent call last)",
      "Input \u001b[1;32mIn [4]\u001b[0m, in \u001b[0;36m<cell line: 39>\u001b[1;34m()\u001b[0m\n\u001b[0;32m     36\u001b[0m         traceback\u001b[38;5;241m.\u001b[39mprint_exc() \n\u001b[0;32m     37\u001b[0m         \u001b[38;5;28mprint\u001b[39m(\u001b[38;5;28mstr\u001b[39m(e))\n\u001b[1;32m---> 39\u001b[0m \u001b[43mread_email_from_gmail\u001b[49m\u001b[43m(\u001b[49m\u001b[43m)\u001b[49m\n",
      "Input \u001b[1;32mIn [4]\u001b[0m, in \u001b[0;36mread_email_from_gmail\u001b[1;34m()\u001b[0m\n\u001b[0;32m     33\u001b[0m                 \u001b[38;5;28mprint\u001b[39m(\u001b[38;5;124mf\u001b[39m\u001b[38;5;124m'\u001b[39m\u001b[38;5;124mSubject :  \u001b[39m\u001b[38;5;132;01m{\u001b[39;00memail_subject\u001b[38;5;132;01m}\u001b[39;00m\u001b[38;5;124m \u001b[39m\u001b[38;5;130;01m\\n\u001b[39;00m\u001b[38;5;124m'\u001b[39m)\n\u001b[0;32m     35\u001b[0m \u001b[38;5;28;01mexcept\u001b[39;00m \u001b[38;5;167;01mException\u001b[39;00m \u001b[38;5;28;01mas\u001b[39;00m e:\n\u001b[1;32m---> 36\u001b[0m     \u001b[43mtraceback\u001b[49m\u001b[38;5;241m.\u001b[39mprint_exc() \n\u001b[0;32m     37\u001b[0m     \u001b[38;5;28mprint\u001b[39m(\u001b[38;5;28mstr\u001b[39m(e))\n",
      "\u001b[1;31mNameError\u001b[0m: name 'traceback' is not defined"
     ]
    }
   ],
   "source": [
    "import smtplib\n",
    "import time\n",
    "import imaplib\n",
    "import email\n",
    "ORG_EMAIL = \"@gmail.com\" \n",
    "FROM_EMAIL = 'manumadhav@gmail.com'\n",
    "FROM_PWD = 'nvmzbrisrhdslzom'\n",
    "SMTP_SERVER = \"imap.gmail.com\" \n",
    "SMTP_PORT = 993\n",
    "imaplib._MAXLINE = 400000000\n",
    "\n",
    "def read_email_from_gmail():\n",
    "    try:\n",
    "        mail = imaplib.IMAP4_SSL(SMTP_SERVER)\n",
    "        mail.login(FROM_EMAIL,FROM_PWD)\n",
    "        mail.select('inbox')\n",
    "\n",
    "        data = mail.search(None, 'ALL')\n",
    "        mail_ids = data[1]\n",
    "        id_list = mail_ids[0].split()   \n",
    "        first_email_id = int(id_list[0])\n",
    "        latest_email_id = int(id_list[-1])\n",
    "\n",
    "        for i in range(latest_email_id,first_email_id, -1):\n",
    "            data = mail.fetch(str(i), '(RFC822)' )\n",
    "            for response_part in data:\n",
    "                arr = response_part[0]\n",
    "                if isinstance(arr, tuple):\n",
    "                    msg = email.message_from_string(str(arr[1],'utf-8'))\n",
    "                    email_subject = msg['subject']\n",
    "                    email_from = msg['from']\n",
    "                    print('From : ' + email_from + '\\n')\n",
    "                    print(f'Subject :  {email_subject} \\n')\n",
    "\n",
    "    except Exception as e:\n",
    "        traceback.print_exc() \n",
    "        print(str(e))\n",
    "\n",
    "read_email_from_gmail()\n"
   ]
  },
  {
   "cell_type": "markdown",
   "id": "07b6406b",
   "metadata": {},
   "source": [
    "##  write a function which will be able to send a mail to anyone "
   ]
  },
  {
   "cell_type": "code",
   "execution_count": 8,
   "id": "3464557d",
   "metadata": {},
   "outputs": [],
   "source": [
    "import smtplib , ssl\n",
    "port = 465  # For SSL\n",
    "smtp_server = \"smtp.gmail.com\"\n",
    "sender_email = \"manumadhav@gmail.com\"  # Enter your address\n",
    "receiver_email = \"suja477@gmail.com\"  # Enter receiver address\n",
    "#password = 'rlplfdcsoiqruagn'\n",
    "password = 'nvmzbrisrhdslzom'\n",
    "message = \"\"\"Hello Manikutty,\n",
    "this is my message from python code \n",
    "Thank you,\n",
    "Manu Madhav\"\"\"\n",
    "\n",
    "context = ssl.create_default_context()\n",
    "with smtplib.SMTP_SSL(smtp_server, port, context=context) as server:\n",
    "    server.login(sender_email, password)\n",
    "    server.sendmail(sender_email, receiver_email, message)"
   ]
  },
  {
   "cell_type": "code",
   "execution_count": null,
   "id": "423040d8",
   "metadata": {},
   "outputs": [],
   "source": []
  },
  {
   "cell_type": "markdown",
   "id": "4ba3a740",
   "metadata": {},
   "source": [
    "## write a function which will be able to read a doc/word file from your system "
   ]
  },
  {
   "cell_type": "code",
   "execution_count": 28,
   "id": "1456616a",
   "metadata": {},
   "outputs": [
    {
     "name": "stdout",
     "output_type": "stream",
     "text": [
      "Defaulting to user installation because normal site-packages is not writeable\n",
      "Collecting docx2txt\n",
      "  Downloading docx2txt-0.8.tar.gz (2.8 kB)\n",
      "Building wheels for collected packages: docx2txt\n",
      "  Building wheel for docx2txt (setup.py): started\n",
      "  Building wheel for docx2txt (setup.py): finished with status 'done'\n",
      "  Created wheel for docx2txt: filename=docx2txt-0.8-py3-none-any.whl size=3984 sha256=26f45fb8f035b7e389de5c40a708993a83b450b83c1b64b7a8fb2756b5264c82\n",
      "  Stored in directory: c:\\users\\manum\\appdata\\local\\pip\\cache\\wheels\\40\\75\\01\\e6c444034338bde9c7947d3467807f889123465c2371e77418\n",
      "Successfully built docx2txt\n",
      "Installing collected packages: docx2txt\n",
      "Successfully installed docx2txt-0.8\n"
     ]
    }
   ],
   "source": [
    "!pip install docx2txt"
   ]
  },
  {
   "cell_type": "code",
   "execution_count": 30,
   "id": "ee3fdde5",
   "metadata": {},
   "outputs": [
    {
     "name": "stdout",
     "output_type": "stream",
     "text": [
      "Simple word file for testing\n"
     ]
    }
   ],
   "source": [
    "import docx2txt\n",
    "a = docx2txt.process('testing.docx')\n",
    "print(a)"
   ]
  },
  {
   "cell_type": "code",
   "execution_count": null,
   "id": "8d6829c0",
   "metadata": {},
   "outputs": [],
   "source": []
  }
 ],
 "metadata": {
  "kernelspec": {
   "display_name": "Python 3 (ipykernel)",
   "language": "python",
   "name": "python3"
  },
  "language_info": {
   "codemirror_mode": {
    "name": "ipython",
    "version": 3
   },
   "file_extension": ".py",
   "mimetype": "text/x-python",
   "name": "python",
   "nbconvert_exporter": "python",
   "pygments_lexer": "ipython3",
   "version": "3.9.12"
  },
  "toc": {
   "base_numbering": 1,
   "nav_menu": {},
   "number_sections": true,
   "sideBar": true,
   "skip_h1_title": false,
   "title_cell": "Table of Contents",
   "title_sidebar": "Contents",
   "toc_cell": false,
   "toc_position": {},
   "toc_section_display": true,
   "toc_window_display": false
  },
  "varInspector": {
   "cols": {
    "lenName": 16,
    "lenType": 16,
    "lenVar": 40
   },
   "kernels_config": {
    "python": {
     "delete_cmd_postfix": "",
     "delete_cmd_prefix": "del ",
     "library": "var_list.py",
     "varRefreshCmd": "print(var_dic_list())"
    },
    "r": {
     "delete_cmd_postfix": ") ",
     "delete_cmd_prefix": "rm(",
     "library": "var_list.r",
     "varRefreshCmd": "cat(var_dic_list()) "
    }
   },
   "types_to_exclude": [
    "module",
    "function",
    "builtin_function_or_method",
    "instance",
    "_Feature"
   ],
   "window_display": false
  }
 },
 "nbformat": 4,
 "nbformat_minor": 5
}
