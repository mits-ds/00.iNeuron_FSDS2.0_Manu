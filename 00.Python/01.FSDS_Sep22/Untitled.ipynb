{
 "cells": [
  {
   "cell_type": "code",
   "execution_count": 9,
   "id": "a139b800",
   "metadata": {},
   "outputs": [
    {
     "name": "stdout",
     "output_type": "stream",
     "text": [
      " Enter First Number: 10\n",
      " Enter Second Number: 10\n",
      " Enter Third Number: 10\n"
     ]
    },
    {
     "ename": "SyntaxError",
     "evalue": "'break' outside loop (391967841.py, line 17)",
     "output_type": "error",
     "traceback": [
      "\u001b[1;36m  Input \u001b[1;32mIn [9]\u001b[1;36m\u001b[0m\n\u001b[1;33m    break\u001b[0m\n\u001b[1;37m    ^\u001b[0m\n\u001b[1;31mSyntaxError\u001b[0m\u001b[1;31m:\u001b[0m 'break' outside loop\n"
     ]
    }
   ],
   "source": [
    "num1 = int(input(\" Enter First Number: \"))\n",
    "num2 = int(input(\" Enter Second Number: \"))\n",
    "num3 = int(input(\" Enter Third Number: \"))\n",
    "lar_var =0\n",
    "\n",
    "if num1 >num2:\n",
    "    if num1 > num3:\n",
    "        lar_var = num1\n",
    "    elif num3>num1:\n",
    "        lar_var = num3\n",
    "elif num3>num2:\n",
    "    lar_var = num3\n",
    "elif num2>num3:\n",
    "    lar_var = num2\n",
    "elif num1==num2 and num2==num3:\n",
    "    print(f\" {num1} , {num2} and {num3} are equal\")\n",
    "    break\n",
    "\n",
    "print(f\" Largest value is {lar_var} out of {num1} , {num2} and {num3}\")"
   ]
  },
  {
   "cell_type": "code",
   "execution_count": 7,
   "id": "4389836e",
   "metadata": {},
   "outputs": [
    {
     "name": "stdout",
     "output_type": "stream",
     "text": [
      "True\n"
     ]
    }
   ],
   "source": [
    "a = 6\n",
    "b = 10\n",
    "#print( not ( not a == 10 or not b == 10) )\n",
    "print(  ( not a == 10 or not b == 10) )"
   ]
  },
  {
   "cell_type": "code",
   "execution_count": null,
   "id": "ac8e8257",
   "metadata": {},
   "outputs": [],
   "source": [
    "year = int(input (\" Enter the year to check : \"))\n",
    "\n",
    "if year % 100 == 0:\n",
    "  if year % 400 == 0 :\n",
    "    print(f\" The entered year {year} is a century Leap year\")\n",
    "  else:\n",
    "    print(f\" The entered year  {year} is a not a Leap year\")\n",
    "elif year % 4 ==0 :\n",
    "  print(f\" The entered year  {year} is a Leap year\")\n",
    "else:\n",
    "  print(f\" The entered year  {year} is a not a Leap year\")"
   ]
  }
 ],
 "metadata": {
  "kernelspec": {
   "display_name": "Python 3 (ipykernel)",
   "language": "python",
   "name": "python3"
  },
  "language_info": {
   "codemirror_mode": {
    "name": "ipython",
    "version": 3
   },
   "file_extension": ".py",
   "mimetype": "text/x-python",
   "name": "python",
   "nbconvert_exporter": "python",
   "pygments_lexer": "ipython3",
   "version": "3.9.12"
  },
  "toc": {
   "base_numbering": 1,
   "nav_menu": {},
   "number_sections": true,
   "sideBar": true,
   "skip_h1_title": false,
   "title_cell": "Table of Contents",
   "title_sidebar": "Contents",
   "toc_cell": false,
   "toc_position": {},
   "toc_section_display": true,
   "toc_window_display": false
  },
  "varInspector": {
   "cols": {
    "lenName": 16,
    "lenType": 16,
    "lenVar": 40
   },
   "kernels_config": {
    "python": {
     "delete_cmd_postfix": "",
     "delete_cmd_prefix": "del ",
     "library": "var_list.py",
     "varRefreshCmd": "print(var_dic_list())"
    },
    "r": {
     "delete_cmd_postfix": ") ",
     "delete_cmd_prefix": "rm(",
     "library": "var_list.r",
     "varRefreshCmd": "cat(var_dic_list()) "
    }
   },
   "types_to_exclude": [
    "module",
    "function",
    "builtin_function_or_method",
    "instance",
    "_Feature"
   ],
   "window_display": false
  }
 },
 "nbformat": 4,
 "nbformat_minor": 5
}
