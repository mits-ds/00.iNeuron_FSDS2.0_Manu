{
 "cells": [
  {
   "cell_type": "markdown",
   "id": "ebce987b",
   "metadata": {},
   "source": [
    "# Assignment"
   ]
  },
  {
   "cell_type": "markdown",
   "id": "e98c9c23",
   "metadata": {},
   "source": [
    "send the mail to\n",
    "send it before 0000 hrs IST | 12 AM tonight\n",
    "\n",
    "Special cases respond atleast before 1200 hrs IST tomorrow i.e Monday\n",
    "\n",
    "TO: query@ineuron.ai CC: sunny@ineuron.ai, riishav@ineuron.ai, boktiar@ineuron.ai\n",
    "\n",
    "Subject: [Bootcamp 2.0 | Assignment No. 1]:\n",
    "\n",
    "Find out all the types of error that we have encountered in our lecture and why? Also include the examples.\n",
    "\n",
    "Take input A and B and print their sum, mul, div, square of the nos.\n",
    "\n",
    "How many reserve keywords are there in python and why we should not use them as a variable name.\n",
    "\n",
    "Create email ids with the user inputs. in the following format - lastname.firstname@gmail.com\n",
    "\n",
    "Try to print the following lines -\n",
    "Hi I'm Sunny\n",
    "My address is 22\\3\n",
    "I earn 20$ daily.\n",
    "\n",
    "Take user input (name, address, date of birth etc) to fill a form for your college and print their email IDs\n",
    "\n",
    "Convert the following -\n",
    "\"22.4\" into integer\n",
    "\"22\" into complex no."
   ]
  },
  {
   "cell_type": "markdown",
   "id": "86cb0c26",
   "metadata": {},
   "source": [
    "## Traceback Errors"
   ]
  },
  {
   "cell_type": "code",
   "execution_count": 5,
   "id": "78d10f80",
   "metadata": {},
   "outputs": [
    {
     "name": "stdout",
     "output_type": "stream",
     "text": [
      "Enter value of A: 10.5\n",
      "Enter value of B: 10.3\n"
     ]
    },
    {
     "ename": "ValueError",
     "evalue": "invalid literal for int() with base 10: '10.3'",
     "output_type": "error",
     "traceback": [
      "\u001b[1;31m---------------------------------------------------------------------------\u001b[0m",
      "\u001b[1;31mValueError\u001b[0m                                Traceback (most recent call last)",
      "Input \u001b[1;32mIn [5]\u001b[0m, in \u001b[0;36m<cell line: 2>\u001b[1;34m()\u001b[0m\n\u001b[0;32m      1\u001b[0m A \u001b[38;5;241m=\u001b[39m \u001b[38;5;28mfloat\u001b[39m(\u001b[38;5;28minput\u001b[39m(\u001b[38;5;124m\"\u001b[39m\u001b[38;5;124mEnter value of A: \u001b[39m\u001b[38;5;124m\"\u001b[39m))\n\u001b[1;32m----> 2\u001b[0m B \u001b[38;5;241m=\u001b[39m \u001b[38;5;28;43mint\u001b[39;49m\u001b[43m(\u001b[49m\u001b[38;5;28;43minput\u001b[39;49m\u001b[43m(\u001b[49m\u001b[38;5;124;43m\"\u001b[39;49m\u001b[38;5;124;43mEnter value of B: \u001b[39;49m\u001b[38;5;124;43m\"\u001b[39;49m\u001b[43m)\u001b[49m\u001b[43m)\u001b[49m \u001b[38;5;66;03m# 10.2 is float but converting to int\u001b[39;00m\n\u001b[0;32m      3\u001b[0m \u001b[38;5;28mprint\u001b[39m(\u001b[38;5;28mtype\u001b[39m(A))\n\u001b[0;32m      4\u001b[0m rint(\u001b[38;5;28mtype\u001b[39m(B))\n",
      "\u001b[1;31mValueError\u001b[0m: invalid literal for int() with base 10: '10.3'"
     ]
    }
   ],
   "source": [
    "A = float(input(\"Enter value of A: \"))\n",
    "B = int(input(\"Enter value of B: \")) # 10.2 is float but converting to int\n",
    "print(type(A))\n",
    "rint(type(B))\n",
    "print(f\"Sum of A and B is: {A+B}\")"
   ]
  },
  {
   "cell_type": "code",
   "execution_count": 7,
   "id": "00651d02",
   "metadata": {},
   "outputs": [
    {
     "name": "stdout",
     "output_type": "stream",
     "text": [
      "Enter value of A: 10\n",
      "Enter value of B: 10\n",
      "<class 'float'>\n",
      "<class 'int'>\n",
      "Sum of A and B is: 20.0\n"
     ]
    }
   ],
   "source": [
    "A = float(input(\"Enter value of A: \"))\n",
    "B = int(input(\"Enter value of B: \")) # 10.2 is float but converting to int\n",
    "print(type(A))\n",
    "print(type(B))\n",
    "print(f\"Sum of A and B is: {A+B}\")"
   ]
  },
  {
   "cell_type": "code",
   "execution_count": 8,
   "id": "09b26958",
   "metadata": {},
   "outputs": [
    {
     "name": "stdout",
     "output_type": "stream",
     "text": [
      "Enter value of A: 10.5\n",
      "Enter value of B: 10\n",
      "<class 'float'>\n",
      "<class 'int'>\n",
      "Sum of A and B is: 20.5\n"
     ]
    }
   ],
   "source": [
    "A = float(input(\"Enter value of A: \"))\n",
    "B = int(input(\"Enter value of B: \")) # 10.2 is float but converting to int\n",
    "print(type(A))\n",
    "print(type(B))\n",
    "print(f\"Sum of A and B is: {A+B}\")"
   ]
  },
  {
   "cell_type": "code",
   "execution_count": 12,
   "id": "fa0a27c9",
   "metadata": {},
   "outputs": [
    {
     "name": "stdout",
     "output_type": "stream",
     "text": [
      "Enter value of A: 10.3\n",
      "Enter value of B: 10.5\n",
      "<class 'float'>\n",
      "<class 'str'>\n",
      "<class 'float'>\n",
      "Sum of A and B is: 20.8\n"
     ]
    }
   ],
   "source": [
    "A = float(input(\"Enter value of A: \"))\n",
    "B = (input(\"Enter value of B: \")) # 10.2 is float but converting to int\n",
    "print(type(A))\n",
    "print(type(B))\n",
    "B=float(B)\n",
    "print(type(B))\n",
    "print(f\"Sum of A and B is: {A+B}\")"
   ]
  },
  {
   "cell_type": "code",
   "execution_count": 13,
   "id": "50b24757",
   "metadata": {},
   "outputs": [
    {
     "name": "stdout",
     "output_type": "stream",
     "text": [
      "data type before: <class 'str'>, value of A: 50.22\n"
     ]
    },
    {
     "ename": "ValueError",
     "evalue": "invalid literal for int() with base 10: '50.22'",
     "output_type": "error",
     "traceback": [
      "\u001b[1;31m---------------------------------------------------------------------------\u001b[0m",
      "\u001b[1;31mValueError\u001b[0m                                Traceback (most recent call last)",
      "Input \u001b[1;32mIn [13]\u001b[0m, in \u001b[0;36m<cell line: 4>\u001b[1;34m()\u001b[0m\n\u001b[0;32m      2\u001b[0m A \u001b[38;5;241m=\u001b[39m \u001b[38;5;124m\"\u001b[39m\u001b[38;5;124m50.22\u001b[39m\u001b[38;5;124m\"\u001b[39m \u001b[38;5;66;03m# entering float\u001b[39;00m\n\u001b[0;32m      3\u001b[0m \u001b[38;5;28mprint\u001b[39m(\u001b[38;5;124mf\u001b[39m\u001b[38;5;124m\"\u001b[39m\u001b[38;5;124mdata type before: \u001b[39m\u001b[38;5;132;01m{\u001b[39;00m\u001b[38;5;28mtype\u001b[39m(A)\u001b[38;5;132;01m}\u001b[39;00m\u001b[38;5;124m, value of A: \u001b[39m\u001b[38;5;132;01m{\u001b[39;00mA\u001b[38;5;132;01m}\u001b[39;00m\u001b[38;5;124m\"\u001b[39m)\n\u001b[1;32m----> 4\u001b[0m A \u001b[38;5;241m=\u001b[39m \u001b[38;5;28;43mint\u001b[39;49m\u001b[43m(\u001b[49m\u001b[43mA\u001b[49m\u001b[43m)\u001b[49m \u001b[38;5;66;03m# trying to convert into integer\u001b[39;00m\n\u001b[0;32m      5\u001b[0m \u001b[38;5;28mprint\u001b[39m(\u001b[38;5;124mf\u001b[39m\u001b[38;5;124m\"\u001b[39m\u001b[38;5;124mdata type after: \u001b[39m\u001b[38;5;132;01m{\u001b[39;00m\u001b[38;5;28mtype\u001b[39m(A)\u001b[38;5;132;01m}\u001b[39;00m\u001b[38;5;124m, value of A: \u001b[39m\u001b[38;5;132;01m{\u001b[39;00mA\u001b[38;5;132;01m}\u001b[39;00m\u001b[38;5;124m\"\u001b[39m)\n",
      "\u001b[1;31mValueError\u001b[0m: invalid literal for int() with base 10: '50.22'"
     ]
    }
   ],
   "source": [
    "# String to integer\n",
    "A = \"50.22\" # entering float\n",
    "print(f\"data type before: {type(A)}, value of A: {A}\")\n",
    "A = int(A) # trying to convert into integer\n",
    "print(f\"data type after: {type(A)}, value of A: {A}\")"
   ]
  },
  {
   "cell_type": "code",
   "execution_count": 14,
   "id": "618243b0",
   "metadata": {},
   "outputs": [
    {
     "name": "stdout",
     "output_type": "stream",
     "text": [
      "data type before: <class 'str'>, value of A: 50\n",
      "data type after: <class 'int'>, value of A: 50\n"
     ]
    }
   ],
   "source": [
    "# String to integer\n",
    "A = \"50\" # entering int\n",
    "print(f\"data type before: {type(A)}, value of A: {A}\")\n",
    "A = int(A) # trying to convert into integer\n",
    "print(f\"data type after: {type(A)}, value of A: {A}\")"
   ]
  },
  {
   "cell_type": "code",
   "execution_count": 15,
   "id": "5af95b64",
   "metadata": {},
   "outputs": [
    {
     "name": "stdout",
     "output_type": "stream",
     "text": [
      "data type before: <class 'str'>, value of A: 50.22\n",
      "data type after: <class 'float'>, value of A: 50.22\n"
     ]
    }
   ],
   "source": [
    "# String to float\n",
    "A = \"50.22\" # entering float\n",
    "print(f\"data type before: {type(A)}, value of A: {A}\")\n",
    "A = float(A) # trying to convert into float\n",
    "print(f\"data type after: {type(A)}, value of A: {A}\")"
   ]
  },
  {
   "cell_type": "code",
   "execution_count": 16,
   "id": "f48185bf",
   "metadata": {},
   "outputs": [
    {
     "name": "stdout",
     "output_type": "stream",
     "text": [
      "data type before: <class 'str'>, value of A: \n"
     ]
    },
    {
     "ename": "ValueError",
     "evalue": "invalid literal for int() with base 10: ''",
     "output_type": "error",
     "traceback": [
      "\u001b[1;31m---------------------------------------------------------------------------\u001b[0m",
      "\u001b[1;31mValueError\u001b[0m                                Traceback (most recent call last)",
      "Input \u001b[1;32mIn [16]\u001b[0m, in \u001b[0;36m<cell line: 4>\u001b[1;34m()\u001b[0m\n\u001b[0;32m      2\u001b[0m A \u001b[38;5;241m=\u001b[39m \u001b[38;5;124m\"\u001b[39m\u001b[38;5;124m\"\u001b[39m\n\u001b[0;32m      3\u001b[0m \u001b[38;5;28mprint\u001b[39m(\u001b[38;5;124mf\u001b[39m\u001b[38;5;124m\"\u001b[39m\u001b[38;5;124mdata type before: \u001b[39m\u001b[38;5;132;01m{\u001b[39;00m\u001b[38;5;28mtype\u001b[39m(A)\u001b[38;5;132;01m}\u001b[39;00m\u001b[38;5;124m, value of A: \u001b[39m\u001b[38;5;132;01m{\u001b[39;00mA\u001b[38;5;132;01m}\u001b[39;00m\u001b[38;5;124m\"\u001b[39m)\n\u001b[1;32m----> 4\u001b[0m A \u001b[38;5;241m=\u001b[39m \u001b[38;5;28;43mint\u001b[39;49m\u001b[43m(\u001b[49m\u001b[43mA\u001b[49m\u001b[43m)\u001b[49m\n\u001b[0;32m      5\u001b[0m \u001b[38;5;28mprint\u001b[39m(\u001b[38;5;124mf\u001b[39m\u001b[38;5;124m\"\u001b[39m\u001b[38;5;124mdata type after: \u001b[39m\u001b[38;5;132;01m{\u001b[39;00m\u001b[38;5;28mtype\u001b[39m(A)\u001b[38;5;132;01m}\u001b[39;00m\u001b[38;5;124m, value of A: \u001b[39m\u001b[38;5;132;01m{\u001b[39;00mA\u001b[38;5;132;01m}\u001b[39;00m\u001b[38;5;124m\"\u001b[39m)\n",
      "\u001b[1;31mValueError\u001b[0m: invalid literal for int() with base 10: ''"
     ]
    }
   ],
   "source": [
    "# empty string to int\n",
    "A = \"\"\n",
    "print(f\"data type before: {type(A)}, value of A: {A}\")\n",
    "A = int(A)\n",
    "print(f\"data type after: {type(A)}, value of A: {A}\")"
   ]
  },
  {
   "cell_type": "code",
   "execution_count": 18,
   "id": "5fda3e65",
   "metadata": {},
   "outputs": [
    {
     "name": "stdout",
     "output_type": "stream",
     "text": [
      "data type before: <class 'str'>, value of A: \n",
      "data type after: <class 'bool'>, value of A: False\n"
     ]
    }
   ],
   "source": [
    "# empty string to int\n",
    "A = \"\"\n",
    "print(f\"data type before: {type(A)}, value of A: {A}\")\n",
    "A = bool(A)\n",
    "print(f\"data type after: {type(A)}, value of A: {A}\")"
   ]
  },
  {
   "cell_type": "markdown",
   "id": "e04d6e61",
   "metadata": {},
   "source": [
    "## Take input A and B and print their sum, mul, div, square of the nos."
   ]
  },
  {
   "cell_type": "code",
   "execution_count": 24,
   "id": "f26ad786",
   "metadata": {},
   "outputs": [
    {
     "name": "stdout",
     "output_type": "stream",
     "text": [
      " Enter First Number : 10\n",
      " Enter Second Number : 20\n",
      "\n",
      "Sum -> 10.0 + 20.0 = 30.0\n",
      "Mult -> 10.0 x 20.0 = 200.0\n",
      "Div -> 10.0 / 20.0 = 0.5\n",
      "Square -> of 10.0 = 100.0 and of 20.0 = 400.0\n",
      "\n"
     ]
    }
   ],
   "source": [
    "A = float(input(\" Enter First Number : \"))\n",
    "B = float(input(\" Enter Second Number : \"))\n",
    "\n",
    "print(f\"\"\"\n",
    "Sum -> {A} + {B} = {A+B}\n",
    "Mult -> {A} x {B} = {A*B}\n",
    "Div -> {A} / {B} = {A/B}\n",
    "Square -> of {A} = {A*A} and of {B} = {B*B}\n",
    "\"\"\")"
   ]
  },
  {
   "cell_type": "code",
   "execution_count": 25,
   "id": "0e674f5a",
   "metadata": {},
   "outputs": [
    {
     "name": "stdout",
     "output_type": "stream",
     "text": [
      " Enter First Number : 10.5\n",
      " Enter Second Number : 11.5\n",
      "\n",
      "Sum -> 10.5 + 11.5 = 22.0\n",
      "Mult -> 10.5 x 11.5 = 120.75\n",
      "Div -> 10.5 / 11.5 = 0.9130434782608695\n",
      "Square -> of 10.5 = 110.25 and of 11.5 = 132.25\n",
      "\n"
     ]
    }
   ],
   "source": [
    "A = float(input(\" Enter First Number : \"))\n",
    "B = float(input(\" Enter Second Number : \"))\n",
    "\n",
    "print(f\"\"\"\n",
    "Sum -> {A} + {B} = {A+B}\n",
    "Mult -> {A} x {B} = {A*B}\n",
    "Div -> {A} / {B} = {A/B}\n",
    "Square -> of {A} = {A*A} and of {B} = {B*B}\n",
    "\"\"\")"
   ]
  },
  {
   "cell_type": "markdown",
   "id": "421554b1",
   "metadata": {},
   "source": [
    "## Create email ids with the user inputs. in the following format - lastname.firstname@gmail.com\n"
   ]
  },
  {
   "cell_type": "code",
   "execution_count": 27,
   "id": "f255a2b2",
   "metadata": {},
   "outputs": [
    {
     "name": "stdout",
     "output_type": "stream",
     "text": [
      "Please enter First Name: manu\n",
      "Please enter Last Name: madhav\n",
      "\n",
      "\n",
      "Your email id is madhav.manu@gmail.com\n",
      "\n",
      "\n"
     ]
    }
   ],
   "source": [
    "FirstName = input(\"Please enter First Name: \")\n",
    "LastName = input(\"Please enter Last Name: \")\n",
    "\n",
    "print(f\"\"\"\n",
    "\n",
    "Your email id is {LastName}.{FirstName}@gmail.com\n",
    "\n",
    "\"\"\")"
   ]
  },
  {
   "cell_type": "markdown",
   "id": "98a23f08",
   "metadata": {},
   "source": [
    "## Try to print the following lines -Hi I'm Sunny \\My address is 22\\3 \\I earn 20$ daily.\n"
   ]
  },
  {
   "cell_type": "code",
   "execution_count": 28,
   "id": "2723b4c9",
   "metadata": {},
   "outputs": [
    {
     "name": "stdout",
     "output_type": "stream",
     "text": [
      "Enter your name: Sunny\n",
      "Enter your address: 22/3\n",
      "How much do you earn daily: 20\n",
      "\n",
      "Hi, I m  Sunny\n",
      "My address is  22/3\n",
      "I earn 20$ daily\n",
      "\n"
     ]
    }
   ],
   "source": [
    "name = input(\"Enter your name: \")\n",
    "Address = input(\"Enter your address: \")\n",
    "daily_earn = input(\"How much do you earn daily($): \")\n",
    "\n",
    "print(f\"\"\"\n",
    "Hi, I m  {name}\n",
    "My address is  {place}\n",
    "I earn {daily_earn}$ daily\n",
    "\"\"\")"
   ]
  },
  {
   "cell_type": "markdown",
   "id": "8a90eb77",
   "metadata": {},
   "source": [
    "## Take user input (name, address, date of birth etc) to fill a form for your college and print their email IDs\n"
   ]
  },
  {
   "cell_type": "code",
   "execution_count": 40,
   "id": "6aa438eb",
   "metadata": {},
   "outputs": [
    {
     "name": "stdout",
     "output_type": "stream",
     "text": [
      "Please enter First Name: Manu\n",
      "Please enter Last Name: Madhav\n",
      "Please Enter your address: 10/22\n",
      "Please enter your date of birth is (in mm/dd/yy): 00/00/00\n",
      "\n",
      "Your Name is Manu Madhav\n",
      "Your Address is 10/22\n",
      "Your DOB is 00/00/00\n",
      "Your email id is Manu.Madhav@college.edu\n",
      "\n",
      "\n"
     ]
    }
   ],
   "source": [
    "FirstName = input(\"Please enter First Name: \")\n",
    "LastName = input(\"Please enter Last Name: \")\n",
    "Address = input(\"Please Enter your address: \")\n",
    "DOB = input(\"Please enter your date of birth is (in mm/dd/yy): \")\n",
    "\n",
    "print(f\"\"\"\n",
    "Your Name is {FirstName} {LastName}\n",
    "Your Address is {Address}\n",
    "Your DOB is {DOB}\n",
    "Your email id is {FirstName}.{LastName}@college.edu\n",
    "\n",
    "\"\"\")"
   ]
  },
  {
   "cell_type": "markdown",
   "id": "3647fa72",
   "metadata": {},
   "source": [
    "## Convert the following - \"22.4\" into integer \"22\" into complex no."
   ]
  },
  {
   "cell_type": "code",
   "execution_count": 30,
   "id": "e31af08e",
   "metadata": {},
   "outputs": [
    {
     "name": "stdout",
     "output_type": "stream",
     "text": [
      "<class 'int'>\n",
      "22\n"
     ]
    }
   ],
   "source": [
    "x = int(float(\"22.4\"))\n",
    "print(type(x))\n",
    "print(x)"
   ]
  },
  {
   "cell_type": "code",
   "execution_count": 37,
   "id": "7fcebbf2",
   "metadata": {},
   "outputs": [
    {
     "name": "stdout",
     "output_type": "stream",
     "text": [
      "Complex Number with \"22\" is (22+0j)\n",
      "Real Number of (22+0j) is 22.0\n",
      "Imaginary Number of (22+0j) is0.0\n"
     ]
    }
   ],
   "source": [
    "x = int(\"22\")+0j\n",
    "type(x)\n",
    "print(f\"Complex Number with \\\"22\\\" is {x}\")\n",
    "print(f\"Real Number of {x} is {x.real}\")\n",
    "print(f\"Imaginary Number of {x} is{x.imag}\")\n"
   ]
  },
  {
   "cell_type": "code",
   "execution_count": null,
   "id": "613e376e",
   "metadata": {},
   "outputs": [],
   "source": []
  }
 ],
 "metadata": {
  "kernelspec": {
   "display_name": "Python 3 (ipykernel)",
   "language": "python",
   "name": "python3"
  },
  "language_info": {
   "codemirror_mode": {
    "name": "ipython",
    "version": 3
   },
   "file_extension": ".py",
   "mimetype": "text/x-python",
   "name": "python",
   "nbconvert_exporter": "python",
   "pygments_lexer": "ipython3",
   "version": "3.9.12"
  },
  "toc": {
   "base_numbering": 1,
   "nav_menu": {},
   "number_sections": true,
   "sideBar": true,
   "skip_h1_title": false,
   "title_cell": "Table of Contents",
   "title_sidebar": "Contents",
   "toc_cell": false,
   "toc_position": {},
   "toc_section_display": true,
   "toc_window_display": false
  },
  "varInspector": {
   "cols": {
    "lenName": 16,
    "lenType": 16,
    "lenVar": 40
   },
   "kernels_config": {
    "python": {
     "delete_cmd_postfix": "",
     "delete_cmd_prefix": "del ",
     "library": "var_list.py",
     "varRefreshCmd": "print(var_dic_list())"
    },
    "r": {
     "delete_cmd_postfix": ") ",
     "delete_cmd_prefix": "rm(",
     "library": "var_list.r",
     "varRefreshCmd": "cat(var_dic_list()) "
    }
   },
   "types_to_exclude": [
    "module",
    "function",
    "builtin_function_or_method",
    "instance",
    "_Feature"
   ],
   "window_display": false
  }
 },
 "nbformat": 4,
 "nbformat_minor": 5
}
