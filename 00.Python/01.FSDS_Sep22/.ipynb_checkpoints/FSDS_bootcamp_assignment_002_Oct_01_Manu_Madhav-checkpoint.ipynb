{
 "cells": [
  {
   "cell_type": "markdown",
   "metadata": {
    "id": "cyOfbWCdOjEr"
   },
   "source": [
    "# ASSIGNMENTS - Compulsory\n",
    "## Send it before 0000 hrs IST or 12 AM Wednesday\n",
    "\n",
    "## NOTE: Evaluation will be done before next class.\n",
    "\n",
    "## HOW TO SUBMIT: -\n",
    "Download this notebook, Solve it and upload in the google form given in the mail."
   ]
  },
  {
   "cell_type": "markdown",
   "metadata": {
    "id": "GT4IytkJMNa-"
   },
   "source": [
    "\n",
    "1. What is indentation error? Why indentation is important? Give one simple example?\n",
    "\n",
    "2. Correct the following code and write the comment where you made the correction?\n",
    "\n",
    "  ```python\n",
    "  class_started = bool(input(\"Hey friend, is class started?: [0-False/1-True]\"))\n",
    "\n",
    "  if class_started:\n",
    "      print(\"Since class started...\")\n",
    "      print(\"Lets concentrate\")\n",
    "  else:\n",
    "      print(\"Since class is not started...\")\n",
    "      print(\"let's revise\")    \n",
    "  ```\n",
    "\n",
    "  **HINT:** Refer your data type conversion class\n",
    "\n",
    "3. Use if else condition to verify that dataype of `input()` method in python is always string.\n",
    "\n",
    "4. Take 3 variables and assign integer values to them. Find the largest variable, by only using the if and else conditions.\n",
    "\n",
    "\n",
    "5. What would be the solution?\n",
    "    1. True\n",
    "    2. False\n",
    "\n",
    "    ```python\n",
    "    a = 6\n",
    "    b = 10\n",
    "    print( not ( not a == 10 or not b == 10) )\n",
    "    ```\n",
    "    \n",
    "6. Find the answer as well as find out the reason behind the result? -\n",
    "    - case 1:\n",
    "        ```python\n",
    "        A = 5.0\n",
    "        B = 10/2\n",
    "        print(A is B)\n",
    "        ```\n",
    "    - case 2:\n",
    "        ```python\n",
    "        A = 5.0\n",
    "        B = int(10/2)\n",
    "        print(A is B)\n",
    "        ```\n",
    "    - case 3:\n",
    "        ```python\n",
    "        A = 5.0\n",
    "        B = float(10/2)\n",
    "        print(A is B)\n",
    "        ```"
   ]
  },
  {
   "cell_type": "markdown",
   "metadata": {
    "id": "a_4kbBVWNY-4"
   },
   "source": [
    "### Try to understand the following examples and answer the question based on it - \n",
    "    \n",
    "**Arithmatic Operators**\n",
    "\n",
    "|Operation|Meaning|\n",
    "|:-:|:-:|\n",
    "| **+** |addition|\n",
    "| **-** |subtraction|\n",
    "| **\\*** |multiplication|\n",
    "| **/** |true division|\n",
    "| **//** |integer division|\n",
    "| **%** |the modulo operator|\n",
    "\n",
    "\n",
    "Here `+`, `-`, `*`, `/` are regular arithmatic operators. Lets look at the `//` and `%` operators\n",
    "\n",
    "Usecase or examples - \n",
    "    \n",
    "```python\n",
    "var_a = 5\n",
    "var_b = 25\n",
    "integer_division = var_b // var_a\n",
    "print(f\"integer division: {var_b}/{var_a}={integer_division}\")\n",
    "```\n",
    "\n",
    "OUTPUT: integer division: 25/5=5\n",
    "\n",
    "```python\n",
    "var_a = 3\n",
    "var_b = 25\n",
    "integer_division = var_b // var_a\n",
    "print(f\"integer division: {var_b}/{var_a}={integer_division}\")\n",
    "```\n",
    "\n",
    "OUTPUT: integer division: 25/3=8\n",
    "\n",
    "```python\n",
    "var_a = 5\n",
    "var_b = 25\n",
    "remainder = var_b % var_a\n",
    "print(f\"remainder: {var_b}/{var_a} is {remainder}\")\n",
    "```\n",
    "\n",
    "OUTPUT: remainder: 25/5 is 0\n",
    "\n",
    "```python\n",
    "var_a = 3\n",
    "var_b = 25\n",
    "remainder = var_b % var_a\n",
    "print(f\"remainder: {var_b}/{var_a} is {remainder}\")\n",
    "```\n",
    "\n",
    "OUTPUT: remainder: 25/3 is 1\n",
    "\n"
   ]
  },
  {
   "cell_type": "markdown",
   "metadata": {
    "id": "v288WPlMNxmM"
   },
   "source": [
    "### Answer below questions on the above theory - \n",
    "\n",
    "7. Write a program that asks the user to enter a number. You should print out a message to the user, either “That number is divisible by either 3 or 5”, or “That number is not divisible by either 3 or 5”. Be sure to consider the data type of the input you are taking in from the user. Use a single if/else block to solve this problem.\n",
    "\n",
    "8. Take user input for length and width. Then calculate the area of rectangle. Also print as per length and width whether its a square of rectangle.\n",
    "\n",
    "9. Take two variable radius_1 and radius_2 and calculate the area of circle_1 and circle_2. Also print which circle has large area. If area is equal then print area is equal.\n",
    "\n",
    "10. Check whether a year is leap year or not. Use nested if...else to solve this problem. A leap year is exactly divisible by 4 except for century years (years ending with 00). The century year is a leap year only if it is perfectly divisible by 400."
   ]
  },
  {
   "cell_type": "markdown",
   "metadata": {
    "id": "mA0CbzPU3wRW"
   },
   "source": []
  },
  {
   "cell_type": "code",
   "execution_count": null,
   "metadata": {
    "id": "XumyqFp6MHnv"
   },
   "outputs": [],
   "source": []
  },
  {
   "cell_type": "markdown",
   "metadata": {
    "id": "Eic0ZXrz36Ln"
   },
   "source": [
    "**What is indentation error? Why indentation is important? Give one simple example?**\n",
    "\n",
    "Indentation error is caused due to incorrect space or tab added. \n",
    "Unlike many other programming language condition statement or loop contents are not identified based on brackets, instead on tabs or space. Also it is important to note that either tab or space has to be used. Else it will result indentation error.\n",
    "\n",
    "\n"
   ]
  },
  {
   "cell_type": "code",
   "execution_count": 2,
   "metadata": {
    "colab": {
     "base_uri": "https://localhost:8080/"
    },
    "id": "o3kB3-4a7dSO",
    "outputId": "47bef308-f724-4833-9c2f-18f8e304ee42"
   },
   "outputs": [
    {
     "name": "stdout",
     "output_type": "stream",
     "text": [
      " indentation_error\n",
      " indentation_error\n"
     ]
    }
   ],
   "source": [
    "indentation_error = True\n",
    "if indentation_error:\n",
    "  print(\" indentation_error\")\n",
    "if indentation_error:\n",
    "  print(\" indentation_error\")"
   ]
  },
  {
   "cell_type": "code",
   "execution_count": 3,
   "metadata": {
    "colab": {
     "base_uri": "https://localhost:8080/",
     "height": 130
    },
    "id": "iiFWlPjY8qr9",
    "outputId": "032b1178-a56d-4f45-dfea-5a4b767cd025"
   },
   "outputs": [
    {
     "ename": "IndentationError",
     "evalue": "ignored",
     "output_type": "error",
     "traceback": [
      "\u001b[0;36m  File \u001b[0;32m\"<ipython-input-3-104937b10653>\"\u001b[0;36m, line \u001b[0;32m5\u001b[0m\n\u001b[0;31m    print(\" indentation_error\")\u001b[0m\n\u001b[0m        ^\u001b[0m\n\u001b[0;31mIndentationError\u001b[0m\u001b[0;31m:\u001b[0m expected an indented block\n"
     ]
    }
   ],
   "source": [
    "indentation_error = True\n",
    "if indentation_error:\n",
    "  print(\" indentation_error\")\n",
    "if indentation_error:\n",
    "print(\" indentation_error\")"
   ]
  },
  {
   "cell_type": "markdown",
   "metadata": {
    "id": "dA3CGZPY84xE"
   },
   "source": [
    "2. Correct the following code and write the comment where you made the correction?\n",
    "\n",
    "  ```python\n",
    "  class_started = bool(input(\"Hey friend, is class started?: [0-False/1-True]\"))\n",
    "\n",
    "  if class_started:\n",
    "      print(\"Since class started...\")\n",
    "      print(\"Lets concentrate\")\n",
    "  else:\n",
    "      print(\"Since class is not started...\")\n",
    "      print(\"let's revise\")    \n",
    "  ```\n",
    "\n",
    "  **HINT:** Refer your data type conversion class"
   ]
  },
  {
   "cell_type": "code",
   "execution_count": 5,
   "metadata": {
    "colab": {
     "base_uri": "https://localhost:8080/"
    },
    "id": "J8f0sB2h8IOz",
    "outputId": "11593060-0230-485b-9e75-937578cce2ce"
   },
   "outputs": [
    {
     "name": "stdout",
     "output_type": "stream",
     "text": [
      "Hey friend, is class started?: [0-False/1-True]1\n",
      "Since class started...\n",
      "Lets concentrate\n"
     ]
    }
   ],
   "source": [
    "class_started = int(input(\"Hey friend, is class started?: [0-False/1-True]\"))\n",
    "\n",
    "class_started = bool(class_started)\n",
    "\n",
    "if class_started:\n",
    "  print(\"Since class started...\")\n",
    "  print(\"Lets concentrate\")\n",
    "else:\n",
    "  print(\"Since class is not started...\")\n",
    "  print(\"let's revise\")    \n"
   ]
  },
  {
   "cell_type": "code",
   "execution_count": 7,
   "metadata": {
    "colab": {
     "base_uri": "https://localhost:8080/"
    },
    "id": "brRFGp969fHS",
    "outputId": "57212f21-4a6d-4302-c878-bf720ffc36d7"
   },
   "outputs": [
    {
     "name": "stdout",
     "output_type": "stream",
     "text": [
      "Hey friend, is class started?: ['Press Enter' -False/ 'Any Char'-True]0\n",
      "Since class started...\n",
      "Lets concentrate\n"
     ]
    }
   ],
   "source": [
    "class_started = bool(input(\"Hey friend, is class started?: ['Press Enter' -False/ 'Any Char'-True]\"))\n",
    "\n",
    "if class_started:\n",
    "  print(\"Since class started...\")\n",
    "  print(\"Lets concentrate\")\n",
    "else:\n",
    "  print(\"Since class is not started...\")\n",
    "  print(\"let's revise\") "
   ]
  },
  {
   "cell_type": "markdown",
   "metadata": {
    "id": "bldJQUVK981T"
   },
   "source": [
    "3. Use if else condition to verify that dataype of input() method in python is always string."
   ]
  },
  {
   "cell_type": "code",
   "execution_count": 13,
   "metadata": {
    "colab": {
     "base_uri": "https://localhost:8080/"
    },
    "id": "c7nuBqph-Gki",
    "outputId": "9634a742-67f8-4c00-85fe-cf3e39eced45"
   },
   "outputs": [
    {
     "name": "stdout",
     "output_type": "stream",
     "text": [
      " Enter input datasdfgsdfg\n",
      " Entered data is string\n"
     ]
    }
   ],
   "source": [
    "data_text = input( \" Enter input data\")\n",
    "\n",
    "if type(data_text) == str:\n",
    "  print(\" Entered data is string\")\n",
    "else:\n",
    "  print(\" Entered data is not string\")"
   ]
  },
  {
   "cell_type": "markdown",
   "metadata": {
    "id": "IxEmaAvkBueS"
   },
   "source": [
    "4. Take 3 variables and assign integer values to them. Find the largest \n",
    "variable, by only using the if and else conditions"
   ]
  },
  {
   "cell_type": "code",
   "execution_count": 7,
   "metadata": {
    "colab": {
     "base_uri": "https://localhost:8080/"
    },
    "id": "Qifa4rz0hXTl",
    "outputId": "89937f84-c189-478d-e46a-603cc53ed8b3"
   },
   "outputs": [
    {
     "name": "stdout",
     "output_type": "stream",
     "text": [
      " Enter First Number: 11\n",
      " Enter Second Number: 9\n",
      " Enter Third Number: 8\n",
      " Largest value is 11 out of 11 , 9 and 8\n"
     ]
    }
   ],
   "source": [
    "num1 = int(input(\" Enter First Number: \"))\n",
    "num2 = int(input(\" Enter Second Number: \"))\n",
    "num3 = int(input(\" Enter Third Number: \"))\n",
    "lar_var =0\n",
    "\n",
    "if num1 >num2:\n",
    "  if num1 > num3:\n",
    "    lar_var = num1\n",
    "  if num3>num1:\n",
    "    lar_var = num3\n",
    "elif num3>num2:\n",
    "  lar_var = num3\n",
    "else:\n",
    "    lar_var = num2\n",
    "print(f\" Largest value is {lar_var} out of {num1} , {num2} and {num3}\")"
   ]
  },
  {
   "cell_type": "markdown",
   "metadata": {
    "id": "GHODy05dh3jR"
   },
   "source": [
    "5. What would be the solution?\n",
    "    1. True\n",
    "    2. False\n",
    "\n",
    "    ```python\n",
    "    a = 6\n",
    "    b = 10\n",
    "    print( not ( not a == 10 or not b == 10) )\n",
    "    ```\n",
    "    \n"
   ]
  },
  {
   "cell_type": "code",
   "execution_count": 8,
   "metadata": {
    "colab": {
     "base_uri": "https://localhost:8080/"
    },
    "id": "bGfo005QiB7M",
    "outputId": "2b526d73-bbb6-42bc-fcba-09af1b51664a"
   },
   "outputs": [
    {
     "name": "stdout",
     "output_type": "stream",
     "text": [
      "False\n"
     ]
    }
   ],
   "source": [
    "a = 6\n",
    "b = 10\n",
    "print( not ( not a == 10 or not b == 10) )\n"
   ]
  },
  {
   "cell_type": "markdown",
   "metadata": {
    "id": "btQ_GLLFijhD"
   },
   "source": [
    "> Answer\n",
    "\n",
    "**not ( not a == 10 or not b == 10)**\n",
    "\n",
    "* b == 10 => True\n",
    "* not b == 10 => False\n",
    "* a == 10 => False\n",
    "* not a == 10 => True\n",
    "* True or False => True\n",
    "* not(True) => False\n",
    "\n"
   ]
  },
  {
   "cell_type": "markdown",
   "metadata": {
    "id": "0TCZKmx_h8sv"
   },
   "source": [
    "6. Find the answer as well as find out the reason behind the result? -\n",
    "    - case 1:\n",
    "        ```python\n",
    "        A = 5.0\n",
    "        B = 10/2\n",
    "        print(A is B)\n",
    "        ```\n",
    "    - case 2:\n",
    "        ```python\n",
    "        A = 5.0\n",
    "        B = int(10/2)\n",
    "        print(A is B)\n",
    "        ```\n",
    "    - case 3:\n",
    "        ```python\n",
    "        A = 5.0\n",
    "        B = float(10/2)\n",
    "        print(A is B)\n",
    "        ```"
   ]
  },
  {
   "cell_type": "code",
   "execution_count": 12,
   "metadata": {
    "colab": {
     "base_uri": "https://localhost:8080/"
    },
    "id": "niK8STdLkODp",
    "outputId": "c9a8f4c0-6c62-483b-a518-5608f37f2881"
   },
   "outputs": [
    {
     "name": "stdout",
     "output_type": "stream",
     "text": [
      "False\n",
      "5.0 <class 'float'> 139849193488080\n",
      "5.0 <class 'float'> 139849193918000\n",
      " Stored in seperate memmory location\n"
     ]
    }
   ],
   "source": [
    "  A = 5.0\n",
    "  B = 10/2\n",
    "  print(A is B)\n",
    "  print(A, type(A), id(A))\n",
    "  print(B, type(B), id(B))\n",
    "  if id(A) != id(B):\n",
    "    print(\" Stored in seperate memmory location\")"
   ]
  },
  {
   "cell_type": "code",
   "execution_count": 17,
   "metadata": {
    "colab": {
     "base_uri": "https://localhost:8080/"
    },
    "id": "f40UWrknkO6M",
    "outputId": "62bc7e9f-7cf4-421b-fd65-672dd73c25dd"
   },
   "outputs": [
    {
     "name": "stdout",
     "output_type": "stream",
     "text": [
      "False\n",
      "5.0 <class 'float'> 139849194140688\n",
      "5 <class 'int'> 11122720\n",
      " Different data types and memmory location\n"
     ]
    }
   ],
   "source": [
    "  A = 5.0\n",
    "  B = int(10/2)\n",
    "  print(A is B)\n",
    "  print(A, type(A), id(A))\n",
    "  print(B, type(B), id(B))\n",
    "  if type(A) != type(B) and id(A) != id(B):\n",
    "    print(\" Different data types and memmory location\")"
   ]
  },
  {
   "cell_type": "code",
   "execution_count": 20,
   "metadata": {
    "colab": {
     "base_uri": "https://localhost:8080/"
    },
    "id": "jWzcg_Q9lbXb",
    "outputId": "22267ba7-cc31-4091-90c3-0df2a9376829"
   },
   "outputs": [
    {
     "name": "stdout",
     "output_type": "stream",
     "text": [
      "False\n",
      "5.0 <class 'float'> 139849194142096\n",
      "5.0 <class 'float'> 139849194142608\n",
      " Different memmory location\n"
     ]
    }
   ],
   "source": [
    "  A = 5.0\n",
    "  B = float(10/2)\n",
    "  print(A is B)\n",
    "  print(A, type(A), id(A))\n",
    "  print(B, type(B), id(B))\n",
    "  if id(A) != id(B):\n",
    "    print(\" Different memmory location\")"
   ]
  },
  {
   "cell_type": "code",
   "execution_count": 24,
   "metadata": {
    "colab": {
     "base_uri": "https://localhost:8080/"
    },
    "id": "c65yCnPVls1M",
    "outputId": "ae26e7a0-24b0-44ae-a508-f21620aa5e9b"
   },
   "outputs": [
    {
     "name": "stdout",
     "output_type": "stream",
     "text": [
      "True\n",
      "5 <class 'int'> 11122720\n",
      "5 <class 'int'> 11122720\n",
      " Value stored in same memmory location and both variable ponting to a single value\n"
     ]
    }
   ],
   "source": [
    "  A = int(5)\n",
    "  B = int(5)\n",
    "  print(A is B)\n",
    "  print(A, type(A), id(A))\n",
    "  print(B, type(B), id(B))\n",
    "  if id(A) == id(B):\n",
    "    print(\" Value stored in same memmory location and both variable ponting to a single value\")"
   ]
  },
  {
   "cell_type": "markdown",
   "metadata": {
    "id": "gzmlHWhombqI"
   },
   "source": [
    "### Try to understand the following examples and answer the question based on it - \n",
    "    \n",
    "**Arithmatic Operators**\n",
    "\n",
    "|Operation|Meaning|\n",
    "|:-:|:-:|\n",
    "| **+** |addition|\n",
    "| **-** |subtraction|\n",
    "| **\\*** |multiplication|\n",
    "| **/** |true division|\n",
    "| **//** |integer division|\n",
    "| **%** |the modulo operator|\n",
    "\n",
    "\n",
    "Here `+`, `-`, `*`, `/` are regular arithmatic operators. Lets look at the `//` and `%` operators\n",
    "\n",
    "Usecase or examples - \n",
    "    \n",
    "```python\n",
    "var_a = 5\n",
    "var_b = 25\n",
    "integer_division = var_b // var_a\n",
    "print(f\"integer division: {var_b}/{var_a}={integer_division}\")\n",
    "```\n",
    "\n",
    "OUTPUT: integer division: 25/5=5\n",
    "\n",
    "```python\n",
    "var_a = 3\n",
    "var_b = 25\n",
    "integer_division = var_b // var_a\n",
    "print(f\"integer division: {var_b}/{var_a}={integer_division}\")\n",
    "```\n",
    "\n",
    "OUTPUT: integer division: 25/3=8\n",
    "\n",
    "```python\n",
    "var_a = 5\n",
    "var_b = 25\n",
    "remainder = var_b % var_a\n",
    "print(f\"remainder: {var_b}/{var_a} is {remainder}\")\n",
    "```\n",
    "\n",
    "OUTPUT: remainder: 25/5 is 0\n",
    "\n",
    "```python\n",
    "var_a = 3\n",
    "var_b = 25\n",
    "remainder = var_b % var_a\n",
    "print(f\"remainder: {var_b}/{var_a} is {remainder}\")\n",
    "```\n",
    "\n",
    "OUTPUT: remainder: 25/3 is 1\n",
    "\n"
   ]
  },
  {
   "cell_type": "markdown",
   "metadata": {
    "id": "7KyGPGfvmjCi"
   },
   "source": [
    "### Answer below questions on the above theory - \n",
    "\n",
    "7. Write a program that asks the user to enter a number. You should print out a message to the user, either “That number is divisible by either 3 or 5”, or “That number is not divisible by either 3 or 5”. Be sure to consider the data type of the input you are taking in from the user. Use a single if/else block to solve this problem.\n"
   ]
  },
  {
   "cell_type": "code",
   "execution_count": 28,
   "metadata": {
    "colab": {
     "base_uri": "https://localhost:8080/"
    },
    "id": "2e4szVhrmt12",
    "outputId": "26cd2f35-8636-4390-d2a6-56f1caf05fae"
   },
   "outputs": [
    {
     "name": "stdout",
     "output_type": "stream",
     "text": [
      "Enter the whole number : 15\n",
      "That number 15 is divisible by either 3 or 5\n"
     ]
    }
   ],
   "source": [
    "num1 = int( input(\"Enter the  number : \"))\n",
    "\n",
    "if num1 % 3 ==0 or num1 % 5 ==0:\n",
    "  print(f\"That number {num1} is divisible by either 3 or 5\")\n",
    "else:\n",
    "  print(f\"That number {num1} is NOT divisible by either 3 or 5\")"
   ]
  },
  {
   "cell_type": "markdown",
   "metadata": {
    "id": "J5J49XE7mpDa"
   },
   "source": [
    "### Answer below questions on the above theory - \n",
    "\n",
    "\n",
    "\n",
    "8. Take user input for length and width. Then calculate the area of rectangle. Also print as per length and width whether its a square of rectangle.\n",
    "\n"
   ]
  },
  {
   "cell_type": "code",
   "execution_count": 33,
   "metadata": {
    "colab": {
     "base_uri": "https://localhost:8080/"
    },
    "id": "n0yvH9nmn4l2",
    "outputId": "24eaf806-a7d0-4b83-d0af-261c1de21309"
   },
   "outputs": [
    {
     "name": "stdout",
     "output_type": "stream",
     "text": [
      "Enter the length : 6\n",
      "Enter the width : 7\n",
      "The are of rectangle with length 6.0 and width 7.0 is 42.0 \n"
     ]
    }
   ],
   "source": [
    "len = float( input(\"Enter the length : \"))\n",
    "wid = float( input(\"Enter the width : \"))\n",
    "\n",
    "area = (len * wid)\n",
    "if len == wid :\n",
    "  print(f\"The are of squre with side {len} is {area} \")\n",
    "else:\n",
    "  print(f\"The are of rectangle with length {len} and width {wid} is {area} \")\n"
   ]
  },
  {
   "cell_type": "markdown",
   "metadata": {
    "id": "PtjRjzmCmphD"
   },
   "source": [
    "### Answer below questions on the above theory - \n",
    "\n",
    "\n",
    "\n",
    "9. Take two variable radius_1 and radius_2 and calculate the area of circle_1 and circle_2. Also print which circle has large area. If area is equal then print area is equal.\n"
   ]
  },
  {
   "cell_type": "code",
   "execution_count": 40,
   "metadata": {
    "colab": {
     "base_uri": "https://localhost:8080/"
    },
    "id": "-Som2CXyqaNU",
    "outputId": "6de3ce0a-b295-411f-eb2f-77d1638d11c8"
   },
   "outputs": [
    {
     "name": "stdout",
     "output_type": "stream",
     "text": [
      "Enter the Radii of first circle in mm : 9\n",
      "Enter the Radii of second circle in mm : 8\n",
      "Area of First circle is 254.34 mm2 and it is larger than area of second circle  which is 200.96 mm2 \n"
     ]
    }
   ],
   "source": [
    "radius_1 = float( input(\"Enter the Radii of first circle in mm : \"))\n",
    "radius_2 = float( input(\"Enter the Radii of second circle in mm : \"))\n",
    "\n",
    "area1 = 3.14 * radius_1**2\n",
    "area2 = 3.14 * radius_2**2\n",
    "\n",
    "if area1 == area2:\n",
    "  print(f\"Both circles have equal area {area1}\")\n",
    "elif area1>area2:\n",
    "  print(f\"Area of First circle is {area1} mm2 and it is larger than area of second circle  which is {area2} mm2 \")\n",
    "else:\n",
    "  print(f\"Area of Second circle is {area2} mm2 and it is larger than area of first circle which is {area1} mm2 \")"
   ]
  },
  {
   "cell_type": "markdown",
   "metadata": {
    "id": "pLGcPWxtmp7q"
   },
   "source": [
    "### Answer below questions on the above theory - \n",
    "\n",
    "\n",
    "10. Check whether a year is leap year or not. Use nested if...else to solve this problem. A leap year is exactly divisible by 4 except for century years (years ending with 00). The century year is a leap year only if it is perfectly divisible by 400."
   ]
  },
  {
   "cell_type": "code",
   "execution_count": 57,
   "metadata": {
    "colab": {
     "base_uri": "https://localhost:8080/"
    },
    "id": "_RXDgCGCxyxZ",
    "outputId": "28efb1dc-be0a-46aa-ba70-58a330c9dd35"
   },
   "outputs": [
    {
     "name": "stdout",
     "output_type": "stream",
     "text": [
      " Enter the year to check : 1600\n",
      " The entered year 1600 is a century Leap year\n"
     ]
    }
   ],
   "source": [
    "year = int(input (\" Enter the year to check : \"))\n",
    "\n",
    "if year % 100 == 0:\n",
    "  if year % 400 == 0 :\n",
    "    print(f\" The entered year {year} is a century Leap year\")\n",
    "  else:\n",
    "    print(f\" The entered year  {year} is a  century year but not a Leap year\")\n",
    "elif year % 4 ==0 :\n",
    "  print(f\" The entered year  {year} is a Leap year\")\n",
    "else:\n",
    "  print(f\" The entered year  {year} is a not a Leap year\")"
   ]
  }
 ],
 "metadata": {
  "colab": {
   "collapsed_sections": [],
   "provenance": []
  },
  "kernelspec": {
   "display_name": "Python 3 (ipykernel)",
   "language": "python",
   "name": "python3"
  },
  "language_info": {
   "codemirror_mode": {
    "name": "ipython",
    "version": 3
   },
   "file_extension": ".py",
   "mimetype": "text/x-python",
   "name": "python",
   "nbconvert_exporter": "python",
   "pygments_lexer": "ipython3",
   "version": "3.9.12"
  },
  "toc": {
   "base_numbering": 1,
   "nav_menu": {},
   "number_sections": true,
   "sideBar": true,
   "skip_h1_title": false,
   "title_cell": "Table of Contents",
   "title_sidebar": "Contents",
   "toc_cell": false,
   "toc_position": {},
   "toc_section_display": true,
   "toc_window_display": false
  },
  "varInspector": {
   "cols": {
    "lenName": 16,
    "lenType": 16,
    "lenVar": 40
   },
   "kernels_config": {
    "python": {
     "delete_cmd_postfix": "",
     "delete_cmd_prefix": "del ",
     "library": "var_list.py",
     "varRefreshCmd": "print(var_dic_list())"
    },
    "r": {
     "delete_cmd_postfix": ") ",
     "delete_cmd_prefix": "rm(",
     "library": "var_list.r",
     "varRefreshCmd": "cat(var_dic_list()) "
    }
   },
   "types_to_exclude": [
    "module",
    "function",
    "builtin_function_or_method",
    "instance",
    "_Feature"
   ],
   "window_display": false
  }
 },
 "nbformat": 4,
 "nbformat_minor": 1
}
