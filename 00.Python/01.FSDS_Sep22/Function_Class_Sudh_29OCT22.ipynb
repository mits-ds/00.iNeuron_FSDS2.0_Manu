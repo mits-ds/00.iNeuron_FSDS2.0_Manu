{
 "cells": [
  {
   "cell_type": "code",
   "execution_count": 1,
   "id": "98d529d9-c84e-4000-9fa7-a7186771f1b7",
   "metadata": {},
   "outputs": [],
   "source": [
    "a=\"manu\""
   ]
  },
  {
   "cell_type": "code",
   "execution_count": 2,
   "id": "68cdf671-66f5-495a-8b3a-740d35177b7e",
   "metadata": {},
   "outputs": [
    {
     "data": {
      "text/plain": [
       "4"
      ]
     },
     "execution_count": 2,
     "metadata": {},
     "output_type": "execute_result"
    }
   ],
   "source": [
    "len(a)"
   ]
  },
  {
   "cell_type": "code",
   "execution_count": 3,
   "id": "16a0bc92-8a5b-4525-931e-c63c17e371ec",
   "metadata": {},
   "outputs": [],
   "source": [
    "def test():\n",
    "    pass"
   ]
  },
  {
   "cell_type": "code",
   "execution_count": 4,
   "id": "0aa0a694-f98f-43c0-874b-9dd7aa8cd520",
   "metadata": {},
   "outputs": [],
   "source": [
    "def test1():\n",
    "    print(\"this is my first function in python\")"
   ]
  },
  {
   "cell_type": "code",
   "execution_count": 5,
   "id": "b06bb586-aff3-46cd-ae70-b2e1cf5b073d",
   "metadata": {},
   "outputs": [
    {
     "name": "stdout",
     "output_type": "stream",
     "text": [
      "this is my first function in python\n"
     ]
    }
   ],
   "source": [
    "test1()"
   ]
  },
  {
   "cell_type": "code",
   "execution_count": 6,
   "id": "327b0369-700f-493c-ab49-98c5cd0a8f56",
   "metadata": {},
   "outputs": [
    {
     "name": "stdout",
     "output_type": "stream",
     "text": [
      "this is my first function in python\n"
     ]
    }
   ],
   "source": [
    "b= test1()"
   ]
  },
  {
   "cell_type": "code",
   "execution_count": 7,
   "id": "ee492dbd-5cca-4408-92cf-b5b18e0e2e08",
   "metadata": {},
   "outputs": [],
   "source": [
    "b"
   ]
  },
  {
   "cell_type": "code",
   "execution_count": 8,
   "id": "b3ffcf9c-47e2-48e8-b249-3c81e6330587",
   "metadata": {},
   "outputs": [
    {
     "name": "stdout",
     "output_type": "stream",
     "text": [
      "None\n"
     ]
    }
   ],
   "source": [
    "print(b)"
   ]
  },
  {
   "cell_type": "code",
   "execution_count": 9,
   "id": "908663bb-ce16-44b6-98a0-79f749abf144",
   "metadata": {},
   "outputs": [],
   "source": [
    "# why the above code is not displaying output > print always return none type"
   ]
  },
  {
   "cell_type": "code",
   "execution_count": 10,
   "id": "46adad9f-bbdf-4352-b4d8-583d24d19c19",
   "metadata": {},
   "outputs": [
    {
     "data": {
      "text/plain": [
       "NoneType"
      ]
     },
     "execution_count": 10,
     "metadata": {},
     "output_type": "execute_result"
    }
   ],
   "source": [
    "type(b)"
   ]
  },
  {
   "cell_type": "code",
   "execution_count": 11,
   "id": "6f13b23c-ff94-4ecf-80b8-f4f0b4e4216a",
   "metadata": {},
   "outputs": [],
   "source": [
    "def test2():\n",
    "    return \"this is my first function in python\""
   ]
  },
  {
   "cell_type": "code",
   "execution_count": 12,
   "id": "4245f0fe-af5b-4993-9769-54efe669817c",
   "metadata": {},
   "outputs": [
    {
     "data": {
      "text/plain": [
       "'this is my first function in python'"
      ]
     },
     "execution_count": 12,
     "metadata": {},
     "output_type": "execute_result"
    }
   ],
   "source": [
    "test2()"
   ]
  },
  {
   "cell_type": "code",
   "execution_count": 13,
   "id": "795a84f3-1abf-4e74-8133-ab1fd20da365",
   "metadata": {},
   "outputs": [],
   "source": [
    "c= test2()"
   ]
  },
  {
   "cell_type": "code",
   "execution_count": 14,
   "id": "32a9be79-e590-4c7a-ab71-a464948dbb85",
   "metadata": {},
   "outputs": [
    {
     "data": {
      "text/plain": [
       "'this is my first function in python'"
      ]
     },
     "execution_count": 14,
     "metadata": {},
     "output_type": "execute_result"
    }
   ],
   "source": [
    "c"
   ]
  },
  {
   "cell_type": "code",
   "execution_count": 15,
   "id": "6238712a-9899-42ad-bee2-255d7c482feb",
   "metadata": {},
   "outputs": [
    {
     "data": {
      "text/plain": [
       "str"
      ]
     },
     "execution_count": 15,
     "metadata": {},
     "output_type": "execute_result"
    }
   ],
   "source": [
    "type(c)"
   ]
  },
  {
   "cell_type": "code",
   "execution_count": 16,
   "id": "1dab07b5-d336-45de-b6e8-cc4cb48733cf",
   "metadata": {},
   "outputs": [
    {
     "data": {
      "text/plain": [
       "'manu  >this is my first function in python'"
      ]
     },
     "execution_count": 16,
     "metadata": {},
     "output_type": "execute_result"
    }
   ],
   "source": [
    "\"manu  >\" +c"
   ]
  },
  {
   "cell_type": "code",
   "execution_count": 17,
   "id": "8dd41e4b-3b17-4d2e-b269-2b9eb27066e4",
   "metadata": {},
   "outputs": [],
   "source": [
    "# if return used then we could do additional operations from system."
   ]
  },
  {
   "cell_type": "code",
   "execution_count": 18,
   "id": "8ff37b05-8767-4a4f-987b-b5a29e090afd",
   "metadata": {},
   "outputs": [],
   "source": [
    "def test6():\n",
    "    return 1, 3, [3,4,5,\"manu\"], (3,5,6)"
   ]
  },
  {
   "cell_type": "code",
   "execution_count": 19,
   "id": "2b3fd211-c6d2-4e58-aae1-40a664b9bf2b",
   "metadata": {},
   "outputs": [
    {
     "data": {
      "text/plain": [
       "(1, 3, [3, 4, 5, 'manu'], (3, 5, 6))"
      ]
     },
     "execution_count": 19,
     "metadata": {},
     "output_type": "execute_result"
    }
   ],
   "source": [
    "test6()"
   ]
  },
  {
   "cell_type": "code",
   "execution_count": 20,
   "id": "4aeef5d1-fe35-4e40-bf63-5bd07157d6a5",
   "metadata": {},
   "outputs": [
    {
     "data": {
      "text/plain": [
       "tuple"
      ]
     },
     "execution_count": 20,
     "metadata": {},
     "output_type": "execute_result"
    }
   ],
   "source": [
    "type(test6())"
   ]
  },
  {
   "cell_type": "code",
   "execution_count": 21,
   "id": "07fef4f4-d4af-4e78-982c-d055cd571ea7",
   "metadata": {},
   "outputs": [],
   "source": [
    "# why tuple? : when ever, data are retrived like python by defaul provide data as tuple only.\n",
    "#tuples are immutable and conidered to be advantage"
   ]
  },
  {
   "cell_type": "code",
   "execution_count": 22,
   "id": "a58d0902-c371-4778-a089-94c1ffc2c28d",
   "metadata": {},
   "outputs": [
    {
     "data": {
      "text/plain": [
       "3"
      ]
     },
     "execution_count": 22,
     "metadata": {},
     "output_type": "execute_result"
    }
   ],
   "source": [
    "test6()[1]"
   ]
  },
  {
   "cell_type": "code",
   "execution_count": 23,
   "id": "48c50ce5-a2eb-4758-b9f6-7c91e42b873d",
   "metadata": {},
   "outputs": [],
   "source": [
    "def test7():\n",
    "    return 1, 3, [3,4,5,\"manu\"], (3,5,6)"
   ]
  },
  {
   "cell_type": "code",
   "execution_count": 24,
   "id": "c6edf31c-d634-4f50-920f-ee3720fabe7e",
   "metadata": {},
   "outputs": [],
   "source": [
    "a,b,c,d = test7()"
   ]
  },
  {
   "cell_type": "code",
   "execution_count": 25,
   "id": "9f9a0546-e06c-479a-8430-c4e5113d7a87",
   "metadata": {},
   "outputs": [
    {
     "data": {
      "text/plain": [
       "1"
      ]
     },
     "execution_count": 25,
     "metadata": {},
     "output_type": "execute_result"
    }
   ],
   "source": [
    "a"
   ]
  },
  {
   "cell_type": "code",
   "execution_count": 26,
   "id": "07d3beeb-d35b-4c9d-846f-9b5027210a1d",
   "metadata": {},
   "outputs": [
    {
     "data": {
      "text/plain": [
       "3"
      ]
     },
     "execution_count": 26,
     "metadata": {},
     "output_type": "execute_result"
    }
   ],
   "source": [
    "b"
   ]
  },
  {
   "cell_type": "code",
   "execution_count": 27,
   "id": "52c88789-7737-4ad0-a14a-fc1ad503d37e",
   "metadata": {},
   "outputs": [
    {
     "data": {
      "text/plain": [
       "[3, 4, 5, 'manu']"
      ]
     },
     "execution_count": 27,
     "metadata": {},
     "output_type": "execute_result"
    }
   ],
   "source": [
    "c"
   ]
  },
  {
   "cell_type": "code",
   "execution_count": 28,
   "id": "db09401b-9b17-4625-baa8-842d1b07ab96",
   "metadata": {},
   "outputs": [
    {
     "data": {
      "text/plain": [
       "(3, 5, 6)"
      ]
     },
     "execution_count": 28,
     "metadata": {},
     "output_type": "execute_result"
    }
   ],
   "source": [
    "d"
   ]
  },
  {
   "cell_type": "code",
   "execution_count": 29,
   "id": "ac84f07e-9cbd-4b7e-bf53-d071668bbe62",
   "metadata": {},
   "outputs": [],
   "source": [
    "def test8():\n",
    "    a = 4*10+54-38\n",
    "    return a"
   ]
  },
  {
   "cell_type": "code",
   "execution_count": 30,
   "id": "7da78334-1f31-4677-86c8-d497c050ce80",
   "metadata": {},
   "outputs": [
    {
     "data": {
      "text/plain": [
       "1"
      ]
     },
     "execution_count": 30,
     "metadata": {},
     "output_type": "execute_result"
    }
   ],
   "source": [
    "a"
   ]
  },
  {
   "cell_type": "code",
   "execution_count": 31,
   "id": "e52e7467-3eb5-4d81-b6c9-509097a43f07",
   "metadata": {},
   "outputs": [
    {
     "data": {
      "text/plain": [
       "56"
      ]
     },
     "execution_count": 31,
     "metadata": {},
     "output_type": "execute_result"
    }
   ],
   "source": [
    "test8()"
   ]
  },
  {
   "cell_type": "code",
   "execution_count": 32,
   "id": "92fc76bd-4898-4d4a-9289-663e60574a74",
   "metadata": {},
   "outputs": [
    {
     "data": {
      "text/plain": [
       "1"
      ]
     },
     "execution_count": 32,
     "metadata": {},
     "output_type": "execute_result"
    }
   ],
   "source": [
    "a # a is locally defined in the function"
   ]
  },
  {
   "cell_type": "code",
   "execution_count": 33,
   "id": "6dee818d-c83f-4b41-a31b-0e7148e3acf7",
   "metadata": {},
   "outputs": [],
   "source": [
    "def summ(list):\n",
    "    a=0\n",
    "    for i in list:\n",
    "        if type(i) ==int:\n",
    "            a=i+a\n",
    "        else:\n",
    "            return \"all input are not integers\"\n",
    "    return a"
   ]
  },
  {
   "cell_type": "code",
   "execution_count": 34,
   "id": "727d6bd5-399c-46ac-9c31-a37a12cd3636",
   "metadata": {},
   "outputs": [
    {
     "data": {
      "text/plain": [
       "45"
      ]
     },
     "execution_count": 34,
     "metadata": {},
     "output_type": "execute_result"
    }
   ],
   "source": [
    "summ([1,2,3,4,5,6,7,8,9])"
   ]
  },
  {
   "cell_type": "code",
   "execution_count": 35,
   "id": "3bb1a0dd-7652-4efd-ba5c-446fcfca07b3",
   "metadata": {},
   "outputs": [
    {
     "data": {
      "text/plain": [
       "'all input are not integers'"
      ]
     },
     "execution_count": 35,
     "metadata": {},
     "output_type": "execute_result"
    }
   ],
   "source": [
    "summ([1,2,3,4,5,6,7,8,9,\"manu\"])"
   ]
  },
  {
   "cell_type": "code",
   "execution_count": 36,
   "id": "1a15ea48-cc11-41d6-b9c7-bbb02b1c9c1b",
   "metadata": {},
   "outputs": [],
   "source": [
    "def test11(a,b):\n",
    "    return a+b"
   ]
  },
  {
   "cell_type": "code",
   "execution_count": 37,
   "id": "29537539-b804-4aa2-ad55-3b720fdfb4c2",
   "metadata": {},
   "outputs": [
    {
     "data": {
      "text/plain": [
       "30"
      ]
     },
     "execution_count": 37,
     "metadata": {},
     "output_type": "execute_result"
    }
   ],
   "source": [
    "test11(10,20)"
   ]
  },
  {
   "cell_type": "code",
   "execution_count": 39,
   "id": "234201b5-f5c3-4571-9c19-9b28174efb39",
   "metadata": {},
   "outputs": [
    {
     "data": {
      "text/plain": [
       "300"
      ]
     },
     "execution_count": 39,
     "metadata": {},
     "output_type": "execute_result"
    }
   ],
   "source": [
    "test11(100,200)"
   ]
  },
  {
   "cell_type": "code",
   "execution_count": 47,
   "id": "42ab19de-e639-4a58-8653-03762a4babae",
   "metadata": {},
   "outputs": [],
   "source": [
    "def stringit(lst):\n",
    "    a=list()\n",
    "    for i in lst:\n",
    "        if type(i) ==str:\n",
    "            a.append(i)\n",
    "    return a"
   ]
  },
  {
   "cell_type": "code",
   "execution_count": 48,
   "id": "16fd7a0a-1381-4cb2-80d9-1c93164f3424",
   "metadata": {},
   "outputs": [
    {
     "data": {
      "text/plain": [
       "['manu', 'now', 'and']"
      ]
     },
     "execution_count": 48,
     "metadata": {},
     "output_type": "execute_result"
    }
   ],
   "source": [
    "lst = [1, 3, 5,3,4,5,\"manu\", 3,5,6, \"now\", \"and\"]\n",
    "stringit(lst)"
   ]
  },
  {
   "cell_type": "code",
   "execution_count": null,
   "id": "d21d1a13-733c-4eaf-a89c-6fe1fea34929",
   "metadata": {},
   "outputs": [],
   "source": []
  }
 ],
 "metadata": {
  "kernelspec": {
   "display_name": "Python 3 (ipykernel)",
   "language": "python",
   "name": "python3"
  },
  "language_info": {
   "codemirror_mode": {
    "name": "ipython",
    "version": 3
   },
   "file_extension": ".py",
   "mimetype": "text/x-python",
   "name": "python",
   "nbconvert_exporter": "python",
   "pygments_lexer": "ipython3",
   "version": "3.10.6"
  }
 },
 "nbformat": 4,
 "nbformat_minor": 5
}
