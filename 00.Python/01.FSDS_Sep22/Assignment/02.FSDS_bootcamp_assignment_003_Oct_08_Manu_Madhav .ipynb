{
 "cells": [
  {
   "cell_type": "markdown",
   "metadata": {
    "id": "cyOfbWCdOjEr"
   },
   "source": [
    "# ASSIGNMENTS - Compulsory\n",
    "## Send it before 0000 hrs IST or 12 AM Wednesday\n",
    "\n",
    "## NOTE: Evaluation will be done before next class.\n",
    "\n",
    "## HOW TO SUBMIT: -\n",
    "Download this notebook, Solve it and upload in the google form given in the mail."
   ]
  },
  {
   "cell_type": "markdown",
   "metadata": {
    "id": "wplt50xcB9m0"
   },
   "source": [
    "# Answers\n",
    "## Python String Manipulation\n",
    "\n",
    "1. Count the number of times `iNeuron` appears in the string.\n",
    "```python\n",
    "text = \"Welcome to iNeuron, You are a part of FSDS Bootcamp 2 in iNeuron. I hope you are enjoying the course by iNeuron\"\n",
    "```\n",
    "\n"
   ]
  },
  {
   "cell_type": "code",
   "execution_count": 29,
   "metadata": {
    "colab": {
     "base_uri": "https://localhost:8080/"
    },
    "id": "Lh-LEWMRCq3u",
    "outputId": "8f3b4cd7-3e5e-42d8-b0cd-3f2fce09f591"
   },
   "outputs": [
    {
     "name": "stdout",
     "output_type": "stream",
     "text": [
      " The total number of apperance of text --> iNeuron <-- is 3\n"
     ]
    }
   ],
   "source": [
    "text = \"Welcome to iNeuron, You are a part of FSDS Bootcamp 2 in iNeuron. I hope you are enjoying the course by iNeuron\"\n",
    "text = text.split()\n",
    "txt_check = \"iNeuron\"\n",
    "count = 0\n",
    "for i in text:\n",
    "  #print(i)\n",
    "  if i[0:len(txt_check)] == txt_check:\n",
    "    count +=1\n",
    "print(f\" The total number of apperance of text --> {txt_check} <-- is {count}\")"
   ]
  },
  {
   "cell_type": "markdown",
   "metadata": {
    "id": "lPndV7vFB-Jp"
   },
   "source": [
    "\n",
    "2. Check if position `5` to `11` ends with the phrase `iNeuron.` in the string \n",
    "```python\n",
    "txt = \"Hello, welcome to FSDS 2.0 at iNeuron.\"\n",
    "```\n"
   ]
  },
  {
   "cell_type": "code",
   "execution_count": 73,
   "metadata": {
    "colab": {
     "base_uri": "https://localhost:8080/"
    },
    "id": "VXCTZ6SUHulS",
    "outputId": "786507c2-e685-4320-c661-bf516f82f13b"
   },
   "outputs": [
    {
     "name": "stdout",
     "output_type": "stream",
     "text": [
      "Yes,  from position 5 to 38 ends with 'iNeuron.'\n"
     ]
    }
   ],
   "source": [
    "#solution 1\n",
    "txt = \"Hello, welcome to FSDS 2.0 at iNeuron.\"\n",
    "st = 5\n",
    "en = 38\n",
    "txt_check = \"iNeuron.\"\n",
    "#print(txt[st:en])\n",
    "\n",
    "if txt.endswith(txt_check, st, en):\n",
    "  print( f\"Yes,  from position {st} to {en} ends with '{txt_check}'\")\n",
    "else:\n",
    "  print(f\" No from position {st} to {en} ends with -> '{txt[st:en]}' <- and not with -> '{txt_check}' <-\")\n"
   ]
  },
  {
   "cell_type": "code",
   "execution_count": 74,
   "metadata": {
    "colab": {
     "base_uri": "https://localhost:8080/"
    },
    "id": "wN8pe8wSPjpq",
    "outputId": "17dcf19b-0a40-4ca8-81b5-f3fae77990c5"
   },
   "outputs": [
    {
     "name": "stdout",
     "output_type": "stream",
     "text": [
      "Yes,  from position 5 to 38 of text string ->', welcome to FSDS 2.0 at iNeuron.'<- ends with ->'iNeuron.'\n"
     ]
    }
   ],
   "source": [
    "#solution 2\n",
    "txt = \"Hello, welcome to FSDS 2.0 at iNeuron.\"\n",
    "st = 5\n",
    "en = 38\n",
    "txt_check = \"iNeuron.\"\n",
    "\n",
    "if txt_check == txt[-len(txt_check):en]:\n",
    "  print( f\"Yes,  from position {st} to {en} of text string ->'{txt[st:en]}'<- ends with ->'{txt[-len(txt_check):en]}'\")\n",
    "else:\n",
    "  print(f\" No from position {st} to {en} of text string ->'{txt[st:en]} '<- ends with -> '{txt[-len(txt_check):en]}' <- and not with -> '{txt_check}' <-\")\n"
   ]
  },
  {
   "cell_type": "markdown",
   "metadata": {
    "id": "Hptq3d0oCBHh"
   },
   "source": [
    "3. Write a program that takes your full name as input and displays the abbreviations of the first and middle names except the last name which is displayed as it is. For example, if your name is Sunny Bhaveen Chandra, then the output should be S.B.Chandra.\n",
    "\n"
   ]
  },
  {
   "cell_type": "code",
   "execution_count": 116,
   "metadata": {
    "colab": {
     "base_uri": "https://localhost:8080/"
    },
    "id": "sUhWWg1gpH_p",
    "outputId": "e9686b48-2263-4ab4-c712-3912426523d5"
   },
   "outputs": [
    {
     "name": "stdout",
     "output_type": "stream",
     "text": [
      "S.B.Chandra\n"
     ]
    }
   ],
   "source": [
    "#solution 2\n",
    "\n",
    "full_name =  \"Sunny Bhaveen Chandra\"\n",
    "full_name= full_name.split()\n",
    "print(f\"{full_name[0][0]}.{full_name[1][0]}.{full_name[2]}\")"
   ]
  },
  {
   "cell_type": "code",
   "execution_count": 133,
   "metadata": {
    "colab": {
     "base_uri": "https://localhost:8080/"
    },
    "id": "-hy8NtOsfC7W",
    "outputId": "2dc2ec2d-08de-4ff9-faec-c33f4c230795"
   },
   "outputs": [
    {
     "name": "stdout",
     "output_type": "stream",
     "text": [
      " Please enter your name(seperating with spaces) : Sunny Bhaveen Chandra\n",
      "S.B.Chandra\n"
     ]
    }
   ],
   "source": [
    "#solution 2\n",
    "\n",
    "input_name = input(\" Please enter your name(seperating with spaces) : \")\n",
    "input_name= input_name.split()\n",
    "#print(full_name, len(full_name))\n",
    "New_name =\"\"\n",
    "for i in range(len(input_name)-1):\n",
    "  #print(\"i\",i, full_name[i])\n",
    "  New_name = New_name + input_name[i][0]+\".\"\n",
    "print(New_name+input_name[len(input_name)-1])"
   ]
  },
  {
   "cell_type": "markdown",
   "metadata": {
    "id": "TAAvtW3LCAmr"
   },
   "source": [
    "4. Join all items in a list into a string, using a hash(`#`) character as separator:\n",
    "```python\n",
    "LIST = [\"My\", \"name\", \"is\", \"Rishav\", \"Dash\"]\n",
    "```\n"
   ]
  },
  {
   "cell_type": "code",
   "execution_count": 69,
   "metadata": {
    "colab": {
     "base_uri": "https://localhost:8080/",
     "height": 35
    },
    "id": "f9gqF8cYuo-H",
    "outputId": "4c98f550-afba-4250-adf8-af2f0d49243a"
   },
   "outputs": [
    {
     "data": {
      "application/vnd.google.colaboratory.intrinsic+json": {
       "type": "string"
      },
      "text/plain": [
       "'My#name#is#Rishav#Dash'"
      ]
     },
     "execution_count": 69,
     "metadata": {},
     "output_type": "execute_result"
    }
   ],
   "source": [
    "lst = [\"My\", \"name\", \"is\", \"Rishav\", \"Dash\"]\n",
    "lst_text = \"#\".join(lst)\n",
    "lst_text"
   ]
  },
  {
   "cell_type": "markdown",
   "metadata": {
    "id": "cQAk_9N8CAPQ"
   },
   "source": [
    "5. Write example for the following string manipulation function,\n",
    "\n",
    "  ```\n",
    "  - isdecimal()\n",
    "  - islower()\n",
    "  - isupper()\n",
    "  - isalpha()\n",
    "  - isnumeric()\n",
    "\n",
    "  ```"
   ]
  },
  {
   "cell_type": "code",
   "execution_count": 15,
   "metadata": {
    "colab": {
     "base_uri": "https://localhost:8080/"
    },
    "id": "Ek0wvEOJJSc7",
    "outputId": "836e34d9-0358-4d78-b13e-c1cc79e3248a"
   },
   "outputs": [
    {
     "name": "stdout",
     "output_type": "stream",
     "text": [
      "Enter a number: 15\n",
      "False\n",
      " The number 15 is decimal        --> True\n",
      " The number 15 is alphabets      --> False\n",
      " The number 15 is numeric        --> True\n",
      " The number 15 is alpha numeric  --> True\n"
     ]
    }
   ],
   "source": [
    "data = (input(\"Enter a number: \"))\n",
    "\n",
    "print(f\" The number {data } is decimal        -->\", data.isdecimal())\n",
    "print(f\" The number {data } is alphabets      -->\", data.isalpha())\n",
    "print(f\" The number {data } is numeric        -->\", data.isnumeric())\n",
    "print(f\" The number {data } is alpha numeric  -->\", data.isalnum())\n"
   ]
  },
  {
   "cell_type": "code",
   "execution_count": 18,
   "metadata": {
    "colab": {
     "base_uri": "https://localhost:8080/"
    },
    "id": "tdEscwwa27Od",
    "outputId": "4c5773c0-adea-4800-f91b-206c557b9bed"
   },
   "outputs": [
    {
     "name": "stdout",
     "output_type": "stream",
     "text": [
      "Enter a string: asdfasdfsadf\n",
      " The input string in lower alphabets are : asdfasdfsadf\n",
      " The input string in lower alphabets are : ASDFASDFSADF\n"
     ]
    }
   ],
   "source": [
    "name = input(\"Enter a string: \")\n",
    "\n",
    "print(f\" The input string in lower alphabets are : { name.lower()}\")\n",
    "print(f\" The input string in lower alphabets are : { name.upper()}\")\n"
   ]
  },
  {
   "cell_type": "markdown",
   "metadata": {
    "id": "UgG3EqlVB_7t"
   },
   "source": [
    "\n",
    "6. Indian PAN card format follows the following formats - \n",
    "    - `AYEPC7894X`\n",
    "    - `ABCDE9999Y`\n",
    "  Take user input for PAN_CARD and validate as per the above example.\n"
   ]
  },
  {
   "cell_type": "code",
   "execution_count": 72,
   "metadata": {
    "colab": {
     "base_uri": "https://localhost:8080/"
    },
    "id": "GapDMQB-6DVq",
    "outputId": "07cde211-a449-4cb9-9da3-b790247ac1d3"
   },
   "outputs": [
    {
     "name": "stdout",
     "output_type": "stream",
     "text": [
      "Enter PAN number: abcde9999y\n",
      "PAN CARD number -> ABCDE9999Y <- is validated and found ok\n"
     ]
    }
   ],
   "source": [
    "pan = input(\"Enter PAN number: \")\n",
    "#pan = \"1234567891 \"\n",
    "pan = pan.strip()\n",
    "if pan.isalnum() and len(pan) ==10:\n",
    "  if (pan[0:5]).isalpha() and (pan[5:9]).isdecimal() and (pan[-1]).isalpha() :\n",
    "    print(f\"PAN CARD number -> {pan.upper()} <- is validated and found ok\")\n",
    "  else:\n",
    "    print(f\"Please enter again. Entered PAN Number -> {pan.upper()} <- alphabets and/or numbers are not correct\")\n",
    "else:\n",
    "  print(f\"Please enter again. Entered PAN Number -> {pan.upper()} <-length is not 10 and/or not alpha numeric\")"
   ]
  },
  {
   "cell_type": "code",
   "execution_count": null,
   "metadata": {
    "id": "OEM6qwE1-D7t"
   },
   "outputs": [],
   "source": []
  }
 ],
 "metadata": {
  "colab": {
   "collapsed_sections": [],
   "provenance": []
  },
  "kernelspec": {
   "display_name": "Python 3 (ipykernel)",
   "language": "python",
   "name": "python3"
  },
  "language_info": {
   "codemirror_mode": {
    "name": "ipython",
    "version": 3
   },
   "file_extension": ".py",
   "mimetype": "text/x-python",
   "name": "python",
   "nbconvert_exporter": "python",
   "pygments_lexer": "ipython3",
   "version": "3.9.12"
  },
  "toc": {
   "base_numbering": 1,
   "nav_menu": {},
   "number_sections": true,
   "sideBar": true,
   "skip_h1_title": false,
   "title_cell": "Table of Contents",
   "title_sidebar": "Contents",
   "toc_cell": false,
   "toc_position": {},
   "toc_section_display": true,
   "toc_window_display": false
  },
  "varInspector": {
   "cols": {
    "lenName": 16,
    "lenType": 16,
    "lenVar": 40
   },
   "kernels_config": {
    "python": {
     "delete_cmd_postfix": "",
     "delete_cmd_prefix": "del ",
     "library": "var_list.py",
     "varRefreshCmd": "print(var_dic_list())"
    },
    "r": {
     "delete_cmd_postfix": ") ",
     "delete_cmd_prefix": "rm(",
     "library": "var_list.r",
     "varRefreshCmd": "cat(var_dic_list()) "
    }
   },
   "types_to_exclude": [
    "module",
    "function",
    "builtin_function_or_method",
    "instance",
    "_Feature"
   ],
   "window_display": false
  }
 },
 "nbformat": 4,
 "nbformat_minor": 1
}
