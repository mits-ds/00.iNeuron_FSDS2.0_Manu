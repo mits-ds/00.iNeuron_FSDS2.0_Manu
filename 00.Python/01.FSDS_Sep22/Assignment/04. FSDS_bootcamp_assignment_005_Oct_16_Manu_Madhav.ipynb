{
  "nbformat": 4,
  "nbformat_minor": 0,
  "metadata": {
    "colab": {
      "provenance": [],
      "collapsed_sections": []
    },
    "kernelspec": {
      "name": "python3",
      "display_name": "Python 3"
    },
    "language_info": {
      "name": "python"
    }
  },
  "cells": [
    {
      "cell_type": "markdown",
      "source": [
        "# ASSIGNMENTS \n",
        "## Send it before 0000 hrs IST or 12 AM Friday\n",
        "\n",
        "## NOTE: Evaluation will be done before next class.\n",
        "\n",
        "## HOW TO SUBMIT: -\n",
        "Download this notebook, Solve it and upload in the google form given in the mail."
      ],
      "metadata": {
        "id": "dkGbTD94s6CD"
      }
    },
    {
      "cell_type": "markdown",
      "source": [
        "# List, Tuple and Sets"
      ],
      "metadata": {
        "id": "n3FuI-mutNl6"
      }
    },
    {
      "cell_type": "markdown",
      "source": [
        "#### 1. On amazon website we have the following available items - \n",
        "\n",
        "```python\n",
        "amazon_website = [(\"watch\", 5000), (\"phone\", 10000), (\"laptop\", 50000), (\"shirt\", 1000)]\n",
        "```\n",
        "Take the user input N no. of times and find out the total cost to be paid?\n",
        "\n",
        "OR\n",
        "\n",
        "You can ask the user quntity or the count of item?\n",
        "\n",
        "if the item is not present in the amazon website then print that item as out of stock and do add it total\n",
        "\n",
        "\n",
        "HINT: while, for loop.. indexing"
      ],
      "metadata": {
        "id": "hZcGNSR2y9zW"
      }
    },
    {
      "cell_type": "markdown",
      "source": [
        "#### 2. What will be the output of the following code snippet?\n",
        "\n",
        "```\n",
        "arr = [1, 2, 3, 4, 5, 6]\n",
        "for i in range(1, 6):\n",
        "    arr[i - 1] = arr[i]\n",
        "for i in range(0, 6): \n",
        "    print(arr[i], end = \" \")\n",
        "```"
      ],
      "metadata": {
        "id": "FQrKC2gzzsUm"
      }
    },
    {
      "cell_type": "markdown",
      "source": [
        "#### 3. Write a Python program to find the repeated items of a tuple."
      ],
      "metadata": {
        "id": "nL_DZJFS0ZZF"
      }
    },
    {
      "cell_type": "markdown",
      "source": [
        "[link text](https://)### 4. Replace last value of tuples in a list with 500. Try using list comprehension\n",
        "\n",
        "Example -: \n",
        "```\n",
        "Input -:\n",
        "\n",
        "[(10, 20, 40), (40, 50, 60), (70, 80, 90)]\n",
        "\n",
        "Output -:\n",
        "[(10, 20, 500), (40, 50, 500), (70, 80, 500)]\n",
        "\n",
        "\n",
        "```\n"
      ],
      "metadata": {
        "id": "ne8WpLZZ1GSm"
      }
    },
    {
      "cell_type": "markdown",
      "source": [
        "#Answers"
      ],
      "metadata": {
        "id": "3PD7QH3V8oOh"
      }
    },
    {
      "cell_type": "markdown",
      "source": [
        "#### 1. On amazon website we have the following available items - \n",
        "\n",
        "```python\n",
        "amazon_website = [(\"watch\", 5000), (\"phone\", 10000), (\"laptop\", 50000), (\"shirt\", 1000)]\n",
        "```\n",
        "Take the user input N no. of times and find out the total cost to be paid?\n",
        "\n",
        "OR\n",
        "\n",
        "You can ask the user quntity or the count of item?\n",
        "\n",
        "if the item is not present in the amazon website then print that item as out of stock and do add it total\n",
        "\n",
        "\n",
        "HINT: while, for loop.. indexing"
      ],
      "metadata": {
        "id": "sSWzc0Xn8sqG"
      }
    },
    {
      "cell_type": "code",
      "source": [
        "amazon_website = [(\"watch\", 5000), (\"phone\", 10000), (\"laptop\", 50000), (\"shirt\", 1000)]\n",
        "print(\"List of items for sale\")\n",
        "for item_cost in amazon_website:\n",
        "  print(f\" {item_cost[0]} costs Rs: {item_cost[1]}\")\n",
        "lst1 = list()\n",
        "total_cost =0\n",
        "user_in = \" \"\n",
        "while user_in !=\"\":\n",
        "  user_in = input(\"Which iteam you want purchase ? (Press return to exit Purchasing) ::>\")\n",
        "  counter1=0\n",
        "  for item in amazon_website:    \n",
        "    if user_in == item[0]:\n",
        "      counter1 +=1\n",
        "      total_cost = item[1]+total_cost\n",
        "      lst1.append(item[0])\n",
        "  if counter1==0:\n",
        "    print(\"Currently we are not seling this item. Try again later\")\n",
        "\n",
        "print(f\"Total Cost {total_cost} for items {lst1}\")\n",
        "\n"
      ],
      "metadata": {
        "colab": {
          "base_uri": "https://localhost:8080/"
        },
        "id": "qbWXIM-P8q5j",
        "outputId": "65cf78f7-ef83-424f-bd32-e819f7add3ec"
      },
      "execution_count": null,
      "outputs": [
        {
          "output_type": "stream",
          "name": "stdout",
          "text": [
            "List of items for sale\n",
            " watch costs Rs: 5000\n",
            " phone costs Rs: 10000\n",
            " laptop costs Rs: 50000\n",
            " shirt costs Rs: 1000\n",
            "Which iteam you want purchase ? (Press return to exit Purchasing) ::>asdf\n",
            "Currently we are not seling this item. Try again later\n",
            "Which iteam you want purchase ? (Press return to exit Purchasing) ::>shirt\n",
            "Which iteam you want purchase ? (Press return to exit Purchasing) ::>phone\n",
            "Which iteam you want purchase ? (Press return to exit Purchasing) ::>shirt\n",
            "Which iteam you want purchase ? (Press return to exit Purchasing) ::>phone\n",
            "Which iteam you want purchase ? (Press return to exit Purchasing) ::>\n",
            "Currently we are not seling this item. Try again later\n",
            "Total Cost 22000 for items ['shirt', 'phone', 'shirt', 'phone']\n"
          ]
        }
      ]
    },
    {
      "cell_type": "markdown",
      "source": [
        "#### 2. What will be the output of the following code snippet?\n",
        "\n",
        "```\n",
        "arr = [1, 2, 3, 4, 5, 6]\n",
        "for i in range(1, 6):\n",
        "    arr[i - 1] = arr[i]\n",
        "for i in range(0, 6): \n",
        "    print(arr[i], end = \" \")\n",
        "```"
      ],
      "metadata": {
        "id": "Y6u41C1vElAV"
      }
    },
    {
      "cell_type": "code",
      "source": [
        "arr = [1, 2, 3, 4, 5, 6]\n",
        "for i in range(1, 6):\n",
        "  arr[i - 1] = arr[i]\n",
        "print(\" This code will shift position of elements in a list by one to left side and retain the last item as it is\")\n",
        "for i in range(0, 6):\n",
        "  \n",
        "  print(arr[i], end = \" \")"
      ],
      "metadata": {
        "colab": {
          "base_uri": "https://localhost:8080/"
        },
        "id": "1hLk4erV_sD5",
        "outputId": "c521c199-45c1-4498-d0f9-0090b366ee69"
      },
      "execution_count": null,
      "outputs": [
        {
          "output_type": "stream",
          "name": "stdout",
          "text": [
            " This code will shift position of elements in a list by one to left side and retain the last item as it is\n",
            "2 3 4 5 6 6 "
          ]
        }
      ]
    },
    {
      "cell_type": "markdown",
      "source": [
        "#### 3. Write a Python program to find the repeated items of a tuple."
      ],
      "metadata": {
        "id": "PQxKaXD3Fb-V"
      }
    },
    {
      "cell_type": "code",
      "source": [
        "tup1 = (1,2,3, 4, 1,2,4,5,6,1,2,1)\n",
        "tup2 = tuple(set(tup1))\n",
        "\n",
        "for i in range(len(tup2)):\n",
        "  count=0\n",
        "  for j in range(len(tup1)):\n",
        "    if tup2[i] == tup1[j]:\n",
        "      count +=1\n",
        "  if count>1:\n",
        "    print(f\" {tup2[i]} contains  {count} times in tuple {tup1}\")\n",
        "\n"
      ],
      "metadata": {
        "colab": {
          "base_uri": "https://localhost:8080/"
        },
        "id": "PfTYVxujEn04",
        "outputId": "ec751fe1-e337-48d2-ca7c-0029ec70e70e"
      },
      "execution_count": null,
      "outputs": [
        {
          "output_type": "stream",
          "name": "stdout",
          "text": [
            " 1 contains  4 times in tuple (1, 2, 3, 4, 1, 2, 4, 5, 6, 1, 2, 1)\n",
            " 2 contains  3 times in tuple (1, 2, 3, 4, 1, 2, 4, 5, 6, 1, 2, 1)\n",
            " 4 contains  2 times in tuple (1, 2, 3, 4, 1, 2, 4, 5, 6, 1, 2, 1)\n"
          ]
        }
      ]
    },
    {
      "cell_type": "markdown",
      "source": [
        "[link text](https://)### 4. Replace last value of tuples in a list with 500. Try using list comprehension\n",
        "\n",
        "Example -: \n",
        "```\n",
        "Input -:\n",
        "\n",
        "[(10, 20, 40), (40, 50, 60), (70, 80, 90)]\n",
        "\n",
        "Output -:\n",
        "[(10, 20, 500), (40, 50, 500), (70, 80, 500)]\n",
        "\n",
        "\n",
        "```"
      ],
      "metadata": {
        "id": "Vmey7JQzD6sj"
      }
    },
    {
      "cell_type": "markdown",
      "source": [
        "newlist = [expression for item in iterable if condition == True]"
      ],
      "metadata": {
        "id": "8kCP11caEFMY"
      }
    },
    {
      "cell_type": "code",
      "source": [
        "lst3 = [(10, 20, 40), (40, 50, 60), (70, 80, 90)]\n",
        "lst4 = list()\n",
        "for i in lst3:\n",
        "  list(i)[2] = 500\n",
        "  i=tuple(i)\n",
        "  #print(i)\n",
        "  lst4.append(i)\n",
        "print(lst4)"
      ],
      "metadata": {
        "id": "q5QYk4MmIEeY",
        "colab": {
          "base_uri": "https://localhost:8080/"
        },
        "outputId": "eb6350ce-d7ce-4c19-eeb4-42094d52aa73"
      },
      "execution_count": 22,
      "outputs": [
        {
          "output_type": "stream",
          "name": "stdout",
          "text": [
            "[(10, 20, 40), (40, 50, 60), (70, 80, 90)]\n"
          ]
        }
      ]
    },
    {
      "cell_type": "code",
      "source": [
        "lst3 = [(10, 20, 40), (40, 50, 60), (70, 80, 90)]\n",
        "lst4 = list()\n",
        "lst5 = [[list(i)[2] == 500] for i in lst3 ]\n",
        "\n",
        "print(lst5)"
      ],
      "metadata": {
        "colab": {
          "base_uri": "https://localhost:8080/"
        },
        "id": "7uobbuIjMe7u",
        "outputId": "a5b1f1aa-7b62-403b-c34f-092af5c4074c"
      },
      "execution_count": 27,
      "outputs": [
        {
          "output_type": "stream",
          "name": "stdout",
          "text": [
            "[[False], [False], [False]]\n"
          ]
        }
      ]
    },
    {
      "cell_type": "code",
      "source": [],
      "metadata": {
        "id": "6pdCPHSQFuAF"
      },
      "execution_count": null,
      "outputs": []
    }
  ]
}