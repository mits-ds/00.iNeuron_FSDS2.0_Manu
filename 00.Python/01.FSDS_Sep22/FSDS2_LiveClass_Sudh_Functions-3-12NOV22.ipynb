{
 "cells": [
  {
   "cell_type": "code",
   "execution_count": 3,
   "metadata": {},
   "outputs": [],
   "source": [
    "def test1(a,b):\n",
    "    return a+b"
   ]
  },
  {
   "cell_type": "code",
   "execution_count": 4,
   "metadata": {},
   "outputs": [
    {
     "data": {
      "text/plain": [
       "9"
      ]
     },
     "execution_count": 4,
     "metadata": {},
     "output_type": "execute_result"
    }
   ],
   "source": [
    "test1(4,5)"
   ]
  },
  {
   "cell_type": "code",
   "execution_count": 6,
   "metadata": {},
   "outputs": [
    {
     "data": {
      "text/plain": [
       "'manu madhav'"
      ]
     },
     "execution_count": 6,
     "metadata": {},
     "output_type": "execute_result"
    }
   ],
   "source": [
    "test1(\"manu\",\" madhav\")"
   ]
  },
  {
   "cell_type": "code",
   "execution_count": 1,
   "metadata": {},
   "outputs": [],
   "source": [
    "def test5(*args):\n",
    "    l = list()\n",
    "    for i in args :\n",
    "        l.append(i)\n",
    "    return l"
   ]
  },
  {
   "cell_type": "code",
   "execution_count": 2,
   "metadata": {},
   "outputs": [
    {
     "data": {
      "text/plain": [
       "[1, 2, 3, 4, 5]"
      ]
     },
     "execution_count": 2,
     "metadata": {},
     "output_type": "execute_result"
    }
   ],
   "source": [
    "test5(1,2,3,4,5)"
   ]
  },
  {
   "cell_type": "code",
   "execution_count": 3,
   "metadata": {},
   "outputs": [
    {
     "data": {
      "text/plain": [
       "[5, 4, 5, 6]"
      ]
     },
     "execution_count": 3,
     "metadata": {},
     "output_type": "execute_result"
    }
   ],
   "source": [
    "test5(2+3,4,5,6)"
   ]
  },
  {
   "attachments": {},
   "cell_type": "markdown",
   "metadata": {},
   "source": [
    "Dictionary\n"
   ]
  },
  {
   "cell_type": "code",
   "execution_count": 4,
   "metadata": {},
   "outputs": [],
   "source": [
    "d2 = {\"Key1\": \"manu\",\"key2\":\"madhav\"}"
   ]
  },
  {
   "cell_type": "code",
   "execution_count": 5,
   "metadata": {},
   "outputs": [
    {
     "data": {
      "text/plain": [
       "dict"
      ]
     },
     "execution_count": 5,
     "metadata": {},
     "output_type": "execute_result"
    }
   ],
   "source": [
    "type(d2)"
   ]
  },
  {
   "cell_type": "code",
   "execution_count": null,
   "metadata": {},
   "outputs": [],
   "source": [
    "d2 = {\"Key1\": \"manu\",\"key2\":\"madhav\"}"
   ]
  },
  {
   "cell_type": "code",
   "execution_count": 6,
   "metadata": {},
   "outputs": [],
   "source": [
    "d3 = {12345: 324214}"
   ]
  },
  {
   "cell_type": "code",
   "execution_count": 7,
   "metadata": {},
   "outputs": [],
   "source": [
    "d4 = {\"$adsfsd\":1231123}"
   ]
  },
  {
   "cell_type": "code",
   "execution_count": 8,
   "metadata": {},
   "outputs": [
    {
     "ename": "TypeError",
     "evalue": "unhashable type: 'list'",
     "output_type": "error",
     "traceback": [
      "\u001b[1;31m---------------------------------------------------------------------------\u001b[0m",
      "\u001b[1;31mTypeError\u001b[0m                                 Traceback (most recent call last)",
      "\u001b[1;32mc:\\Users\\manum\\OneDrive\\0000.DS\\99. ML and Python\\00.iNeuron_FSDS2.0\\00.Python\\01.FSDS_Sep22\\FSDS2_LiveClass_Sudh_Functions-3.ipynb Cell 13\u001b[0m in \u001b[0;36m<cell line: 1>\u001b[1;34m()\u001b[0m\n\u001b[1;32m----> <a href='vscode-notebook-cell:/c%3A/Users/manum/OneDrive/0000.DS/99.%20ML%20and%20Python/00.iNeuron_FSDS2.0/00.Python/01.FSDS_Sep22/FSDS2_LiveClass_Sudh_Functions-3.ipynb#X15sZmlsZQ%3D%3D?line=0'>1</a>\u001b[0m d5 \u001b[39m=\u001b[39m {[\u001b[39m12341234\u001b[39m]:\u001b[39m31234123\u001b[39m}\n",
      "\u001b[1;31mTypeError\u001b[0m: unhashable type: 'list'"
     ]
    }
   ],
   "source": [
    "d5 = {[12341234]:31234123}"
   ]
  },
  {
   "cell_type": "code",
   "execution_count": 10,
   "metadata": {},
   "outputs": [
    {
     "ename": "SyntaxError",
     "evalue": "invalid syntax (75615722.py, line 1)",
     "output_type": "error",
     "traceback": [
      "\u001b[1;36m  Input \u001b[1;32mIn [10]\u001b[1;36m\u001b[0m\n\u001b[1;33m    d6 = {(12,23,34):\"hello\",2341234}\u001b[0m\n\u001b[1;37m                                    ^\u001b[0m\n\u001b[1;31mSyntaxError\u001b[0m\u001b[1;31m:\u001b[0m invalid syntax\n"
     ]
    }
   ],
   "source": [
    "d6 = {(12,23,34):\"hello\",2341234}"
   ]
  },
  {
   "attachments": {},
   "cell_type": "markdown",
   "metadata": {},
   "source": [
    "### Notes : \n",
    "1. list cant be Keyword but tuples can be a keyword.\n",
    "2. keys or keywords cant be duplicated, but values can be duplicated\n"
   ]
  },
  {
   "cell_type": "code",
   "execution_count": 1,
   "metadata": {},
   "outputs": [],
   "source": [
    "d8 = {\"fsds\":\"person1\",\"fsda\":\"person2\", \"bigdata\":\"person3\" }"
   ]
  },
  {
   "cell_type": "code",
   "execution_count": 2,
   "metadata": {},
   "outputs": [
    {
     "data": {
      "text/plain": [
       "dict_values(['person1', 'person2', 'person3'])"
      ]
     },
     "execution_count": 2,
     "metadata": {},
     "output_type": "execute_result"
    }
   ],
   "source": [
    "d8.values()"
   ]
  },
  {
   "cell_type": "code",
   "execution_count": 3,
   "metadata": {},
   "outputs": [
    {
     "data": {
      "text/plain": [
       "dict_keys(['fsds', 'fsda', 'bigdata'])"
      ]
     },
     "execution_count": 3,
     "metadata": {},
     "output_type": "execute_result"
    }
   ],
   "source": [
    "d8.keys()"
   ]
  },
  {
   "cell_type": "code",
   "execution_count": 4,
   "metadata": {},
   "outputs": [
    {
     "data": {
      "text/plain": [
       "{'fsds': 'person1', 'fsda': 'person2', 'bigdata': 'person3'}"
      ]
     },
     "execution_count": 4,
     "metadata": {},
     "output_type": "execute_result"
    }
   ],
   "source": [
    "d8"
   ]
  },
  {
   "cell_type": "code",
   "execution_count": 5,
   "metadata": {},
   "outputs": [],
   "source": [
    "d8 = {\"name\":\"manu\",\n",
    "\"mentor\":{\"fsds\":\"person1\",\"fsda\":\"person2\", \"bigdata\":\"person3\" }}"
   ]
  },
  {
   "cell_type": "code",
   "execution_count": 6,
   "metadata": {},
   "outputs": [
    {
     "data": {
      "text/plain": [
       "['manu', {'fsds': 'person1', 'fsda': 'person2', 'bigdata': 'person3'}]"
      ]
     },
     "execution_count": 6,
     "metadata": {},
     "output_type": "execute_result"
    }
   ],
   "source": [
    "list(d8.values())"
   ]
  },
  {
   "cell_type": "code",
   "execution_count": 7,
   "metadata": {},
   "outputs": [
    {
     "data": {
      "text/plain": [
       "['person1', 'person2', 'person3']"
      ]
     },
     "execution_count": 7,
     "metadata": {},
     "output_type": "execute_result"
    }
   ],
   "source": [
    "list(d8[\"mentor\"].values())"
   ]
  },
  {
   "cell_type": "code",
   "execution_count": 9,
   "metadata": {},
   "outputs": [],
   "source": [
    "l =[]\n",
    "for i in d8.keys():\n",
    "    if type(d8[i]) == dict :\n",
    "        l.append(d8.values())"
   ]
  },
  {
   "cell_type": "code",
   "execution_count": 10,
   "metadata": {},
   "outputs": [
    {
     "data": {
      "text/plain": [
       "[dict_values(['manu', {'fsds': 'person1', 'fsda': 'person2', 'bigdata': 'person3'}])]"
      ]
     },
     "execution_count": 10,
     "metadata": {},
     "output_type": "execute_result"
    }
   ],
   "source": [
    "l"
   ]
  },
  {
   "cell_type": "code",
   "execution_count": 11,
   "metadata": {},
   "outputs": [],
   "source": [
    "l =[]\n",
    "for i in d8.keys():\n",
    "    if type(d8[i]) == dict :\n",
    "        l.append(d8[i].values())"
   ]
  },
  {
   "cell_type": "code",
   "execution_count": 12,
   "metadata": {},
   "outputs": [
    {
     "data": {
      "text/plain": [
       "[dict_values(['person1', 'person2', 'person3'])]"
      ]
     },
     "execution_count": 12,
     "metadata": {},
     "output_type": "execute_result"
    }
   ],
   "source": [
    "l"
   ]
  },
  {
   "attachments": {},
   "cell_type": "markdown",
   "metadata": {},
   "source": [
    "## append all values of a sub dictionary"
   ]
  },
  {
   "cell_type": "code",
   "execution_count": 14,
   "metadata": {},
   "outputs": [
    {
     "data": {
      "text/plain": [
       "[['person1', 'person2', 'person3']]"
      ]
     },
     "execution_count": 14,
     "metadata": {},
     "output_type": "execute_result"
    }
   ],
   "source": [
    "l =[]\n",
    "for i in d8.keys():\n",
    "    if type(d8[i]) == dict :\n",
    "        l.append(list(d8[i].values()))\n",
    "l"
   ]
  },
  {
   "attachments": {},
   "cell_type": "markdown",
   "metadata": {},
   "source": [
    "### covnerting into a function"
   ]
  },
  {
   "cell_type": "code",
   "execution_count": 17,
   "metadata": {},
   "outputs": [],
   "source": [
    "def test9(d):\n",
    "    l =[]\n",
    "    for i in d.keys():\n",
    "        if type(d[i]) == dict :\n",
    "            l.append(list(d[i].values()))\n",
    "    return l"
   ]
  },
  {
   "cell_type": "code",
   "execution_count": 18,
   "metadata": {},
   "outputs": [
    {
     "data": {
      "text/plain": [
       "[['person1', 'person2', 'person3']]"
      ]
     },
     "execution_count": 18,
     "metadata": {},
     "output_type": "execute_result"
    }
   ],
   "source": [
    "test9(d8)"
   ]
  },
  {
   "cell_type": "code",
   "execution_count": 19,
   "metadata": {},
   "outputs": [
    {
     "data": {
      "text/plain": [
       "{'name': 'manu',\n",
       " 'mentor': {'fsds': 'person1', 'fsda': 'person2', 'bigdata': 'person3'}}"
      ]
     },
     "execution_count": 19,
     "metadata": {},
     "output_type": "execute_result"
    }
   ],
   "source": [
    "d8"
   ]
  },
  {
   "cell_type": "code",
   "execution_count": 22,
   "metadata": {},
   "outputs": [],
   "source": [
    "d8[\"name\"] = \"manu madhav\""
   ]
  },
  {
   "cell_type": "code",
   "execution_count": 23,
   "metadata": {},
   "outputs": [
    {
     "data": {
      "text/plain": [
       "{'name': 'manu madhav',\n",
       " 'mentor': {'fsds': 'person1', 'fsda': 'person2', 'bigdata': 'person3'}}"
      ]
     },
     "execution_count": 23,
     "metadata": {},
     "output_type": "execute_result"
    }
   ],
   "source": [
    "d8"
   ]
  },
  {
   "cell_type": "code",
   "execution_count": 24,
   "metadata": {},
   "outputs": [],
   "source": [
    "d8[\"mobile number\"] = 234523452345234"
   ]
  },
  {
   "cell_type": "code",
   "execution_count": 25,
   "metadata": {},
   "outputs": [
    {
     "data": {
      "text/plain": [
       "{'name': 'manu madhav',\n",
       " 'mentor': {'fsds': 'person1', 'fsda': 'person2', 'bigdata': 'person3'},\n",
       " 'mobile number': 234523452345234}"
      ]
     },
     "execution_count": 25,
     "metadata": {},
     "output_type": "execute_result"
    }
   ],
   "source": [
    "d8"
   ]
  },
  {
   "cell_type": "code",
   "execution_count": 26,
   "metadata": {},
   "outputs": [],
   "source": [
    "del d8[\"name\"]"
   ]
  },
  {
   "cell_type": "code",
   "execution_count": 27,
   "metadata": {},
   "outputs": [
    {
     "data": {
      "text/plain": [
       "{'mentor': {'fsds': 'person1', 'fsda': 'person2', 'bigdata': 'person3'},\n",
       " 'mobile number': 234523452345234}"
      ]
     },
     "execution_count": 27,
     "metadata": {},
     "output_type": "execute_result"
    }
   ],
   "source": [
    "d8"
   ]
  },
  {
   "cell_type": "code",
   "execution_count": 28,
   "metadata": {},
   "outputs": [],
   "source": [
    "d8['name'] =  'manu madhav new name'"
   ]
  },
  {
   "cell_type": "code",
   "execution_count": 29,
   "metadata": {},
   "outputs": [
    {
     "data": {
      "text/plain": [
       "{'mentor': {'fsds': 'person1', 'fsda': 'person2', 'bigdata': 'person3'},\n",
       " 'mobile number': 234523452345234,\n",
       " 'name': 'manu madhav new name'}"
      ]
     },
     "execution_count": 29,
     "metadata": {},
     "output_type": "execute_result"
    }
   ],
   "source": [
    "d8"
   ]
  },
  {
   "attachments": {},
   "cell_type": "markdown",
   "metadata": {},
   "source": [
    "## **kwargs can take n number of inputs and return dict , kwargs means keyword argument pair"
   ]
  },
  {
   "cell_type": "code",
   "execution_count": 30,
   "metadata": {},
   "outputs": [],
   "source": [
    "def test10(**kwargs):\n",
    "    \"\"\" something\"\"\"\n",
    "    return kwargs\n"
   ]
  },
  {
   "cell_type": "code",
   "execution_count": 31,
   "metadata": {},
   "outputs": [
    {
     "ename": "TypeError",
     "evalue": "test10() takes 0 positional arguments but 4 were given",
     "output_type": "error",
     "traceback": [
      "\u001b[1;31m---------------------------------------------------------------------------\u001b[0m",
      "\u001b[1;31mTypeError\u001b[0m                                 Traceback (most recent call last)",
      "\u001b[1;32mc:\\Users\\manum\\OneDrive\\0000.DS\\99. ML and Python\\00.iNeuron_FSDS2.0\\00.Python\\01.FSDS_Sep22\\FSDS2_LiveClass_Sudh_Functions-3.ipynb Cell 43\u001b[0m in \u001b[0;36m<cell line: 1>\u001b[1;34m()\u001b[0m\n\u001b[1;32m----> <a href='vscode-notebook-cell:/c%3A/Users/manum/OneDrive/0000.DS/99.%20ML%20and%20Python/00.iNeuron_FSDS2.0/00.Python/01.FSDS_Sep22/FSDS2_LiveClass_Sudh_Functions-3.ipynb#X56sZmlsZQ%3D%3D?line=0'>1</a>\u001b[0m test10(\u001b[39m1\u001b[39;49m,\u001b[39m2\u001b[39;49m,\u001b[39m3\u001b[39;49m,\u001b[39m4\u001b[39;49m)\n",
      "\u001b[1;31mTypeError\u001b[0m: test10() takes 0 positional arguments but 4 were given"
     ]
    }
   ],
   "source": [
    "test10(1,2,3,4)"
   ]
  },
  {
   "cell_type": "code",
   "execution_count": 32,
   "metadata": {},
   "outputs": [
    {
     "data": {
      "text/plain": [
       "{'a': 1, 'b': 2, 'c': 3, 'd': 4}"
      ]
     },
     "execution_count": 32,
     "metadata": {},
     "output_type": "execute_result"
    }
   ],
   "source": [
    "test10(a=1,b=2,c=3,d=4)"
   ]
  },
  {
   "cell_type": "code",
   "execution_count": 33,
   "metadata": {},
   "outputs": [
    {
     "ename": "SyntaxError",
     "evalue": "expression cannot contain assignment, perhaps you meant \"==\"? (1099794245.py, line 1)",
     "output_type": "error",
     "traceback": [
      "\u001b[1;36m  Input \u001b[1;32mIn [33]\u001b[1;36m\u001b[0m\n\u001b[1;33m    test11(1=1,b=2,c=3,d=4)\u001b[0m\n\u001b[1;37m           ^\u001b[0m\n\u001b[1;31mSyntaxError\u001b[0m\u001b[1;31m:\u001b[0m expression cannot contain assignment, perhaps you meant \"==\"?\n"
     ]
    }
   ],
   "source": [
    "test11(1=1,b=2,c=3,d=4) # will not work since assignment has to be with a variable."
   ]
  },
  {
   "cell_type": "code",
   "execution_count": 2,
   "metadata": {},
   "outputs": [],
   "source": [
    "def test11(**manu):\n",
    "    return manu"
   ]
  },
  {
   "cell_type": "code",
   "execution_count": 4,
   "metadata": {},
   "outputs": [
    {
     "data": {
      "text/plain": [
       "{'b': 'manu', 'm': 1234}"
      ]
     },
     "execution_count": 4,
     "metadata": {},
     "output_type": "execute_result"
    }
   ],
   "source": [
    "test11(b=\"manu\", m = 1234)\n"
   ]
  },
  {
   "cell_type": "code",
   "execution_count": 12,
   "metadata": {},
   "outputs": [],
   "source": [
    "def test12(a):\n",
    "    return a+\" \" +a\n",
    "\n",
    "def test13(b):\n",
    "    return 3*b\n",
    "\n",
    "def test14(func):\n",
    "    return func(\"manu1\")"
   ]
  },
  {
   "cell_type": "code",
   "execution_count": 13,
   "metadata": {},
   "outputs": [
    {
     "data": {
      "text/plain": [
       "'manu1 manu1'"
      ]
     },
     "execution_count": 13,
     "metadata": {},
     "output_type": "execute_result"
    }
   ],
   "source": [
    "test14(test12)"
   ]
  },
  {
   "cell_type": "code",
   "execution_count": 14,
   "metadata": {},
   "outputs": [
    {
     "data": {
      "text/plain": [
       "'manu1manu1manu1'"
      ]
     },
     "execution_count": 14,
     "metadata": {},
     "output_type": "execute_result"
    }
   ],
   "source": [
    "test14(test13)"
   ]
  },
  {
   "cell_type": "code",
   "execution_count": 15,
   "metadata": {},
   "outputs": [],
   "source": [
    "def test12(a):\n",
    "    return a+\" \" +a\n",
    "\n",
    "def test13():\n",
    "    return 3*b\n",
    "\n",
    "def test14(func):\n",
    "    return func(\"manu1\")"
   ]
  },
  {
   "cell_type": "code",
   "execution_count": 16,
   "metadata": {},
   "outputs": [
    {
     "ename": "TypeError",
     "evalue": "test13() takes 0 positional arguments but 1 was given",
     "output_type": "error",
     "traceback": [
      "\u001b[1;31m---------------------------------------------------------------------------\u001b[0m",
      "\u001b[1;31mTypeError\u001b[0m                                 Traceback (most recent call last)",
      "\u001b[1;32mc:\\Users\\manum\\OneDrive\\0000.DS\\99. ML and Python\\00.iNeuron_FSDS2.0\\00.Python\\01.FSDS_Sep22\\FSDS2_LiveClass_Sudh_Functions-3-12NOV22.ipynb Cell 52\u001b[0m in \u001b[0;36m<cell line: 1>\u001b[1;34m()\u001b[0m\n\u001b[1;32m----> <a href='vscode-notebook-cell:/c%3A/Users/manum/OneDrive/0000.DS/99.%20ML%20and%20Python/00.iNeuron_FSDS2.0/00.Python/01.FSDS_Sep22/FSDS2_LiveClass_Sudh_Functions-3-12NOV22.ipynb#Y102sZmlsZQ%3D%3D?line=0'>1</a>\u001b[0m test14(test13)\n",
      "\u001b[1;32mc:\\Users\\manum\\OneDrive\\0000.DS\\99. ML and Python\\00.iNeuron_FSDS2.0\\00.Python\\01.FSDS_Sep22\\FSDS2_LiveClass_Sudh_Functions-3-12NOV22.ipynb Cell 52\u001b[0m in \u001b[0;36mtest14\u001b[1;34m(func)\u001b[0m\n\u001b[0;32m      <a href='vscode-notebook-cell:/c%3A/Users/manum/OneDrive/0000.DS/99.%20ML%20and%20Python/00.iNeuron_FSDS2.0/00.Python/01.FSDS_Sep22/FSDS2_LiveClass_Sudh_Functions-3-12NOV22.ipynb#Y102sZmlsZQ%3D%3D?line=6'>7</a>\u001b[0m \u001b[39mdef\u001b[39;00m \u001b[39mtest14\u001b[39m(func):\n\u001b[1;32m----> <a href='vscode-notebook-cell:/c%3A/Users/manum/OneDrive/0000.DS/99.%20ML%20and%20Python/00.iNeuron_FSDS2.0/00.Python/01.FSDS_Sep22/FSDS2_LiveClass_Sudh_Functions-3-12NOV22.ipynb#Y102sZmlsZQ%3D%3D?line=7'>8</a>\u001b[0m     \u001b[39mreturn\u001b[39;00m func(\u001b[39m\"\u001b[39;49m\u001b[39mmanu1\u001b[39;49m\u001b[39m\"\u001b[39;49m)\n",
      "\u001b[1;31mTypeError\u001b[0m: test13() takes 0 positional arguments but 1 was given"
     ]
    }
   ],
   "source": [
    "test14(test13)"
   ]
  },
  {
   "cell_type": "code",
   "execution_count": 31,
   "metadata": {},
   "outputs": [],
   "source": [
    "def test12(a):\n",
    "    return a+\" \" +a\n",
    "\n",
    "def test13(*args):\n",
    "    return 3*args\n",
    "\n",
    "def test13_1(**kwargs):\n",
    "    return 3*kwargs\n",
    "\n",
    "def test14(func):\n",
    "    return func(\"manu1\")"
   ]
  },
  {
   "cell_type": "code",
   "execution_count": 32,
   "metadata": {},
   "outputs": [
    {
     "data": {
      "text/plain": [
       "('manu1', 'manu1', 'manu1')"
      ]
     },
     "execution_count": 32,
     "metadata": {},
     "output_type": "execute_result"
    }
   ],
   "source": [
    "test14(test13)"
   ]
  },
  {
   "cell_type": "code",
   "execution_count": 33,
   "metadata": {},
   "outputs": [
    {
     "ename": "TypeError",
     "evalue": "test13_1() takes 0 positional arguments but 1 was given",
     "output_type": "error",
     "traceback": [
      "\u001b[1;31m---------------------------------------------------------------------------\u001b[0m",
      "\u001b[1;31mTypeError\u001b[0m                                 Traceback (most recent call last)",
      "\u001b[1;32mc:\\Users\\manum\\OneDrive\\0000.DS\\99. ML and Python\\00.iNeuron_FSDS2.0\\00.Python\\01.FSDS_Sep22\\FSDS2_LiveClass_Sudh_Functions-3-12NOV22.ipynb Cell 55\u001b[0m in \u001b[0;36m<cell line: 1>\u001b[1;34m()\u001b[0m\n\u001b[1;32m----> <a href='vscode-notebook-cell:/c%3A/Users/manum/OneDrive/0000.DS/99.%20ML%20and%20Python/00.iNeuron_FSDS2.0/00.Python/01.FSDS_Sep22/FSDS2_LiveClass_Sudh_Functions-3-12NOV22.ipynb#Y105sZmlsZQ%3D%3D?line=0'>1</a>\u001b[0m test14(test13_1)\n",
      "\u001b[1;32mc:\\Users\\manum\\OneDrive\\0000.DS\\99. ML and Python\\00.iNeuron_FSDS2.0\\00.Python\\01.FSDS_Sep22\\FSDS2_LiveClass_Sudh_Functions-3-12NOV22.ipynb Cell 55\u001b[0m in \u001b[0;36mtest14\u001b[1;34m(func)\u001b[0m\n\u001b[0;32m     <a href='vscode-notebook-cell:/c%3A/Users/manum/OneDrive/0000.DS/99.%20ML%20and%20Python/00.iNeuron_FSDS2.0/00.Python/01.FSDS_Sep22/FSDS2_LiveClass_Sudh_Functions-3-12NOV22.ipynb#Y105sZmlsZQ%3D%3D?line=9'>10</a>\u001b[0m \u001b[39mdef\u001b[39;00m \u001b[39mtest14\u001b[39m(func):\n\u001b[1;32m---> <a href='vscode-notebook-cell:/c%3A/Users/manum/OneDrive/0000.DS/99.%20ML%20and%20Python/00.iNeuron_FSDS2.0/00.Python/01.FSDS_Sep22/FSDS2_LiveClass_Sudh_Functions-3-12NOV22.ipynb#Y105sZmlsZQ%3D%3D?line=10'>11</a>\u001b[0m     \u001b[39mreturn\u001b[39;00m func(\u001b[39m\"\u001b[39;49m\u001b[39mmanu1\u001b[39;49m\u001b[39m\"\u001b[39;49m)\n",
      "\u001b[1;31mTypeError\u001b[0m: test13_1() takes 0 positional arguments but 1 was given"
     ]
    }
   ],
   "source": [
    "test14(test13_1)"
   ]
  },
  {
   "cell_type": "code",
   "execution_count": 37,
   "metadata": {},
   "outputs": [],
   "source": [
    "def test15():\n",
    "    print(\"this is my test15\")\n",
    "    \n",
    "    def test16():\n",
    "        print(\"this is my test16\")\n",
    "    def test17():\n",
    "        print(\"this is my test17\")"
   ]
  },
  {
   "cell_type": "code",
   "execution_count": 38,
   "metadata": {},
   "outputs": [
    {
     "name": "stdout",
     "output_type": "stream",
     "text": [
      "this is my test15\n"
     ]
    }
   ],
   "source": [
    "test15() # not possible to call test16( ) or test17() unless we pass on a value to create a decision loop like below"
   ]
  },
  {
   "cell_type": "code",
   "execution_count": 39,
   "metadata": {},
   "outputs": [],
   "source": [
    "def test15(a):\n",
    "    print(\"this is my test15\")\n",
    "    \n",
    "    def test16():\n",
    "        print(\"this is my test16\")\n",
    "    def test17():\n",
    "        print(\"this is my test17\")\n",
    "    if a ==\"manu\":\n",
    "        return test16()\n",
    "    elif a ==\"madhav\":\n",
    "        return test17()\n"
   ]
  },
  {
   "cell_type": "code",
   "execution_count": 40,
   "metadata": {},
   "outputs": [
    {
     "name": "stdout",
     "output_type": "stream",
     "text": [
      "this is my test15\n",
      "this is my test16\n"
     ]
    }
   ],
   "source": [
    "test15(\"manu\")"
   ]
  },
  {
   "cell_type": "code",
   "execution_count": 5,
   "metadata": {},
   "outputs": [],
   "source": [
    "def test18(func):\n",
    "    def test19():\n",
    "        print(\" I am inside test 19\")\n",
    "        func(\"manu\")\n",
    "    return test19()"
   ]
  },
  {
   "cell_type": "code",
   "execution_count": 8,
   "metadata": {},
   "outputs": [],
   "source": [
    "def test13(*args):\n",
    "    print(\" This is test 13\")\n",
    "    #return 3*args"
   ]
  },
  {
   "cell_type": "code",
   "execution_count": 9,
   "metadata": {},
   "outputs": [
    {
     "name": "stdout",
     "output_type": "stream",
     "text": [
      " I am inside test 19\n",
      " This is test 13\n"
     ]
    }
   ],
   "source": [
    "test18(test13)"
   ]
  },
  {
   "attachments": {},
   "cell_type": "markdown",
   "metadata": {},
   "source": [
    "### how to call test 19 directly"
   ]
  },
  {
   "cell_type": "code",
   "execution_count": null,
   "metadata": {},
   "outputs": [],
   "source": [
    "def test18(func):\n",
    "    def test19():\n",
    "        print(\" I am inside test 19\")\n",
    "        # func(\"manu\")\n",
    "    return test19()"
   ]
  },
  {
   "attachments": {},
   "cell_type": "markdown",
   "metadata": {},
   "source": [
    "### COncept of Decorator"
   ]
  },
  {
   "attachments": {},
   "cell_type": "markdown",
   "metadata": {},
   "source": [
    "1. helpfull in calling someone else code into our code - for example logging \n",
    "2. This is a very good way to reutilize the code."
   ]
  },
  {
   "cell_type": "code",
   "execution_count": 1,
   "metadata": {},
   "outputs": [],
   "source": [
    "def test18(func):\n",
    "    def test19():\n",
    "        print(\" I am inside test 19 and this sill have a decorator to any function that I am going to call\")\n",
    "        func()\n",
    "    return test19()"
   ]
  },
  {
   "cell_type": "code",
   "execution_count": 2,
   "metadata": {},
   "outputs": [],
   "source": [
    "def test20():\n",
    "    print( \"this is my test20\")"
   ]
  },
  {
   "cell_type": "code",
   "execution_count": 3,
   "metadata": {},
   "outputs": [
    {
     "name": "stdout",
     "output_type": "stream",
     "text": [
      " I am inside test 19 and this sill have a decorator to any function that I am going to call\n",
      "this is my test20\n"
     ]
    }
   ],
   "source": [
    "test18(test20)"
   ]
  },
  {
   "attachments": {},
   "cell_type": "markdown",
   "metadata": {},
   "source": [
    "addin decorator to call another functon"
   ]
  },
  {
   "cell_type": "code",
   "execution_count": 4,
   "metadata": {},
   "outputs": [
    {
     "name": "stdout",
     "output_type": "stream",
     "text": [
      " I am inside test 19 and this sill have a decorator to any function that I am going to call\n",
      "this is my test20\n"
     ]
    }
   ],
   "source": [
    "@test18\n",
    "def test20():\n",
    "    print( \"this is my test20\")"
   ]
  },
  {
   "cell_type": "code",
   "execution_count": 5,
   "metadata": {},
   "outputs": [],
   "source": [
    "import os\n",
    "def test18(func):\n",
    "    def test19():\n",
    "        print(\" I am inside test 19 and this sill have a decorator to any function that I am going to call\")\n",
    "        print(os.getcwd())\n",
    "        func()\n",
    "    return test19()"
   ]
  },
  {
   "cell_type": "code",
   "execution_count": 6,
   "metadata": {},
   "outputs": [
    {
     "name": "stdout",
     "output_type": "stream",
     "text": [
      " I am inside test 19 and this sill have a decorator to any function that I am going to call\n",
      "c:\\Users\\manum\\OneDrive\\0000.DS\\99. ML and Python\\00.iNeuron_FSDS2.0\\00.Python\\01.FSDS_Sep22\n",
      "this is my test20\n"
     ]
    }
   ],
   "source": [
    "@test18\n",
    "def test20():\n",
    "    print( \"this is my test20\")"
   ]
  },
  {
   "cell_type": "code",
   "execution_count": 7,
   "metadata": {},
   "outputs": [],
   "source": [
    "def test20(func):\n",
    "    def test21():\n",
    "        func()\n",
    "        print(os.getcwd())\n",
    "    return test21()"
   ]
  },
  {
   "cell_type": "code",
   "execution_count": 9,
   "metadata": {},
   "outputs": [
    {
     "name": "stdout",
     "output_type": "stream",
     "text": [
      "this is test 22\n",
      "c:\\Users\\manum\\OneDrive\\0000.DS\\99. ML and Python\\00.iNeuron_FSDS2.0\\00.Python\\01.FSDS_Sep22\n",
      " I am inside test 19 and this sill have a decorator to any function that I am going to call\n",
      "c:\\Users\\manum\\OneDrive\\0000.DS\\99. ML and Python\\00.iNeuron_FSDS2.0\\00.Python\\01.FSDS_Sep22\n"
     ]
    },
    {
     "ename": "TypeError",
     "evalue": "'NoneType' object is not callable",
     "output_type": "error",
     "traceback": [
      "\u001b[1;31m---------------------------------------------------------------------------\u001b[0m",
      "\u001b[1;31mTypeError\u001b[0m                                 Traceback (most recent call last)",
      "\u001b[1;32mc:\\Users\\manum\\OneDrive\\0000.DS\\99. ML and Python\\00.iNeuron_FSDS2.0\\00.Python\\01.FSDS_Sep22\\FSDS2_LiveClass_Sudh_Functions-3-12NOV22.ipynb Cell 75\u001b[0m in \u001b[0;36m<cell line: 1>\u001b[1;34m()\u001b[0m\n\u001b[0;32m      <a href='vscode-notebook-cell:/c%3A/Users/manum/OneDrive/0000.DS/99.%20ML%20and%20Python/00.iNeuron_FSDS2.0/00.Python/01.FSDS_Sep22/FSDS2_LiveClass_Sudh_Functions-3-12NOV22.ipynb#Y134sZmlsZQ%3D%3D?line=0'>1</a>\u001b[0m \u001b[39m@test18\u001b[39;49m\n\u001b[0;32m      <a href='vscode-notebook-cell:/c%3A/Users/manum/OneDrive/0000.DS/99.%20ML%20and%20Python/00.iNeuron_FSDS2.0/00.Python/01.FSDS_Sep22/FSDS2_LiveClass_Sudh_Functions-3-12NOV22.ipynb#Y134sZmlsZQ%3D%3D?line=1'>2</a>\u001b[0m \u001b[39m@test20\u001b[39;49m\n\u001b[1;32m----> <a href='vscode-notebook-cell:/c%3A/Users/manum/OneDrive/0000.DS/99.%20ML%20and%20Python/00.iNeuron_FSDS2.0/00.Python/01.FSDS_Sep22/FSDS2_LiveClass_Sudh_Functions-3-12NOV22.ipynb#Y134sZmlsZQ%3D%3D?line=2'>3</a>\u001b[0m \u001b[39mdef\u001b[39;49;00m \u001b[39mtest22\u001b[39;49m():\n\u001b[0;32m      <a href='vscode-notebook-cell:/c%3A/Users/manum/OneDrive/0000.DS/99.%20ML%20and%20Python/00.iNeuron_FSDS2.0/00.Python/01.FSDS_Sep22/FSDS2_LiveClass_Sudh_Functions-3-12NOV22.ipynb#Y134sZmlsZQ%3D%3D?line=3'>4</a>\u001b[0m     \u001b[39mprint\u001b[39;49m(\u001b[39m\"\u001b[39;49m\u001b[39mthis is test 22\u001b[39;49m\u001b[39m\"\u001b[39;49m)\n",
      "\u001b[1;32mc:\\Users\\manum\\OneDrive\\0000.DS\\99. ML and Python\\00.iNeuron_FSDS2.0\\00.Python\\01.FSDS_Sep22\\FSDS2_LiveClass_Sudh_Functions-3-12NOV22.ipynb Cell 75\u001b[0m in \u001b[0;36mtest18\u001b[1;34m(func)\u001b[0m\n\u001b[0;32m      <a href='vscode-notebook-cell:/c%3A/Users/manum/OneDrive/0000.DS/99.%20ML%20and%20Python/00.iNeuron_FSDS2.0/00.Python/01.FSDS_Sep22/FSDS2_LiveClass_Sudh_Functions-3-12NOV22.ipynb#Y134sZmlsZQ%3D%3D?line=4'>5</a>\u001b[0m     \u001b[39mprint\u001b[39m(os\u001b[39m.\u001b[39mgetcwd())\n\u001b[0;32m      <a href='vscode-notebook-cell:/c%3A/Users/manum/OneDrive/0000.DS/99.%20ML%20and%20Python/00.iNeuron_FSDS2.0/00.Python/01.FSDS_Sep22/FSDS2_LiveClass_Sudh_Functions-3-12NOV22.ipynb#Y134sZmlsZQ%3D%3D?line=5'>6</a>\u001b[0m     func()\n\u001b[1;32m----> <a href='vscode-notebook-cell:/c%3A/Users/manum/OneDrive/0000.DS/99.%20ML%20and%20Python/00.iNeuron_FSDS2.0/00.Python/01.FSDS_Sep22/FSDS2_LiveClass_Sudh_Functions-3-12NOV22.ipynb#Y134sZmlsZQ%3D%3D?line=6'>7</a>\u001b[0m \u001b[39mreturn\u001b[39;00m test19()\n",
      "\u001b[1;32mc:\\Users\\manum\\OneDrive\\0000.DS\\99. ML and Python\\00.iNeuron_FSDS2.0\\00.Python\\01.FSDS_Sep22\\FSDS2_LiveClass_Sudh_Functions-3-12NOV22.ipynb Cell 75\u001b[0m in \u001b[0;36mtest18.<locals>.test19\u001b[1;34m()\u001b[0m\n\u001b[0;32m      <a href='vscode-notebook-cell:/c%3A/Users/manum/OneDrive/0000.DS/99.%20ML%20and%20Python/00.iNeuron_FSDS2.0/00.Python/01.FSDS_Sep22/FSDS2_LiveClass_Sudh_Functions-3-12NOV22.ipynb#Y134sZmlsZQ%3D%3D?line=3'>4</a>\u001b[0m \u001b[39mprint\u001b[39m(\u001b[39m\"\u001b[39m\u001b[39m I am inside test 19 and this sill have a decorator to any function that I am going to call\u001b[39m\u001b[39m\"\u001b[39m)\n\u001b[0;32m      <a href='vscode-notebook-cell:/c%3A/Users/manum/OneDrive/0000.DS/99.%20ML%20and%20Python/00.iNeuron_FSDS2.0/00.Python/01.FSDS_Sep22/FSDS2_LiveClass_Sudh_Functions-3-12NOV22.ipynb#Y134sZmlsZQ%3D%3D?line=4'>5</a>\u001b[0m \u001b[39mprint\u001b[39m(os\u001b[39m.\u001b[39mgetcwd())\n\u001b[1;32m----> <a href='vscode-notebook-cell:/c%3A/Users/manum/OneDrive/0000.DS/99.%20ML%20and%20Python/00.iNeuron_FSDS2.0/00.Python/01.FSDS_Sep22/FSDS2_LiveClass_Sudh_Functions-3-12NOV22.ipynb#Y134sZmlsZQ%3D%3D?line=5'>6</a>\u001b[0m func()\n",
      "\u001b[1;31mTypeError\u001b[0m: 'NoneType' object is not callable"
     ]
    }
   ],
   "source": [
    "@test18\n",
    "@test20\n",
    "def test22():\n",
    "    print(\"this is test 22\")"
   ]
  },
  {
   "cell_type": "code",
   "execution_count": 10,
   "metadata": {},
   "outputs": [
    {
     "name": "stdout",
     "output_type": "stream",
     "text": [
      "hello\n",
      "0.0\n"
     ]
    }
   ],
   "source": [
    "import time\n",
    "start = time.time()\n",
    "print(\"hello\")\n",
    "end = time.time()\n",
    "print(end - start)"
   ]
  },
  {
   "cell_type": "code",
   "execution_count": 30,
   "metadata": {},
   "outputs": [],
   "source": [
    "def test25(func):\n",
    "    def test26():\n",
    "        print(\" this will give you execution of time of function\")\n",
    "        start = time.time()\n",
    "        print(func())\n",
    "        end = time.time()\n",
    "        print(end - start)\n",
    "    return test26"
   ]
  },
  {
   "cell_type": "code",
   "execution_count": 12,
   "metadata": {},
   "outputs": [],
   "source": [
    "def test27():\n",
    "    l = [4,5,6,7,8,9]\n",
    "    l1= []\n",
    "    for i in l : \n",
    "        if type(i) == int:\n",
    "            l1.append(i)\n",
    "    return l1"
   ]
  },
  {
   "cell_type": "code",
   "execution_count": 13,
   "metadata": {},
   "outputs": [
    {
     "data": {
      "text/plain": [
       "[4, 5, 6, 7, 8, 9]"
      ]
     },
     "execution_count": 13,
     "metadata": {},
     "output_type": "execute_result"
    }
   ],
   "source": [
    "test27()\n"
   ]
  },
  {
   "cell_type": "code",
   "execution_count": 18,
   "metadata": {},
   "outputs": [],
   "source": [
    "import numpy\n",
    "import random"
   ]
  },
  {
   "cell_type": "code",
   "execution_count": 31,
   "metadata": {},
   "outputs": [
    {
     "name": "stdout",
     "output_type": "stream",
     "text": [
      "[1, 33, 3, 49, 18, 7, 4, 47, 46, 15, 6, 8, 30, 9, 26, 37, 41, 44, 13, 10, 12, 23, 14, 28, 45, 5, 39, 27, 43, 40, 24, 11, 29, 36, 25, 38, 42, 35, 34, 16]\n"
     ]
    }
   ],
   "source": [
    "l = random.sample(range(1, 50), 40)\n",
    "print(l)"
   ]
  },
  {
   "cell_type": "code",
   "execution_count": 42,
   "metadata": {},
   "outputs": [],
   "source": [
    "@test25\n",
    "def test28():\n",
    "    l = random.sample(range(1, 3500), 3000)\n",
    "    \n",
    "    l1= []\n",
    "    for i in l : \n",
    "        if type(i) == int:\n",
    "            l1.append(i)\n",
    "    return l1"
   ]
  },
  {
   "cell_type": "code",
   "execution_count": 43,
   "metadata": {},
   "outputs": [
    {
     "name": "stdout",
     "output_type": "stream",
     "text": [
      " this will give you execution of time of function\n",
      "[1526, 1234, 3032, 753, 2940, 2354, 2035, 2545, 1415, 2289, 775, 1657, 357, 3148, 2775, 2889, 3056, 940, 1974, 1058, 1425, 1481, 910, 2449, 1171, 1300, 2873, 1232, 3034, 2898, 544, 1646, 3130, 326, 1100, 930, 158, 362, 2095, 2573, 82, 1088, 2054, 819, 2181, 10, 3157, 1396, 1197, 2258, 2823, 1799, 1196, 3051, 605, 1273, 2832, 489, 918, 1622, 2728, 3378, 2199, 2040, 1721, 2878, 569, 632, 3433, 3374, 2350, 3426, 874, 5, 340, 2383, 1362, 2831, 334, 2556, 3300, 1677, 2162, 488, 2590, 3217, 550, 490, 2660, 534, 3040, 2856, 2008, 2685, 2336, 2470, 1309, 1138, 2360, 1195, 2236, 3257, 1204, 705, 264, 2272, 3315, 1649, 2908, 2917, 2964, 564, 1543, 2046, 1188, 2349, 1181, 1627, 1927, 1972, 2992, 1998, 3296, 2543, 1671, 3235, 1541, 2592, 829, 1114, 2945, 574, 1846, 1610, 1271, 994, 2487, 329, 1139, 1725, 439, 2307, 1708, 3437, 1653, 1314, 1172, 2778, 1028, 1293, 3463, 522, 2782, 2212, 2223, 3480, 2399, 1837, 2627, 1965, 1613, 117, 1263, 1580, 7, 2243, 2451, 3171, 2097, 358, 1492, 701, 308, 343, 2613, 406, 3041, 2366, 1278, 595, 1560, 755, 2290, 2880, 1778, 3179, 1394, 2298, 1611, 202, 659, 973, 1182, 2408, 1493, 2273, 846, 1192, 1063, 1395, 2394, 3275, 2049, 1704, 2274, 1124, 384, 2688, 440, 3470, 1282, 800, 1113, 1086, 2080, 1259, 744, 2513, 3326, 1878, 2530, 195, 2587, 2299, 1283, 3250, 2829, 1310, 1391, 307, 873, 1499, 1994, 1413, 2911, 1818, 2839, 2852, 1954, 2134, 2390, 425, 1060, 2077, 2262, 3155, 2356, 53, 1393, 1217, 1123, 279, 3136, 1964, 915, 2731, 2900, 1265, 2542, 2769, 1595, 2062, 1747, 1743, 240, 130, 1272, 119, 1686, 2346, 1528, 1069, 3439, 1125, 1934, 1175, 2398, 1809, 2073, 1034, 677, 3375, 1888, 575, 1636, 2369, 500, 1435, 2218, 1042, 2837, 3049, 1826, 1566, 981, 1975, 1428, 533, 1051, 3307, 1741, 2553, 1527, 581, 455, 2740, 1311, 3358, 1398, 1036, 1637, 2267, 2195, 657, 771, 1942, 1146, 2437, 2841, 811, 505, 1484, 2884, 2183, 1832, 84, 2027, 2680, 2333, 3006, 3419, 2565, 456, 1061, 1775, 1509, 1463, 197, 2118, 3499, 1148, 1416, 3169, 44, 2875, 149, 2721, 2084, 109, 1545, 1021, 983, 1661, 1009, 1177, 611, 2749, 474, 4, 2842, 210, 1121, 2450, 1187, 648, 587, 944, 2971, 3381, 722, 1374, 1849, 2944, 1658, 417, 1277, 1027, 1289, 2137, 946, 3404, 676, 2055, 2904, 900, 2872, 1381, 405, 375, 2361, 1075, 3055, 1926, 1884, 1612, 2640, 2938, 922, 16, 3002, 3025, 3311, 1783, 79, 2563, 1244, 1423, 394, 997, 1026, 719, 3143, 2759, 281, 3058, 872, 2302, 1377, 2535, 1714, 1206, 2292, 2, 1179, 2244, 731, 71, 2577, 1307, 878, 2773, 2667, 2305, 1769, 904, 1674, 2903, 2909, 2536, 2248, 714, 392, 3156, 2921, 1153, 2149, 1497, 1258, 704, 2479, 962, 803, 2205, 1090, 95, 265, 784, 155, 2523, 2388, 2558, 3066, 398, 649, 609, 1251, 3331, 2596, 3323, 205, 2372, 3469, 1162, 975, 1893, 927, 1108, 3127, 2459, 1186, 2843, 3456, 259, 936, 1521, 2865, 2726, 3248, 433, 3057, 2804, 1218, 339, 486, 165, 2434, 2514, 246, 3376, 1169, 1452, 2816, 1647, 3153, 1250, 3425, 2963, 1620, 723, 1670, 1189, 1941, 3415, 727, 1608, 1128, 2163, 2751, 1483, 902, 3159, 1050, 2379, 2506, 640, 3461, 1349, 652, 1737, 2520, 296, 172, 3278, 3344, 1200, 2516, 3466, 948, 546, 381, 1328, 147, 3474, 2331, 214, 2946, 790, 2161, 2605, 1956, 20, 2772, 2066, 1983, 612, 2864, 2546, 1993, 2502, 990, 2652, 3287, 1338, 3392, 1558, 2983, 3413, 966, 627, 1932, 711, 2251, 231, 1587, 448, 1912, 2286, 3154, 3122, 96, 136, 759, 167, 3185, 2645, 1294, 2038, 2456, 393, 1344, 2508, 2713, 3450, 643, 1770, 1679, 124, 2389, 2718, 106, 3285, 2484, 1115, 1630, 2179, 1356, 2123, 3244, 1571, 3081, 3114, 3052, 2107, 2625, 220, 1642, 880, 2405, 1733, 1651, 510, 360, 2571, 1552, 1284, 1666, 3320, 2167, 1880, 2221, 525, 593, 1779, 1127, 3282, 114, 254, 2533, 709, 552, 1313, 2422, 141, 1449, 2136, 2420, 1149, 3236, 2043, 1210, 1079, 2618, 815, 3046, 1868, 2566, 513, 2691, 806, 3498, 3493, 1117, 178, 1249, 1963, 3070, 1901, 957, 24, 3482, 721, 413, 2108, 2712, 2611, 1969, 3290, 1750, 3043, 751, 2838, 1767, 1886, 21, 1163, 361, 2977, 2013, 1235, 2812, 2457, 3267, 2164, 1505, 3123, 2215, 2997, 3414, 965, 1301, 2192, 1763, 341, 1354, 2808, 196, 2750, 2328, 2954, 2801, 2525, 1495, 754, 772, 423, 1465, 2999, 2686, 1432, 1685, 835, 818, 1119, 1756, 2822, 2710, 2397, 3298, 1548, 1348, 2016, 385, 1815, 3099, 1180, 3432, 2458, 2463, 2800, 1588, 664, 2345, 431, 2991, 3062, 66, 2318, 2795, 1655, 13, 666, 2633, 949, 3200, 3295, 530, 1600, 237, 3089, 855, 2585, 1931, 475, 3464, 2250, 3229, 1387, 1776, 672, 3405, 2391, 274, 1241, 760, 1150, 1032, 221, 2668, 2544, 1262, 2007, 86, 2140, 3215, 3473, 3395, 1939, 3008, 2211, 2579, 1382, 1071, 1854, 1057, 3289, 3362, 1753, 1402, 2321, 1984, 1019, 212, 3409, 2913, 1270, 2979, 2705, 2466, 1917, 3270, 8, 1732, 1855, 2974, 91, 57, 2681, 968, 2326, 3071, 2762, 1716, 52, 2700, 2301, 2941, 222, 2811, 1816, 143, 2455, 181, 919, 2076, 1240, 2030, 3093, 3224, 2847, 1626, 2153, 576, 638, 1720, 400, 3457, 322, 1869, 495, 419, 447, 2876, 856, 518, 2956, 484, 3441, 1517, 2916, 1140, 3438, 2950, 3283, 905, 2357, 1498, 2347, 1343, 1609, 317, 2855, 1958, 2353, 1607, 396, 512, 3277, 732, 3079, 1850, 177, 3206, 1909, 2031, 146, 3366, 1097, 656, 1054, 1462, 2287, 2375, 3101, 642, 1624, 331, 2748, 496, 1355, 241, 2018, 35, 2540, 102, 1461, 1503, 2720, 3234, 937, 548, 1320, 1827, 1275, 1648, 2920, 2407, 531, 917, 2409, 476, 3345, 571, 148, 1225, 1085, 260, 1804, 3104, 2915, 2722, 138, 3399, 3343, 1913, 2522, 2828, 2499, 1325, 3191, 1176, 2814, 715, 498, 807, 68, 2115, 1522, 1510, 3189, 2955, 959, 532, 3149, 1976, 275, 2528, 743, 1378, 1853, 2146, 3340, 1652, 1038, 1055, 1801, 2351, 3097, 3076, 1480, 2752, 1001, 1830, 543, 684, 330, 1011, 2022, 2024, 153, 211, 1043, 568, 1883, 2776, 931, 2736, 3492, 2510, 2494, 854, 2988, 565, 3479, 1602, 1949, 809, 3314, 1881, 3357, 789, 2840, 2621, 1231, 1408, 836, 454, 631, 1796, 1047, 1678, 154, 1684, 718, 1631, 1603, 3490, 935, 1794, 1633, 345, 2110, 780, 1534, 521, 37, 2254, 1791, 1290, 2927, 2933, 2936, 1641, 1375, 3230, 2473, 1112, 960, 1457, 1730, 641, 3180, 282, 1276, 1266, 1252, 839, 1372, 3359, 3407, 3390, 3246, 1164, 1925, 842, 1538, 1749, 939, 3410, 2268, 691, 304, 2951, 2734, 309, 688, 3084, 1371, 1727, 2600, 2958, 1501, 2604, 2319, 2325, 1160, 236, 2630, 2234, 434, 2365, 2883, 831, 2188, 1852, 2078, 2339, 2133, 216, 3355, 1559, 3064, 653, 686, 2809, 1808, 736, 19, 1345, 2224, 2145, 450, 1133, 2854, 3201, 129, 284, 1707, 2378, 2687, 171, 2626, 610, 3421, 3476, 3003, 3451, 3442, 3430, 2995, 3393, 2767, 3112, 2376, 272, 493, 1264, 1260, 646, 2805, 3091, 1960, 1628, 1831, 1247, 424, 3115, 3144, 186, 3137, 1213, 2269, 1332, 3337, 1814, 1143, 1586, 318, 1844, 1512, 2957, 850, 497, 3059, 2836, 2106, 2100, 3279, 3484, 368, 3228, 194, 2235, 1723, 673, 1267, 65, 34, 3231, 1248, 3293, 2042, 2021, 1784, 2893, 1851, 1790, 1907, 1921, 867, 955, 2410, 3011, 350, 3086, 3418, 2109, 466, 996, 2387, 3262, 1638, 3472, 995, 1118, 2783, 89, 555, 1005, 1224, 1621, 777, 3245, 1914, 1433, 1120, 1705, 786, 3322, 2277, 745, 1056, 2918, 580, 2371, 1472, 2949, 1863, 1582, 41, 2899, 3485, 696, 883, 3347, 3208, 1424, 298, 1563, 1899, 952, 1404, 1002, 1450, 1030, 2744, 1556, 3069, 1130, 868, 1690, 2012, 1950, 3494, 2860, 1530, 1550, 43, 1625, 1156, 1711, 1962, 596, 3338, 1577, 1072, 933, 121, 1039, 1211, 1365, 3333, 991, 840, 3434, 2467, 2476, 2343, 105, 841, 382, 3192, 2786, 1243, 1363, 1817, 70, 2112, 1833, 1321, 93, 436, 2074, 391, 1, 1970, 1722, 1519, 1676, 323, 2901, 1460, 1532, 2928, 1978, 30, 3253, 1752, 2413, 1903, 1439, 516, 810, 1298, 938, 72, 2862, 1335, 183, 585, 1876, 1836, 327, 2052, 2978, 3349, 3138, 553, 3205, 3263, 1955, 2791, 373, 3423, 3183, 427, 598, 2113, 2755, 2907, 2679, 1077, 885, 1546, 2505, 1777, 1442, 462, 2576, 2788, 1337, 982, 397, 716, 3048, 2771, 2532, 1508, 2825, 116, 2308, 816, 2217, 2481, 761, 1089, 2281, 2159, 3075, 3039, 1682, 268, 2103, 374, 2220, 953, 1096, 2086, 2418, 1935, 3146, 1573, 262, 2131, 2632, 3335, 100, 2421, 864, 2475, 607, 584, 908, 1781, 503, 399, 1564, 176, 781, 3080, 1406, 1864, 1454, 3251, 3038, 2165, 1286, 804, 2725, 2575, 1288, 3170, 802, 3371, 914, 118, 1761, 2426, 2116, 2636, 1659, 739, 2698, 1845, 1981, 713, 832, 1905, 1486, 3140, 443, 2028, 338, 592, 3402, 2942, 2715, 963, 979, 110, 3074, 2010, 3256, 820, 2754, 332, 1535, 1302, 27, 3401, 2317, 590, 2765, 261, 2582, 1045, 2554, 625, 1369, 1017, 437, 3491, 881, 1665, 1246, 1889, 1696, 2943, 2160, 128, 2403, 1928, 1360, 64, 346, 428, 1579, 879, 1904, 2117, 2649, 2500, 386, 2650, 984, 2665, 2959, 42, 2152, 1006, 409, 3440, 492, 208, 1513, 859, 3264, 1099, 1136, 337, 852, 291, 67, 2204, 901, 1525, 150, 3321, 766, 3412, 2610, 3239, 2425, 270, 621, 1640, 1672, 2976, 131, 469, 2337, 3317, 2557, 1824, 3327, 162, 702, 1388, 218, 389, 2367, 2747, 2358, 1053, 2560, 2615, 3352, 3105, 3306, 2208, 482, 1699, 3113, 349, 3389, 3258, 3486, 2166, 2193, 697, 1961, 2169, 50, 1033, 699, 1261, 3182, 1323, 1193, 1412, 2004, 1952, 798, 2774, 2910, 1680, 3408, 1364, 912, 2255, 2461, 2474, 1570, 2703, 123, 3204, 2593, 1793, 2017, 2029, 980, 238, 2658, 3161, 2622, 2595, 945, 3316, 1083, 3195, 644, 2669, 3495, 228, 1488, 3158, 352, 3291, 1792, 1361, 1340, 2270, 1635, 685, 3242, 460, 2799, 2549, 2810, 1202, 1825, 1468, 2564, 741, 1389, 2182, 85, 376, 12, 2144, 2480, 2335, 2158, 2537, 2567, 465, 3109, 2241, 2702, 94, 1891, 1429, 1811, 3354, 1916, 3165, 2271, 1695, 2987, 1303, 2690, 1239, 2794, 1469, 1858, 670, 1308, 1059, 3124, 133, 870, 3190, 25, 243, 703, 3111, 1351, 2297, 2068, 2612, 509, 3015, 2322, 2406, 104, 1007, 542, 1068, 2888, 1948, 3175, 626, 3133, 3431, 3199, 734, 765, 2986, 710, 2879, 2020, 3004, 3447, 903, 3214, 2428, 898, 217, 1759, 325, 2311, 101, 799, 782, 2295, 539, 941, 3061, 3164, 3019, 457, 3060, 1645, 3460, 1953, 1669, 3310, 2462, 757, 3202, 2518, 1494, 3292, 371, 420, 227, 1506, 2617, 2432, 675, 3174, 1081, 3142, 2492, 730, 1896, 2037, 3012, 2719, 2263, 2694, 669, 258, 3116, 932, 3339, 127, 1380, 956, 1806, 678, 3328, 2222, 2089, 1227, 770, 2435, 1322, 2891, 2190, 3417, 2395, 890, 390, 135, 2929, 2125, 22, 1520, 3356, 3023, 2082, 2655, 2237, 347, 1996, 3274, 1834, 184, 3078, 2246, 1805, 2444, 2952, 401, 3151, 1848, 3083, 1842, 2424, 1443, 1967, 1599, 1924, 828, 219, 1859, 2807, 1104, 1152, 179, 1703, 3065, 826, 2512, 1016, 1154, 2138, 665, 3117, 1093, 3172, 2711, 1205, 615, 1643, 511, 2464, 2827, 1668, 689, 3063, 49, 1812, 294, 1518, 191, 2678, 823, 2381, 2114, 3394, 164, 654, 884, 1773, 1795, 2699, 2446, 3471, 892, 1697, 2471, 583, 1145, 23, 2135, 1292, 1458, 2216, 1758, 501, 2664, 924, 2015, 1098, 2733, 1256, 297, 1184, 1765, 825, 77, 1644, 1105, 989, 891, 2975, 1467, 295, 1419, 2935, 1726, 2674, 1918, 929, 485, 1565, 1892, 907, 2207, 1212, 2671, 773, 591, 1414, 1885, 1504, 3203, 1470, 655, 853, 1405, 2306, 311, 1567, 1768, 1908, 2539, 51, 717, 3168, 1938, 2323, 2465, 1296, 2313, 2327, 3364, 1474, 2696, 3100, 3045, 2285, 1496, 3000, 862, 145, 2284, 2191, 2493, 3238, 3455, 758, 1095, 2059, 2863, 1107, 1185, 372, 2961, 2616, 1803, 801, 988, 1350, 366, 2380, 1629, 2332, 442, 242, 3368, 2501, 535, 3383, 3259, 239, 764, 1989, 477, 1305, 2985, 1238, 2119, 2931, 618, 1236, 3132, 2914, 2334, 62, 577, 528, 1902, 355, 1744, 520, 2846, 1835, 1159, 3016, 792, 2830, 1411, 2026, 866, 1995, 2293, 738, 479, 2075, 3481, 896, 461, 2892, 2757, 508, 2053, 2330, 1698, 2648, 2176, 3435, 2789, 928, 1410, 2253, 1787, 1700, 115, 768, 2529, 107, 2981, 3458, 3351, 720, 1134, 3304, 1734, 2570, 2352, 2039, 395, 1407, 2083, 2032, 2651, 1894, 315, 1766, 2036, 125, 1821, 519, 1135, 1810, 273, 3429, 2656, 2793, 3319, 3443, 478, 83, 2141, 1709, 2614, 2342, 3145, 1957, 324, 1874, 1142, 40, 459, 1070, 2129, 2498, 1253, 1122, 3252, 1155, 3042, 87, 481, 796, 597, 2803, 1471, 2227, 504, 283, 2701, 561, 483, 256, 1944, 277, 2368, 1245, 1385, 3459, 1712, 527, 1341, 1584, 1601, 1037, 2781, 2177, 156, 3237, 2288, 3478, 639, 3465, 333, 1157, 888, 3098, 2584, 985, 2105, 2673, 1971, 2139, 1101, 174, 2534, 3284, 849, 813, 2488, 2069, 2973, 3018, 1166, 2620, 2896, 1013, 60, 1977, 724, 617, 613, 319, 3255, 2238, 2198, 934, 794, 2826, 480, 2148, 1598, 2851, 2766, 1591, 421, 1459, 310, 1539, 321, 2966, 418, 1597, 1041, 2064, 1968, 1080, 3249, 2857, 3220, 517, 1441, 1226, 674, 303, 2641, 199, 529, 3422, 2606, 3240, 2960, 2150, 1092, 3010, 47, 2469, 1553, 2296, 2597, 3372, 137, 1446, 2490, 2324, 1084, 502, 3477, 134, 2005, 3420, 1437, 601, 1838, 3334, 76, 1366, 1980, 3150, 1170, 2102, 336, 2355, 1487, 1024, 541, 1596, 1370, 1208, 3197, 185, 2968, 1900, 1324, 2624, 2739, 11, 2724, 1448, 1479, 487, 2171, 299, 2866, 837, 3403, 26, 2932, 9, 414, 344, 229, 491, 1739, 1132, 3299, 1475, 1746, 3350, 683, 3152, 494, 200, 2923, 203, 160, 1339, 978, 3475, 2094, 416, 1326, 1229, 63, 1384, 1330, 2761, 3221, 2730, 463, 2142, 2085, 3118, 1911, 3119, 2586, 142, 453, 1757, 1076, 2895, 2003, 600, 2723, 769, 170, 1455, 827, 2527, 1464, 1780, 351, 90, 747, 2902, 2309, 1890, 1279, 795, 168, 1347, 3396, 538, 2385, 2591, 954, 32, 2130, 445, 1066, 2581, 2433, 1018, 111, 3369, 2392, 2601, 3313, 2806, 2050, 778, 1029, 2363, 1219, 2098, 3108, 3445, 3301, 370, 700, 1255, 1898, 2213, 3139, 660, 81, 3106, 1910, 622, 2707, 292, 578, 3379, 1940, 2623, 2531, 999, 2887, 733, 2196, 3496, 2402, 1692, 1576, 1693, 3054, 3053, 207, 1491, 2128, 986, 2124, 1862, 2065, 54, 3346, 3001, 2079, 822, 847, 3226, 779, 2663, 365, 61, 1664, 967, 2714, 1606, 2259, 3454, 2477, 1319, 18, 1478, 1731, 1426, 1485, 2057, 817, 301, 3342, 645, 3134, 911, 1650, 599, 1386, 573, 2631, 572, 1342, 378, 151, 1762, 3212, 1400, 226, 2675, 2063, 586, 830, 3487, 2994, 2279, 2644, 1729, 2414, 2452, 2654, 1436, 1985, 3160, 797, 1654, 2091, 1870, 2853, 232, 367, 2393, 1623, 403, 2441, 3400, 2659, 169, 2260, 2643, 435, 1745, 1102, 2300, 2210, 1216, 1440, 320, 2002, 740, 1691, 2784, 1214, 2922, 1843, 3303, 551, 594, 2569, 2515, 2989, 3209, 1269, 2890, 3088, 201, 635, 2746, 73, 974, 750, 2753, 2000, 189, 2965, 2511, 2266, 749, 3125, 1141, 2521, 3266, 1738, 1367, 2589, 887, 3033, 446, 126, 582, 737, 1660, 2768, 2226, 2344, 286, 1331, 3449, 2967, 1158, 1178, 1257, 1617, 1529, 412, 1828, 2172, 2228, 1742, 2310, 1540, 2436, 1242, 1110, 1376, 2194, 1561, 1718, 2206, 1710, 3219, 2454, 2507, 634, 3193, 3141, 2209, 1312, 2894, 921, 563, 2400, 3391, 2517, 2264, 909, 369, 2796, 1418, 2404, 1728, 2821, 1802, 2377, 3268, 1789, 3028, 2886, 1547, 2871, 411, 92, 2550, 2602, 1131, 523, 2001, 1329, 3210, 3110, 698, 3131, 230, 3027, 1589, 1015, 1403, 1915, 1562, 2770, 1409, 1358, 2472, 3014, 108, 650, 834, 2882, 31, 2661, 3483, 2440, 2341, 630, 1287, 2495, 1574, 1605, 1222, 1430, 2704, 1003, 2972, 3068, 608, 247, 2779, 56, 2081, 774, 249, 1087, 2090, 2359, 2201, 3468, 215, 441, 1583, 1683, 2551, 2763, 690, 869, 2096, 1542, 383, 3446, 707, 1304, 2509, 2147, 166, 2937, 3318, 161, 1046, 2692, 2682, 2802, 1841, 1807, 2709, 213, 1434, 1274, 180, 187, 1500, 540, 2859, 589, 667, 658, 2984, 1615, 2401, 2764, 3233, 971, 38, 3177, 2572, 3330, 2283, 861, 728, 2374, 877, 2756, 2578, 566, 248, 2925, 1531, 1040, 3035, 1233, 1662, 620, 1592, 3184, 2120, 2867, 3377, 2926, 2693, 3147, 1930, 3361, 1919, 1073, 2320, 1207, 2178, 3207, 1614, 3336, 1923, 2835, 1999, 3050, 3021, 3013, 29, 926, 2070, 863, 1897, 636, 876, 1966, 3090, 1368, 1111, 3047, 729, 2249, 2247, 1988, 2619, 748, 1116, 1593, 1317, 45, 2815, 3176, 1004, 1035, 663, 1254, 2025, 3453, 2197, 1194, 1866, 1920, 1536, 1760, 1427, 1822, 2634, 602, 860, 1922, 1735, 947, 234, 1594, 2384, 3386, 661, 851, 1871, 1020, 3332, 1639, 2187, 364, 2174, 1537, 1829, 75, 2869, 1438, 2121, 3384, 3129, 1604, 2583, 2706, 3167, 1173, 6, 791, 3273, 2653, 2061, 916, 706, 132, 3380, 1785, 2526, 3360, 1062, 269, 2519, 1444, 2412, 2122, 3211, 1237, 2738, 2996, 198, 1507, 767, 499, 407, 2370, 923, 2717, 2245, 257, 1000, 1867, 1860, 1982, 422, 2737, 1295, 2329, 438, 2635, 2468, 2818, 2547, 2431, 3341, 316, 2189, 3247, 3128, 2672, 1634, 2041, 3135, 2415, 1951, 267, 429, 2609, 1715, 2168, 1161, 1392, 2173, 3077, 2638, 1078, 1379, 2265, 1632, 2934, 2483, 1012, 1751, 726, 3216, 2905, 377, 1797, 2489, 1390, 943, 712, 588, 3029, 3225, 306, 1575, 266, 2445, 1800, 1861, 2214, 1316, 3288, 1689, 1887, 1973, 3424, 1992, 2868, 2562, 783, 1619, 3241, 1946, 992, 2482, 97, 681, 603, 244, 3388, 2848, 2156, 2777, 1489, 1431, 356, 2044, 2315, 788, 3007, 1126, 3194, 1813, 39, 2419, 1719, 2833, 3163, 1754, 1466, 2637, 2155, 1736, 3232, 3286, 2092, 1882, 875, 2844, 2628, 3385, 579, 668, 33, 951, 793, 3102, 3436, 950, 2056, 2362, 3121, 3406, 1502, 3227, 682, 1986, 1230, 78, 359, 122, 3073, 633, 1456, 2202, 3324, 120, 3448, 1524, 74, 1549, 1724, 2982, 3308, 300, 2760, 36, 1215, 2684, 2594, 1675, 2729, 430, 2443, 2303, 1819, 893, 1357, 1397, 1694, 2438, 3365, 614, 2608, 1618, 1082, 3353, 3297, 1201, 1511, 1581, 2051, 328, 379, 1740, 570, 354, 1191, 2662, 2897, 1228, 2261, 1872, 223, 152, 302, 1569, 2093, 17, 3092, 1840, 2127, 1190, 233, 2034, 843, 619, 2758, 1667, 1713, 557, 3427, 2598, 2574, 2314, 1147, 3411, 2009, 2439, 3243, 173, 288, 449, 556, 3166, 2559, 2850, 2708, 1544, 3085, 547, 3397, 776, 2126, 1585, 3036, 3373, 1285, 1906, 1771, 2732, 2048, 1373, 1445, 1091, 1280, 1421, 1873, 2849, 250, 139, 1065, 2824, 3497, 2993, 14, 1334, 113, 1782]\n",
      "0.011968851089477539\n"
     ]
    }
   ],
   "source": [
    "test28()"
   ]
  },
  {
   "cell_type": "code",
   "execution_count": null,
   "metadata": {},
   "outputs": [],
   "source": []
  }
 ],
 "metadata": {
  "kernelspec": {
   "display_name": "Python 3.9.12 ('base')",
   "language": "python",
   "name": "python3"
  },
  "language_info": {
   "codemirror_mode": {
    "name": "ipython",
    "version": 3
   },
   "file_extension": ".py",
   "mimetype": "text/x-python",
   "name": "python",
   "nbconvert_exporter": "python",
   "pygments_lexer": "ipython3",
   "version": "3.9.12 (main, Apr  4 2022, 05:22:27) [MSC v.1916 64 bit (AMD64)]"
  },
  "orig_nbformat": 4,
  "vscode": {
   "interpreter": {
    "hash": "ad2bdc8ecc057115af97d19610ffacc2b4e99fae6737bb82f5d7fb13d2f2c186"
   }
  }
 },
 "nbformat": 4,
 "nbformat_minor": 2
}
