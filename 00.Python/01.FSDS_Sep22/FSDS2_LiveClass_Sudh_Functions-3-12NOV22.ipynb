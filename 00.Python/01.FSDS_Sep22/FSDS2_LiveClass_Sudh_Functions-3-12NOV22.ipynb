{
 "cells": [
  {
   "cell_type": "code",
   "execution_count": 3,
   "metadata": {},
   "outputs": [],
   "source": [
    "def test1(a,b):\n",
    "    return a+b"
   ]
  },
  {
   "cell_type": "code",
   "execution_count": 4,
   "metadata": {},
   "outputs": [
    {
     "data": {
      "text/plain": [
       "9"
      ]
     },
     "execution_count": 4,
     "metadata": {},
     "output_type": "execute_result"
    }
   ],
   "source": [
    "test1(4,5)"
   ]
  },
  {
   "cell_type": "code",
   "execution_count": 6,
   "metadata": {},
   "outputs": [
    {
     "data": {
      "text/plain": [
       "'manu madhav'"
      ]
     },
     "execution_count": 6,
     "metadata": {},
     "output_type": "execute_result"
    }
   ],
   "source": [
    "test1(\"manu\",\" madhav\")"
   ]
  },
  {
   "cell_type": "code",
   "execution_count": 1,
   "metadata": {},
   "outputs": [],
   "source": [
    "def test5(*args):\n",
    "    l = list()\n",
    "    for i in args :\n",
    "        l.append(i)\n",
    "    return l"
   ]
  },
  {
   "cell_type": "code",
   "execution_count": 2,
   "metadata": {},
   "outputs": [
    {
     "data": {
      "text/plain": [
       "[1, 2, 3, 4, 5]"
      ]
     },
     "execution_count": 2,
     "metadata": {},
     "output_type": "execute_result"
    }
   ],
   "source": [
    "test5(1,2,3,4,5)"
   ]
  },
  {
   "cell_type": "code",
   "execution_count": 3,
   "metadata": {},
   "outputs": [
    {
     "data": {
      "text/plain": [
       "[5, 4, 5, 6]"
      ]
     },
     "execution_count": 3,
     "metadata": {},
     "output_type": "execute_result"
    }
   ],
   "source": [
    "test5(2+3,4,5,6)"
   ]
  },
  {
   "attachments": {},
   "cell_type": "markdown",
   "metadata": {},
   "source": [
    "Dictionary\n"
   ]
  },
  {
   "cell_type": "code",
   "execution_count": 4,
   "metadata": {},
   "outputs": [],
   "source": [
    "d2 = {\"Key1\": \"manu\",\"key2\":\"madhav\"}"
   ]
  },
  {
   "cell_type": "code",
   "execution_count": 5,
   "metadata": {},
   "outputs": [
    {
     "data": {
      "text/plain": [
       "dict"
      ]
     },
     "execution_count": 5,
     "metadata": {},
     "output_type": "execute_result"
    }
   ],
   "source": [
    "type(d2)"
   ]
  },
  {
   "cell_type": "code",
   "execution_count": null,
   "metadata": {},
   "outputs": [],
   "source": [
    "d2 = {\"Key1\": \"manu\",\"key2\":\"madhav\"}"
   ]
  },
  {
   "cell_type": "code",
   "execution_count": 6,
   "metadata": {},
   "outputs": [],
   "source": [
    "d3 = {12345: 324214}"
   ]
  },
  {
   "cell_type": "code",
   "execution_count": 7,
   "metadata": {},
   "outputs": [],
   "source": [
    "d4 = {\"$adsfsd\":1231123}"
   ]
  },
  {
   "cell_type": "code",
   "execution_count": 8,
   "metadata": {},
   "outputs": [
    {
     "ename": "TypeError",
     "evalue": "unhashable type: 'list'",
     "output_type": "error",
     "traceback": [
      "\u001b[1;31m---------------------------------------------------------------------------\u001b[0m",
      "\u001b[1;31mTypeError\u001b[0m                                 Traceback (most recent call last)",
      "\u001b[1;32mc:\\Users\\manum\\OneDrive\\0000.DS\\99. ML and Python\\00.iNeuron_FSDS2.0\\00.Python\\01.FSDS_Sep22\\FSDS2_LiveClass_Sudh_Functions-3.ipynb Cell 13\u001b[0m in \u001b[0;36m<cell line: 1>\u001b[1;34m()\u001b[0m\n\u001b[1;32m----> <a href='vscode-notebook-cell:/c%3A/Users/manum/OneDrive/0000.DS/99.%20ML%20and%20Python/00.iNeuron_FSDS2.0/00.Python/01.FSDS_Sep22/FSDS2_LiveClass_Sudh_Functions-3.ipynb#X15sZmlsZQ%3D%3D?line=0'>1</a>\u001b[0m d5 \u001b[39m=\u001b[39m {[\u001b[39m12341234\u001b[39m]:\u001b[39m31234123\u001b[39m}\n",
      "\u001b[1;31mTypeError\u001b[0m: unhashable type: 'list'"
     ]
    }
   ],
   "source": [
    "d5 = {[12341234]:31234123}"
   ]
  },
  {
   "cell_type": "code",
   "execution_count": 10,
   "metadata": {},
   "outputs": [
    {
     "ename": "SyntaxError",
     "evalue": "invalid syntax (75615722.py, line 1)",
     "output_type": "error",
     "traceback": [
      "\u001b[1;36m  Input \u001b[1;32mIn [10]\u001b[1;36m\u001b[0m\n\u001b[1;33m    d6 = {(12,23,34):\"hello\",2341234}\u001b[0m\n\u001b[1;37m                                    ^\u001b[0m\n\u001b[1;31mSyntaxError\u001b[0m\u001b[1;31m:\u001b[0m invalid syntax\n"
     ]
    }
   ],
   "source": [
    "d6 = {(12,23,34):\"hello\",2341234}"
   ]
  },
  {
   "attachments": {},
   "cell_type": "markdown",
   "metadata": {},
   "source": [
    "### Notes : \n",
    "1. list cant be Keyword but tuples can be a keyword.\n",
    "2. keys or keywords cant be duplicated, but values can be duplicated\n"
   ]
  },
  {
   "cell_type": "code",
   "execution_count": 1,
   "metadata": {},
   "outputs": [],
   "source": [
    "d8 = {\"fsds\":\"person1\",\"fsda\":\"person2\", \"bigdata\":\"person3\" }"
   ]
  },
  {
   "cell_type": "code",
   "execution_count": 2,
   "metadata": {},
   "outputs": [
    {
     "data": {
      "text/plain": [
       "dict_values(['person1', 'person2', 'person3'])"
      ]
     },
     "execution_count": 2,
     "metadata": {},
     "output_type": "execute_result"
    }
   ],
   "source": [
    "d8.values()"
   ]
  },
  {
   "cell_type": "code",
   "execution_count": 3,
   "metadata": {},
   "outputs": [
    {
     "data": {
      "text/plain": [
       "dict_keys(['fsds', 'fsda', 'bigdata'])"
      ]
     },
     "execution_count": 3,
     "metadata": {},
     "output_type": "execute_result"
    }
   ],
   "source": [
    "d8.keys()"
   ]
  },
  {
   "cell_type": "code",
   "execution_count": 4,
   "metadata": {},
   "outputs": [
    {
     "data": {
      "text/plain": [
       "{'fsds': 'person1', 'fsda': 'person2', 'bigdata': 'person3'}"
      ]
     },
     "execution_count": 4,
     "metadata": {},
     "output_type": "execute_result"
    }
   ],
   "source": [
    "d8"
   ]
  },
  {
   "cell_type": "code",
   "execution_count": 5,
   "metadata": {},
   "outputs": [],
   "source": [
    "d8 = {\"name\":\"manu\",\n",
    "\"mentor\":{\"fsds\":\"person1\",\"fsda\":\"person2\", \"bigdata\":\"person3\" }}"
   ]
  },
  {
   "cell_type": "code",
   "execution_count": 6,
   "metadata": {},
   "outputs": [
    {
     "data": {
      "text/plain": [
       "['manu', {'fsds': 'person1', 'fsda': 'person2', 'bigdata': 'person3'}]"
      ]
     },
     "execution_count": 6,
     "metadata": {},
     "output_type": "execute_result"
    }
   ],
   "source": [
    "list(d8.values())"
   ]
  },
  {
   "cell_type": "code",
   "execution_count": 7,
   "metadata": {},
   "outputs": [
    {
     "data": {
      "text/plain": [
       "['person1', 'person2', 'person3']"
      ]
     },
     "execution_count": 7,
     "metadata": {},
     "output_type": "execute_result"
    }
   ],
   "source": [
    "list(d8[\"mentor\"].values())"
   ]
  },
  {
   "cell_type": "code",
   "execution_count": 9,
   "metadata": {},
   "outputs": [],
   "source": [
    "l =[]\n",
    "for i in d8.keys():\n",
    "    if type(d8[i]) == dict :\n",
    "        l.append(d8.values())"
   ]
  },
  {
   "cell_type": "code",
   "execution_count": 10,
   "metadata": {},
   "outputs": [
    {
     "data": {
      "text/plain": [
       "[dict_values(['manu', {'fsds': 'person1', 'fsda': 'person2', 'bigdata': 'person3'}])]"
      ]
     },
     "execution_count": 10,
     "metadata": {},
     "output_type": "execute_result"
    }
   ],
   "source": [
    "l"
   ]
  },
  {
   "cell_type": "code",
   "execution_count": 11,
   "metadata": {},
   "outputs": [],
   "source": [
    "l =[]\n",
    "for i in d8.keys():\n",
    "    if type(d8[i]) == dict :\n",
    "        l.append(d8[i].values())"
   ]
  },
  {
   "cell_type": "code",
   "execution_count": 12,
   "metadata": {},
   "outputs": [
    {
     "data": {
      "text/plain": [
       "[dict_values(['person1', 'person2', 'person3'])]"
      ]
     },
     "execution_count": 12,
     "metadata": {},
     "output_type": "execute_result"
    }
   ],
   "source": [
    "l"
   ]
  },
  {
   "attachments": {},
   "cell_type": "markdown",
   "metadata": {},
   "source": [
    "## append all values of a sub dictionary"
   ]
  },
  {
   "cell_type": "code",
   "execution_count": 14,
   "metadata": {},
   "outputs": [
    {
     "data": {
      "text/plain": [
       "[['person1', 'person2', 'person3']]"
      ]
     },
     "execution_count": 14,
     "metadata": {},
     "output_type": "execute_result"
    }
   ],
   "source": [
    "l =[]\n",
    "for i in d8.keys():\n",
    "    if type(d8[i]) == dict :\n",
    "        l.append(list(d8[i].values()))\n",
    "l"
   ]
  },
  {
   "attachments": {},
   "cell_type": "markdown",
   "metadata": {},
   "source": [
    "### covnerting into a function"
   ]
  },
  {
   "cell_type": "code",
   "execution_count": 17,
   "metadata": {},
   "outputs": [],
   "source": [
    "def test9(d):\n",
    "    l =[]\n",
    "    for i in d.keys():\n",
    "        if type(d[i]) == dict :\n",
    "            l.append(list(d[i].values()))\n",
    "    return l"
   ]
  },
  {
   "cell_type": "code",
   "execution_count": 18,
   "metadata": {},
   "outputs": [
    {
     "data": {
      "text/plain": [
       "[['person1', 'person2', 'person3']]"
      ]
     },
     "execution_count": 18,
     "metadata": {},
     "output_type": "execute_result"
    }
   ],
   "source": [
    "test9(d8)"
   ]
  },
  {
   "cell_type": "code",
   "execution_count": 19,
   "metadata": {},
   "outputs": [
    {
     "data": {
      "text/plain": [
       "{'name': 'manu',\n",
       " 'mentor': {'fsds': 'person1', 'fsda': 'person2', 'bigdata': 'person3'}}"
      ]
     },
     "execution_count": 19,
     "metadata": {},
     "output_type": "execute_result"
    }
   ],
   "source": [
    "d8"
   ]
  },
  {
   "cell_type": "code",
   "execution_count": 22,
   "metadata": {},
   "outputs": [],
   "source": [
    "d8[\"name\"] = \"manu madhav\""
   ]
  },
  {
   "cell_type": "code",
   "execution_count": 23,
   "metadata": {},
   "outputs": [
    {
     "data": {
      "text/plain": [
       "{'name': 'manu madhav',\n",
       " 'mentor': {'fsds': 'person1', 'fsda': 'person2', 'bigdata': 'person3'}}"
      ]
     },
     "execution_count": 23,
     "metadata": {},
     "output_type": "execute_result"
    }
   ],
   "source": [
    "d8"
   ]
  },
  {
   "cell_type": "code",
   "execution_count": 24,
   "metadata": {},
   "outputs": [],
   "source": [
    "d8[\"mobile number\"] = 234523452345234"
   ]
  },
  {
   "cell_type": "code",
   "execution_count": 25,
   "metadata": {},
   "outputs": [
    {
     "data": {
      "text/plain": [
       "{'name': 'manu madhav',\n",
       " 'mentor': {'fsds': 'person1', 'fsda': 'person2', 'bigdata': 'person3'},\n",
       " 'mobile number': 234523452345234}"
      ]
     },
     "execution_count": 25,
     "metadata": {},
     "output_type": "execute_result"
    }
   ],
   "source": [
    "d8"
   ]
  },
  {
   "cell_type": "code",
   "execution_count": 26,
   "metadata": {},
   "outputs": [],
   "source": [
    "del d8[\"name\"]"
   ]
  },
  {
   "cell_type": "code",
   "execution_count": 27,
   "metadata": {},
   "outputs": [
    {
     "data": {
      "text/plain": [
       "{'mentor': {'fsds': 'person1', 'fsda': 'person2', 'bigdata': 'person3'},\n",
       " 'mobile number': 234523452345234}"
      ]
     },
     "execution_count": 27,
     "metadata": {},
     "output_type": "execute_result"
    }
   ],
   "source": [
    "d8"
   ]
  },
  {
   "cell_type": "code",
   "execution_count": 28,
   "metadata": {},
   "outputs": [],
   "source": [
    "d8['name'] =  'manu madhav new name'"
   ]
  },
  {
   "cell_type": "code",
   "execution_count": 29,
   "metadata": {},
   "outputs": [
    {
     "data": {
      "text/plain": [
       "{'mentor': {'fsds': 'person1', 'fsda': 'person2', 'bigdata': 'person3'},\n",
       " 'mobile number': 234523452345234,\n",
       " 'name': 'manu madhav new name'}"
      ]
     },
     "execution_count": 29,
     "metadata": {},
     "output_type": "execute_result"
    }
   ],
   "source": [
    "d8"
   ]
  },
  {
   "attachments": {},
   "cell_type": "markdown",
   "metadata": {},
   "source": [
    "## **kwargs can take n number of inputs and return dict , kwargs means keyword argument pair"
   ]
  },
  {
   "cell_type": "code",
   "execution_count": 30,
   "metadata": {},
   "outputs": [],
   "source": [
    "def test10(**kwargs):\n",
    "    \"\"\" something\"\"\"\n",
    "    return kwargs\n"
   ]
  },
  {
   "cell_type": "code",
   "execution_count": 31,
   "metadata": {},
   "outputs": [
    {
     "ename": "TypeError",
     "evalue": "test10() takes 0 positional arguments but 4 were given",
     "output_type": "error",
     "traceback": [
      "\u001b[1;31m---------------------------------------------------------------------------\u001b[0m",
      "\u001b[1;31mTypeError\u001b[0m                                 Traceback (most recent call last)",
      "\u001b[1;32mc:\\Users\\manum\\OneDrive\\0000.DS\\99. ML and Python\\00.iNeuron_FSDS2.0\\00.Python\\01.FSDS_Sep22\\FSDS2_LiveClass_Sudh_Functions-3.ipynb Cell 43\u001b[0m in \u001b[0;36m<cell line: 1>\u001b[1;34m()\u001b[0m\n\u001b[1;32m----> <a href='vscode-notebook-cell:/c%3A/Users/manum/OneDrive/0000.DS/99.%20ML%20and%20Python/00.iNeuron_FSDS2.0/00.Python/01.FSDS_Sep22/FSDS2_LiveClass_Sudh_Functions-3.ipynb#X56sZmlsZQ%3D%3D?line=0'>1</a>\u001b[0m test10(\u001b[39m1\u001b[39;49m,\u001b[39m2\u001b[39;49m,\u001b[39m3\u001b[39;49m,\u001b[39m4\u001b[39;49m)\n",
      "\u001b[1;31mTypeError\u001b[0m: test10() takes 0 positional arguments but 4 were given"
     ]
    }
   ],
   "source": [
    "test10(1,2,3,4)"
   ]
  },
  {
   "cell_type": "code",
   "execution_count": 32,
   "metadata": {},
   "outputs": [
    {
     "data": {
      "text/plain": [
       "{'a': 1, 'b': 2, 'c': 3, 'd': 4}"
      ]
     },
     "execution_count": 32,
     "metadata": {},
     "output_type": "execute_result"
    }
   ],
   "source": [
    "test10(a=1,b=2,c=3,d=4)"
   ]
  },
  {
   "cell_type": "code",
   "execution_count": 33,
   "metadata": {},
   "outputs": [
    {
     "ename": "SyntaxError",
     "evalue": "expression cannot contain assignment, perhaps you meant \"==\"? (1099794245.py, line 1)",
     "output_type": "error",
     "traceback": [
      "\u001b[1;36m  Input \u001b[1;32mIn [33]\u001b[1;36m\u001b[0m\n\u001b[1;33m    test11(1=1,b=2,c=3,d=4)\u001b[0m\n\u001b[1;37m           ^\u001b[0m\n\u001b[1;31mSyntaxError\u001b[0m\u001b[1;31m:\u001b[0m expression cannot contain assignment, perhaps you meant \"==\"?\n"
     ]
    }
   ],
   "source": [
    "test11(1=1,b=2,c=3,d=4) # will not work since assignment has to be with a variable."
   ]
  },
  {
   "cell_type": "code",
   "execution_count": 2,
   "metadata": {},
   "outputs": [],
   "source": [
    "def test11(**manu):\n",
    "    return manu"
   ]
  },
  {
   "cell_type": "code",
   "execution_count": 4,
   "metadata": {},
   "outputs": [
    {
     "data": {
      "text/plain": [
       "{'b': 'manu', 'm': 1234}"
      ]
     },
     "execution_count": 4,
     "metadata": {},
     "output_type": "execute_result"
    }
   ],
   "source": [
    "test11(b=\"manu\", m = 1234)\n"
   ]
  },
  {
   "cell_type": "code",
   "execution_count": 12,
   "metadata": {},
   "outputs": [],
   "source": [
    "def test12(a):\n",
    "    return a+\" \" +a\n",
    "\n",
    "def test13(b):\n",
    "    return 3*b\n",
    "\n",
    "def test14(func):\n",
    "    return func(\"manu1\")"
   ]
  },
  {
   "cell_type": "code",
   "execution_count": 13,
   "metadata": {},
   "outputs": [
    {
     "data": {
      "text/plain": [
       "'manu1 manu1'"
      ]
     },
     "execution_count": 13,
     "metadata": {},
     "output_type": "execute_result"
    }
   ],
   "source": [
    "test14(test12)"
   ]
  },
  {
   "cell_type": "code",
   "execution_count": 14,
   "metadata": {},
   "outputs": [
    {
     "data": {
      "text/plain": [
       "'manu1manu1manu1'"
      ]
     },
     "execution_count": 14,
     "metadata": {},
     "output_type": "execute_result"
    }
   ],
   "source": [
    "test14(test13)"
   ]
  },
  {
   "cell_type": "code",
   "execution_count": 15,
   "metadata": {},
   "outputs": [],
   "source": [
    "def test12(a):\n",
    "    return a+\" \" +a\n",
    "\n",
    "def test13():\n",
    "    return 3*b\n",
    "\n",
    "def test14(func):\n",
    "    return func(\"manu1\")"
   ]
  },
  {
   "cell_type": "code",
   "execution_count": 16,
   "metadata": {},
   "outputs": [
    {
     "ename": "TypeError",
     "evalue": "test13() takes 0 positional arguments but 1 was given",
     "output_type": "error",
     "traceback": [
      "\u001b[1;31m---------------------------------------------------------------------------\u001b[0m",
      "\u001b[1;31mTypeError\u001b[0m                                 Traceback (most recent call last)",
      "\u001b[1;32mc:\\Users\\manum\\OneDrive\\0000.DS\\99. ML and Python\\00.iNeuron_FSDS2.0\\00.Python\\01.FSDS_Sep22\\FSDS2_LiveClass_Sudh_Functions-3-12NOV22.ipynb Cell 52\u001b[0m in \u001b[0;36m<cell line: 1>\u001b[1;34m()\u001b[0m\n\u001b[1;32m----> <a href='vscode-notebook-cell:/c%3A/Users/manum/OneDrive/0000.DS/99.%20ML%20and%20Python/00.iNeuron_FSDS2.0/00.Python/01.FSDS_Sep22/FSDS2_LiveClass_Sudh_Functions-3-12NOV22.ipynb#Y102sZmlsZQ%3D%3D?line=0'>1</a>\u001b[0m test14(test13)\n",
      "\u001b[1;32mc:\\Users\\manum\\OneDrive\\0000.DS\\99. ML and Python\\00.iNeuron_FSDS2.0\\00.Python\\01.FSDS_Sep22\\FSDS2_LiveClass_Sudh_Functions-3-12NOV22.ipynb Cell 52\u001b[0m in \u001b[0;36mtest14\u001b[1;34m(func)\u001b[0m\n\u001b[0;32m      <a href='vscode-notebook-cell:/c%3A/Users/manum/OneDrive/0000.DS/99.%20ML%20and%20Python/00.iNeuron_FSDS2.0/00.Python/01.FSDS_Sep22/FSDS2_LiveClass_Sudh_Functions-3-12NOV22.ipynb#Y102sZmlsZQ%3D%3D?line=6'>7</a>\u001b[0m \u001b[39mdef\u001b[39;00m \u001b[39mtest14\u001b[39m(func):\n\u001b[1;32m----> <a href='vscode-notebook-cell:/c%3A/Users/manum/OneDrive/0000.DS/99.%20ML%20and%20Python/00.iNeuron_FSDS2.0/00.Python/01.FSDS_Sep22/FSDS2_LiveClass_Sudh_Functions-3-12NOV22.ipynb#Y102sZmlsZQ%3D%3D?line=7'>8</a>\u001b[0m     \u001b[39mreturn\u001b[39;00m func(\u001b[39m\"\u001b[39;49m\u001b[39mmanu1\u001b[39;49m\u001b[39m\"\u001b[39;49m)\n",
      "\u001b[1;31mTypeError\u001b[0m: test13() takes 0 positional arguments but 1 was given"
     ]
    }
   ],
   "source": [
    "test14(test13)"
   ]
  },
  {
   "cell_type": "code",
   "execution_count": 31,
   "metadata": {},
   "outputs": [],
   "source": [
    "def test12(a):\n",
    "    return a+\" \" +a\n",
    "\n",
    "def test13(*args):\n",
    "    return 3*args\n",
    "\n",
    "def test13_1(**kwargs):\n",
    "    return 3*kwargs\n",
    "\n",
    "def test14(func):\n",
    "    return func(\"manu1\")"
   ]
  },
  {
   "cell_type": "code",
   "execution_count": 32,
   "metadata": {},
   "outputs": [
    {
     "data": {
      "text/plain": [
       "('manu1', 'manu1', 'manu1')"
      ]
     },
     "execution_count": 32,
     "metadata": {},
     "output_type": "execute_result"
    }
   ],
   "source": [
    "test14(test13)"
   ]
  },
  {
   "cell_type": "code",
   "execution_count": 33,
   "metadata": {},
   "outputs": [
    {
     "ename": "TypeError",
     "evalue": "test13_1() takes 0 positional arguments but 1 was given",
     "output_type": "error",
     "traceback": [
      "\u001b[1;31m---------------------------------------------------------------------------\u001b[0m",
      "\u001b[1;31mTypeError\u001b[0m                                 Traceback (most recent call last)",
      "\u001b[1;32mc:\\Users\\manum\\OneDrive\\0000.DS\\99. ML and Python\\00.iNeuron_FSDS2.0\\00.Python\\01.FSDS_Sep22\\FSDS2_LiveClass_Sudh_Functions-3-12NOV22.ipynb Cell 55\u001b[0m in \u001b[0;36m<cell line: 1>\u001b[1;34m()\u001b[0m\n\u001b[1;32m----> <a href='vscode-notebook-cell:/c%3A/Users/manum/OneDrive/0000.DS/99.%20ML%20and%20Python/00.iNeuron_FSDS2.0/00.Python/01.FSDS_Sep22/FSDS2_LiveClass_Sudh_Functions-3-12NOV22.ipynb#Y105sZmlsZQ%3D%3D?line=0'>1</a>\u001b[0m test14(test13_1)\n",
      "\u001b[1;32mc:\\Users\\manum\\OneDrive\\0000.DS\\99. ML and Python\\00.iNeuron_FSDS2.0\\00.Python\\01.FSDS_Sep22\\FSDS2_LiveClass_Sudh_Functions-3-12NOV22.ipynb Cell 55\u001b[0m in \u001b[0;36mtest14\u001b[1;34m(func)\u001b[0m\n\u001b[0;32m     <a href='vscode-notebook-cell:/c%3A/Users/manum/OneDrive/0000.DS/99.%20ML%20and%20Python/00.iNeuron_FSDS2.0/00.Python/01.FSDS_Sep22/FSDS2_LiveClass_Sudh_Functions-3-12NOV22.ipynb#Y105sZmlsZQ%3D%3D?line=9'>10</a>\u001b[0m \u001b[39mdef\u001b[39;00m \u001b[39mtest14\u001b[39m(func):\n\u001b[1;32m---> <a href='vscode-notebook-cell:/c%3A/Users/manum/OneDrive/0000.DS/99.%20ML%20and%20Python/00.iNeuron_FSDS2.0/00.Python/01.FSDS_Sep22/FSDS2_LiveClass_Sudh_Functions-3-12NOV22.ipynb#Y105sZmlsZQ%3D%3D?line=10'>11</a>\u001b[0m     \u001b[39mreturn\u001b[39;00m func(\u001b[39m\"\u001b[39;49m\u001b[39mmanu1\u001b[39;49m\u001b[39m\"\u001b[39;49m)\n",
      "\u001b[1;31mTypeError\u001b[0m: test13_1() takes 0 positional arguments but 1 was given"
     ]
    }
   ],
   "source": [
    "test14(test13_1)"
   ]
  },
  {
   "cell_type": "code",
   "execution_count": 37,
   "metadata": {},
   "outputs": [],
   "source": [
    "def test15():\n",
    "    print(\"this is my test15\")\n",
    "    \n",
    "    def test16():\n",
    "        print(\"this is my test16\")\n",
    "    def test17():\n",
    "        print(\"this is my test17\")"
   ]
  },
  {
   "cell_type": "code",
   "execution_count": 38,
   "metadata": {},
   "outputs": [
    {
     "name": "stdout",
     "output_type": "stream",
     "text": [
      "this is my test15\n"
     ]
    }
   ],
   "source": [
    "test15() # not possible to call test16( ) or test17() unless we pass on a value to create a decision loop like below"
   ]
  },
  {
   "cell_type": "code",
   "execution_count": 39,
   "metadata": {},
   "outputs": [],
   "source": [
    "def test15(a):\n",
    "    print(\"this is my test15\")\n",
    "    \n",
    "    def test16():\n",
    "        print(\"this is my test16\")\n",
    "    def test17():\n",
    "        print(\"this is my test17\")\n",
    "    if a ==\"manu\":\n",
    "        return test16()\n",
    "    elif a ==\"madhav\":\n",
    "        return test17()\n"
   ]
  },
  {
   "cell_type": "code",
   "execution_count": 40,
   "metadata": {},
   "outputs": [
    {
     "name": "stdout",
     "output_type": "stream",
     "text": [
      "this is my test15\n",
      "this is my test16\n"
     ]
    }
   ],
   "source": [
    "test15(\"manu\")"
   ]
  },
  {
   "cell_type": "code",
   "execution_count": 5,
   "metadata": {},
   "outputs": [],
   "source": [
    "def test18(func):\n",
    "    def test19():\n",
    "        print(\" I am inside test 19\")\n",
    "        func(\"manu\")\n",
    "    return test19()"
   ]
  },
  {
   "cell_type": "code",
   "execution_count": 8,
   "metadata": {},
   "outputs": [],
   "source": [
    "def test13(*args):\n",
    "    print(\" This is test 13\")\n",
    "    #return 3*args"
   ]
  },
  {
   "cell_type": "code",
   "execution_count": 9,
   "metadata": {},
   "outputs": [
    {
     "name": "stdout",
     "output_type": "stream",
     "text": [
      " I am inside test 19\n",
      " This is test 13\n"
     ]
    }
   ],
   "source": [
    "test18(test13)"
   ]
  },
  {
   "attachments": {},
   "cell_type": "markdown",
   "metadata": {},
   "source": [
    "### how to call test 19 directly"
   ]
  },
  {
   "cell_type": "code",
   "execution_count": null,
   "metadata": {},
   "outputs": [],
   "source": [
    "def test18(func):\n",
    "    def test19():\n",
    "        print(\" I am inside test 19\")\n",
    "        # func(\"manu\")\n",
    "    return test19()"
   ]
  },
  {
   "attachments": {},
   "cell_type": "markdown",
   "metadata": {},
   "source": [
    "### COncept of Decorator"
   ]
  },
  {
   "attachments": {},
   "cell_type": "markdown",
   "metadata": {},
   "source": [
    "1. helpfull in calling someone else code into our code - for example logging \n",
    "2. This is a very good way to reutilize the code."
   ]
  },
  {
   "cell_type": "code",
   "execution_count": 1,
   "metadata": {},
   "outputs": [],
   "source": [
    "def test18(func):\n",
    "    def test19():\n",
    "        print(\" I am inside test 19 and this sill have a decorator to any function that I am going to call\")\n",
    "        func()\n",
    "    return test19()"
   ]
  },
  {
   "cell_type": "code",
   "execution_count": 2,
   "metadata": {},
   "outputs": [],
   "source": [
    "def test20():\n",
    "    print( \"this is my test20\")"
   ]
  },
  {
   "cell_type": "code",
   "execution_count": 3,
   "metadata": {},
   "outputs": [
    {
     "name": "stdout",
     "output_type": "stream",
     "text": [
      " I am inside test 19 and this sill have a decorator to any function that I am going to call\n",
      "this is my test20\n"
     ]
    }
   ],
   "source": [
    "test18(test20)"
   ]
  },
  {
   "attachments": {},
   "cell_type": "markdown",
   "metadata": {},
   "source": [
    "addin decorator to call another functon"
   ]
  },
  {
   "cell_type": "code",
   "execution_count": 4,
   "metadata": {},
   "outputs": [
    {
     "name": "stdout",
     "output_type": "stream",
     "text": [
      " I am inside test 19 and this sill have a decorator to any function that I am going to call\n",
      "this is my test20\n"
     ]
    }
   ],
   "source": [
    "@test18\n",
    "def test20():\n",
    "    print( \"this is my test20\")"
   ]
  },
  {
   "cell_type": "code",
   "execution_count": null,
   "metadata": {},
   "outputs": [],
   "source": []
  }
 ],
 "metadata": {
  "kernelspec": {
   "display_name": "Python 3.9.12 ('base')",
   "language": "python",
   "name": "python3"
  },
  "language_info": {
   "codemirror_mode": {
    "name": "ipython",
    "version": 3
   },
   "file_extension": ".py",
   "mimetype": "text/x-python",
   "name": "python",
   "nbconvert_exporter": "python",
   "pygments_lexer": "ipython3",
   "version": "3.9.12"
  },
  "orig_nbformat": 4,
  "vscode": {
   "interpreter": {
    "hash": "ad2bdc8ecc057115af97d19610ffacc2b4e99fae6737bb82f5d7fb13d2f2c186"
   }
  }
 },
 "nbformat": 4,
 "nbformat_minor": 2
}
