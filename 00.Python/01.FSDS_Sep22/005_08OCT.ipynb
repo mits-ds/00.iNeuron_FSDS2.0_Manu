{
 "cells": [
  {
   "cell_type": "code",
   "execution_count": 1,
   "id": "ad0cee93",
   "metadata": {},
   "outputs": [],
   "source": [
    "name = \"Manu Madhav Suja Manu Govind Gautham\""
   ]
  },
  {
   "cell_type": "code",
   "execution_count": 2,
   "id": "99245035",
   "metadata": {},
   "outputs": [
    {
     "data": {
      "text/plain": [
       "'Manu Madhav Suja Manu Govind Gautham'"
      ]
     },
     "execution_count": 2,
     "metadata": {},
     "output_type": "execute_result"
    }
   ],
   "source": [
    "name[::]"
   ]
  },
  {
   "cell_type": "code",
   "execution_count": 3,
   "id": "62ff1a64",
   "metadata": {},
   "outputs": [
    {
     "data": {
      "text/plain": [
       "'MuaaSaa vdah'"
      ]
     },
     "execution_count": 3,
     "metadata": {},
     "output_type": "execute_result"
    }
   ],
   "source": [
    "name[::3]"
   ]
  },
  {
   "cell_type": "code",
   "execution_count": 4,
   "id": "b77516db",
   "metadata": {},
   "outputs": [
    {
     "data": {
      "text/plain": [
       "'mahtuaG dnivoG unaM ajuS vahdaM unaM'"
      ]
     },
     "execution_count": 4,
     "metadata": {},
     "output_type": "execute_result"
    }
   ],
   "source": [
    "name[::-1]"
   ]
  },
  {
   "cell_type": "code",
   "execution_count": 6,
   "id": "c918e5d5",
   "metadata": {},
   "outputs": [
    {
     "data": {
      "text/plain": [
       "'mhuGdio nMau adMua'"
      ]
     },
     "execution_count": 6,
     "metadata": {},
     "output_type": "execute_result"
    }
   ],
   "source": [
    "name[::-2]"
   ]
  },
  {
   "cell_type": "code",
   "execution_count": 9,
   "id": "a86ee67b",
   "metadata": {},
   "outputs": [
    {
     "name": "stdout",
     "output_type": "stream",
     "text": [
      "input a string: anything\n",
      "anything gnihtyna\n"
     ]
    }
   ],
   "source": [
    "# Palindrome sequence \n",
    "# madam # read from left or right it will be same\n",
    "# malayalam\n",
    "# nayan\n",
    "# bob\n",
    "# Radar\n",
    "\n",
    "data = input(\"input a string: \")\n",
    "data[::] # start: end: step\n",
    "reverse_1 = data[::-1]\n",
    "print(data[::],reverse_1 )"
   ]
  },
  {
   "cell_type": "code",
   "execution_count": 10,
   "id": "a7b9f835",
   "metadata": {},
   "outputs": [
    {
     "data": {
      "text/plain": [
       "'anu Madhav Suja Manu Govind Gautham'"
      ]
     },
     "execution_count": 10,
     "metadata": {},
     "output_type": "execute_result"
    }
   ],
   "source": [
    "name[1::]"
   ]
  },
  {
   "cell_type": "code",
   "execution_count": 11,
   "id": "712093ee",
   "metadata": {},
   "outputs": [
    {
     "data": {
      "text/plain": [
       "''"
      ]
     },
     "execution_count": 11,
     "metadata": {},
     "output_type": "execute_result"
    }
   ],
   "source": [
    "name[1:5:-3]"
   ]
  },
  {
   "cell_type": "code",
   "execution_count": 12,
   "id": "1cc6f69c",
   "metadata": {},
   "outputs": [
    {
     "data": {
      "text/plain": [
       "'Aanu Madhav Suja Manu Govind Gautham'"
      ]
     },
     "execution_count": 12,
     "metadata": {},
     "output_type": "execute_result"
    }
   ],
   "source": [
    "\"A\" + name[1:]"
   ]
  },
  {
   "cell_type": "code",
   "execution_count": 13,
   "id": "ce7c322a",
   "metadata": {},
   "outputs": [
    {
     "data": {
      "text/plain": [
       "'Manu Madhav Suja Manu Govind Gautham'"
      ]
     },
     "execution_count": 13,
     "metadata": {},
     "output_type": "execute_result"
    }
   ],
   "source": [
    "name"
   ]
  },
  {
   "cell_type": "code",
   "execution_count": 14,
   "id": "fd67cd52",
   "metadata": {},
   "outputs": [],
   "source": [
    "name = name.replace(\"Manu\", \"MANU\")"
   ]
  },
  {
   "cell_type": "code",
   "execution_count": 15,
   "id": "a1dee49e",
   "metadata": {},
   "outputs": [
    {
     "data": {
      "text/plain": [
       "'MANU Madhav Suja MANU Govind Gautham'"
      ]
     },
     "execution_count": 15,
     "metadata": {},
     "output_type": "execute_result"
    }
   ],
   "source": [
    "name"
   ]
  },
  {
   "cell_type": "code",
   "execution_count": 17,
   "id": "bf4f1466",
   "metadata": {},
   "outputs": [
    {
     "data": {
      "text/plain": [
       "'manu mADHAV sUJA manu gOVIND gAUTHAM'"
      ]
     },
     "execution_count": 17,
     "metadata": {},
     "output_type": "execute_result"
    }
   ],
   "source": [
    "name.swapcase()"
   ]
  },
  {
   "cell_type": "code",
   "execution_count": 18,
   "id": "771b7636",
   "metadata": {},
   "outputs": [
    {
     "data": {
      "text/plain": [
       "'MANU Madhav Suja MANU Govind Gautham'"
      ]
     },
     "execution_count": 18,
     "metadata": {},
     "output_type": "execute_result"
    }
   ],
   "source": [
    "name"
   ]
  },
  {
   "cell_type": "code",
   "execution_count": 19,
   "id": "849273f6",
   "metadata": {},
   "outputs": [
    {
     "data": {
      "text/plain": [
       "'M*A*N*U* *M*a*d*h*a*v* *S*u*j*a* *M*A*N*U* *G*o*v*i*n*d* *G*a*u*t*h*a*m'"
      ]
     },
     "execution_count": 19,
     "metadata": {},
     "output_type": "execute_result"
    }
   ],
   "source": [
    "\"*\".join(name)"
   ]
  },
  {
   "cell_type": "code",
   "execution_count": 20,
   "id": "a6868c3d",
   "metadata": {},
   "outputs": [
    {
     "data": {
      "text/plain": [
       "'mahtuaG dnivoG UNAM ajuS vahdaM UNAM'"
      ]
     },
     "execution_count": 20,
     "metadata": {},
     "output_type": "execute_result"
    }
   ],
   "source": [
    "\"\".join(reversed(name))"
   ]
  },
  {
   "cell_type": "code",
   "execution_count": 22,
   "id": "648e72e4",
   "metadata": {},
   "outputs": [
    {
     "data": {
      "text/plain": [
       "'########manu########'"
      ]
     },
     "execution_count": 22,
     "metadata": {},
     "output_type": "execute_result"
    }
   ],
   "source": [
    "name = \"manu\"\n",
    "name.center(20,\"#\")"
   ]
  },
  {
   "cell_type": "code",
   "execution_count": null,
   "id": "24c2d306",
   "metadata": {},
   "outputs": [],
   "source": []
  }
 ],
 "metadata": {
  "kernelspec": {
   "display_name": "Python 3 (ipykernel)",
   "language": "python",
   "name": "python3"
  },
  "language_info": {
   "codemirror_mode": {
    "name": "ipython",
    "version": 3
   },
   "file_extension": ".py",
   "mimetype": "text/x-python",
   "name": "python",
   "nbconvert_exporter": "python",
   "pygments_lexer": "ipython3",
   "version": "3.9.12"
  },
  "toc": {
   "base_numbering": 1,
   "nav_menu": {},
   "number_sections": true,
   "sideBar": true,
   "skip_h1_title": false,
   "title_cell": "Table of Contents",
   "title_sidebar": "Contents",
   "toc_cell": false,
   "toc_position": {},
   "toc_section_display": true,
   "toc_window_display": false
  },
  "varInspector": {
   "cols": {
    "lenName": 16,
    "lenType": 16,
    "lenVar": 40
   },
   "kernels_config": {
    "python": {
     "delete_cmd_postfix": "",
     "delete_cmd_prefix": "del ",
     "library": "var_list.py",
     "varRefreshCmd": "print(var_dic_list())"
    },
    "r": {
     "delete_cmd_postfix": ") ",
     "delete_cmd_prefix": "rm(",
     "library": "var_list.r",
     "varRefreshCmd": "cat(var_dic_list()) "
    }
   },
   "types_to_exclude": [
    "module",
    "function",
    "builtin_function_or_method",
    "instance",
    "_Feature"
   ],
   "window_display": false
  }
 },
 "nbformat": 4,
 "nbformat_minor": 5
}
