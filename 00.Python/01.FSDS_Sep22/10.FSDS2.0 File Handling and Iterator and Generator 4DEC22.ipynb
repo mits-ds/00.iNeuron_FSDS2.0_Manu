{
 "cells": [
  {
   "attachments": {},
   "cell_type": "markdown",
   "metadata": {},
   "source": [
    "# File Handling"
   ]
  },
  {
   "cell_type": "code",
   "execution_count": 1,
   "metadata": {},
   "outputs": [
    {
     "name": "stdout",
     "output_type": "stream",
     "text": [
      " Volume in drive C has no label.\n",
      " Volume Serial Number is 0410-0E43\n",
      "\n",
      " Directory of c:\\Users\\manum\\OneDrive\\0000.DS\\99. ML and Python\\00.iNeuron_FSDS2.0\\00.Python\\01.FSDS_Sep22\n",
      "\n",
      "29-01-2023  22:08    <DIR>          .\n",
      "29-01-2023  22:08    <DIR>          ..\n",
      "12-11-2022  17:03    <DIR>          .ipynb_checkpoints\n",
      "08-10-2022  17:26             7,464 005_08OCT.ipynb\n",
      "15-10-2022  23:34           230,610 6_3_python_list MM.ipynb\n",
      "15-10-2022  21:58           303,359 6_3_python_list_MM_final.ipynb\n",
      "15-10-2022  15:20           200,117 6_4_python_tuple_and_sets MM.ipynb\n",
      "15-10-2022  15:20           202,426 6_5_Dictionary_MM.ipynb\n",
      "25-09-2022  20:27         2,127,541 Bootcamp 2.0 - Assignment No. 1 Manu Madhav.pptx\n",
      "25-09-2022  20:27            18,878 Bootcamp 2.0 - Assignment No. 1.ipynb\n",
      "01-10-2022  17:42             6,478 Class on 01OCT.ipynb\n",
      "28-01-2023  18:37    <DIR>          data\n",
      "12-10-2022  22:36            81,325 Demo_006_09_OCT-22.ipynb\n",
      "29-01-2023  21:55         2,080,441 FSDS 2.0 13NOV Class .ipynb\n",
      "02-10-2022  14:09            24,648 FSDS_bootcamp_assignment_002_Oct_01_Manu_Madhav .ipynb\n",
      "12-10-2022  21:53            11,645 FSDS_bootcamp_assignment_003_Oct_08_Manu_Madhav .ipynb\n",
      "12-10-2022  22:18             7,157 FSDS_bootcamp_assignment_004_Oct_09_Manu_Madhav.ipynb\n",
      "18-10-2022  23:23            11,060 FSDS_bootcamp_assignment_005_Oct_16_Manu_Madhav.ipynb\n",
      "29-01-2023  21:54           777,095 FSDS2.0 Exception Handling 03DEC22.ipynb\n",
      "29-01-2023  21:53                 0 FSDS2.0 File Handling and Iterator and Generator 4DEC22.ipynb\n",
      "29-01-2023  21:55           319,880 FSDS2.0 Pandas 28JAN23.ipynb\n",
      "29-01-2023  21:54               577 FSDS2.0 Pandas 29JAN23.ipynb\n",
      "23-01-2023  22:22             1,173 FSDS2_ClassFunctions-3.ipynb\n",
      "29-01-2023  21:56            52,140 FSDS2_LiveClass_Sudh_Functions-3-12NOV22.ipynb\n",
      "04-11-2022  20:43            13,946 Function_Class_Sudh_29OCT22.ipynb\n",
      "05-11-2022  12:53            19,359 Function_Class_Sudh30OCT22.ipynb\n",
      "12-11-2022  22:19           778,854 Functions 12NOV22.ipynb\n",
      "25-09-2022  18:01         2,039,326 iNeuron.pptx\n",
      "29-01-2023  21:55           164,356 pandas day 1.ipynb\n",
      "29-01-2023  21:54            24,157 questions.ipynb\n",
      "29-01-2023  22:08                 0 test.txt\n",
      "04-11-2022  23:37            12,033 testing.docx\n",
      "02-10-2022  13:58             3,708 Untitled.ipynb\n",
      "15-10-2022  20:04             1,505 Untitled1.ipynb\n",
      "21-01-2023  10:10                 0 X_class 21JAN23.ipynb\n",
      "              31 File(s)      9,521,258 bytes\n",
      "               4 Dir(s)  89,418,076,160 bytes free\n"
     ]
    }
   ],
   "source": [
    "%ls"
   ]
  },
  {
   "cell_type": "code",
   "execution_count": 2,
   "metadata": {},
   "outputs": [
    {
     "data": {
      "text/plain": [
       "'c:\\\\Users\\\\manum\\\\OneDrive\\\\0000.DS\\\\99. ML and Python\\\\00.iNeuron_FSDS2.0\\\\00.Python\\\\01.FSDS_Sep22'"
      ]
     },
     "execution_count": 2,
     "metadata": {},
     "output_type": "execute_result"
    }
   ],
   "source": [
    "pwd()"
   ]
  },
  {
   "cell_type": "code",
   "execution_count": 3,
   "metadata": {},
   "outputs": [],
   "source": [
    "f = open(\"test.txt\")"
   ]
  },
  {
   "cell_type": "code",
   "execution_count": 4,
   "metadata": {},
   "outputs": [
    {
     "data": {
      "text/plain": [
       "_io.TextIOWrapper"
      ]
     },
     "execution_count": 4,
     "metadata": {},
     "output_type": "execute_result"
    }
   ],
   "source": [
    "type(f)"
   ]
  },
  {
   "cell_type": "code",
   "execution_count": 5,
   "metadata": {},
   "outputs": [
    {
     "ename": "SyntaxError",
     "evalue": "invalid syntax (3717109820.py, line 1)",
     "output_type": "error",
     "traceback": [
      "\u001b[1;36m  Cell \u001b[1;32mIn[5], line 1\u001b[1;36m\u001b[0m\n\u001b[1;33m    f.\u001b[0m\n\u001b[1;37m      ^\u001b[0m\n\u001b[1;31mSyntaxError\u001b[0m\u001b[1;31m:\u001b[0m invalid syntax\n"
     ]
    }
   ],
   "source": [
    "f."
   ]
  },
  {
   "cell_type": "code",
   "execution_count": 6,
   "metadata": {},
   "outputs": [],
   "source": [
    "f.close()"
   ]
  },
  {
   "cell_type": "code",
   "execution_count": null,
   "metadata": {},
   "outputs": [],
   "source": [
    "f = open()"
   ]
  }
 ],
 "metadata": {
  "kernelspec": {
   "display_name": "Python 3",
   "language": "python",
   "name": "python3"
  },
  "language_info": {
   "codemirror_mode": {
    "name": "ipython",
    "version": 3
   },
   "file_extension": ".py",
   "mimetype": "text/x-python",
   "name": "python",
   "nbconvert_exporter": "python",
   "pygments_lexer": "ipython3",
   "version": "3.11.1 (tags/v3.11.1:a7a450f, Dec  6 2022, 19:58:39) [MSC v.1934 64 bit (AMD64)]"
  },
  "orig_nbformat": 4,
  "vscode": {
   "interpreter": {
    "hash": "02d3851497a225a72d9b85106139e6d8f8a3b5ccc56938a1b3fdb471f18f904e"
   }
  }
 },
 "nbformat": 4,
 "nbformat_minor": 2
}
