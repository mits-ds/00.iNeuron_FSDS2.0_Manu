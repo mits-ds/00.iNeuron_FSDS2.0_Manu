{
 "cells": [
  {
   "cell_type": "markdown",
   "id": "277cb8fb",
   "metadata": {},
   "source": [
    "AGENDA\n",
    "\n",
    "Operators\n",
    "\n",
    "Logical\n",
    "\n",
    "Equality\n",
    "\n",
    "Comparision\n",
    "\n",
    "Arthimatic\n",
    "\n",
    "Bitwise [Advance topics - covering in future classes]\n",
    "\n",
    "Operators for sets and dictionary [Advance classes]\n",
    "\n",
    "String methods\n",
    "\n",
    "\n",
    "Control flow statement [if time permits]"
   ]
  },
  {
   "cell_type": "code",
   "execution_count": 1,
   "id": "e272c837",
   "metadata": {},
   "outputs": [
    {
     "name": "stdout",
     "output_type": "stream",
     "text": [
      "True\n"
     ]
    }
   ],
   "source": [
    "START = True\n",
    "print(START)"
   ]
  },
  {
   "cell_type": "code",
   "execution_count": 2,
   "id": "d0bacdda",
   "metadata": {},
   "outputs": [
    {
     "name": "stdout",
     "output_type": "stream",
     "text": [
      "False\n"
     ]
    }
   ],
   "source": [
    "START = True\n",
    "print(not START)"
   ]
  },
  {
   "cell_type": "code",
   "execution_count": 4,
   "id": "5bdaa077",
   "metadata": {},
   "outputs": [
    {
     "name": "stdout",
     "output_type": "stream",
     "text": [
      "Let us do work from home\n"
     ]
    }
   ],
   "source": [
    "raining = True\n",
    "\n",
    "if raining:\n",
    "    print(\"Let us do work from home\")\n",
    "else:\n",
    "    print(\"Let us go to office\")"
   ]
  },
  {
   "cell_type": "code",
   "execution_count": 6,
   "id": "4e484529",
   "metadata": {},
   "outputs": [
    {
     "name": "stdout",
     "output_type": "stream",
     "text": [
      "Let us go to office\n"
     ]
    }
   ],
   "source": [
    "raining = False\n",
    "\n",
    "if raining:\n",
    "    print(\"Let us do work from home\")\n",
    "else:\n",
    "    print(\"Let us go to office\")"
   ]
  },
  {
   "cell_type": "code",
   "execution_count": 3,
   "id": "a25f1767",
   "metadata": {},
   "outputs": [
    {
     "name": "stdout",
     "output_type": "stream",
     "text": [
      "Let us revise previous class\n"
     ]
    }
   ],
   "source": [
    "class_started = False\n",
    "\n",
    "if class_started:\n",
    "    print(\"Let us concentrate\")\n",
    "else:\n",
    "    print(\"Let us revise previous class\")"
   ]
  },
  {
   "cell_type": "code",
   "execution_count": 15,
   "id": "1ef91e71",
   "metadata": {},
   "outputs": [
    {
     "name": "stdout",
     "output_type": "stream",
     "text": [
      "Class Started : Press 1 for yes and press enter for false: > \n",
      "False\n",
      "Let us revise previous class\n"
     ]
    }
   ],
   "source": [
    "class_started = bool(input(\"Class Started : Press 1 for yes and press enter for false: > \"))\n",
    "print(class_started)\n",
    "if class_started:\n",
    "    print(\"Let us concentrate\")\n",
    "else:\n",
    "    print(\"Let us revise previous class\")"
   ]
  },
  {
   "cell_type": "code",
   "execution_count": 25,
   "id": "9664fd48",
   "metadata": {},
   "outputs": [
    {
     "name": "stdout",
     "output_type": "stream",
     "text": [
      " Attendance Marks : 80\n",
      " Attendance Marks : 65\n",
      " Sports PLayer : Press 1 for yes or Enter for no 1\n",
      "Attendance Criteria met? :  True\n",
      "Assignment Criteria met? :  False\n",
      "Sports Criteria met? :  1\n",
      "**********************************************************\n",
      " The student can get grace marks = +10\n",
      "Student is eligible to appear in final exam with Sport Criteria\n"
     ]
    }
   ],
   "source": [
    "attendance = float(input(\" Attendance Marks : \"))\n",
    "assignment_submitted = float(input(\" Attendance Marks : \"))\n",
    "sports_player = input(\" Sports PLayer : Press 1 for yes or Enter for no \")\n",
    "\n",
    "if  attendance ==\"\" or assignment_submitted==\"\" :\n",
    "    attendance = 70\n",
    "    assignment_submitted = 40\n",
    "    sports_player = True\n",
    "\n",
    "print(f\"Attendance Criteria met? :  {attendance >=75}\")\n",
    "print(f\"Assignment Criteria met? :  {assignment_submitted >=70}\")\n",
    "print(f\"Sports Criteria met? :  {sports_player}\")\n",
    "      \n",
    "print(\"**********************************************************\")\n",
    "if attendance >=65 and assignment_submitted >=60:\n",
    "    if sports_player:\n",
    "        print(\" The student can get grace marks = +10\")\n",
    "        print(\"Student is eligible to appear in final exam with Sport Criteria\")\n",
    "    elif attendance >=75 and assignment_submitted >=70:\n",
    "        print(\"Student is eligible to appear in final exam in General Criteria\")\n",
    "    else:\n",
    "        print(\"The student is not eligible > not having Sport Criteria or enough Marks\")\n",
    "else:\n",
    "      print(\"The student is not eligible > not enough Marks\")"
   ]
  },
  {
   "cell_type": "code",
   "execution_count": null,
   "id": "27f96508",
   "metadata": {},
   "outputs": [],
   "source": []
  }
 ],
 "metadata": {
  "kernelspec": {
   "display_name": "Python 3 (ipykernel)",
   "language": "python",
   "name": "python3"
  },
  "language_info": {
   "codemirror_mode": {
    "name": "ipython",
    "version": 3
   },
   "file_extension": ".py",
   "mimetype": "text/x-python",
   "name": "python",
   "nbconvert_exporter": "python",
   "pygments_lexer": "ipython3",
   "version": "3.9.12"
  },
  "toc": {
   "base_numbering": 1,
   "nav_menu": {},
   "number_sections": true,
   "sideBar": true,
   "skip_h1_title": false,
   "title_cell": "Table of Contents",
   "title_sidebar": "Contents",
   "toc_cell": false,
   "toc_position": {},
   "toc_section_display": true,
   "toc_window_display": false
  },
  "varInspector": {
   "cols": {
    "lenName": 16,
    "lenType": 16,
    "lenVar": 40
   },
   "kernels_config": {
    "python": {
     "delete_cmd_postfix": "",
     "delete_cmd_prefix": "del ",
     "library": "var_list.py",
     "varRefreshCmd": "print(var_dic_list())"
    },
    "r": {
     "delete_cmd_postfix": ") ",
     "delete_cmd_prefix": "rm(",
     "library": "var_list.r",
     "varRefreshCmd": "cat(var_dic_list()) "
    }
   },
   "types_to_exclude": [
    "module",
    "function",
    "builtin_function_or_method",
    "instance",
    "_Feature"
   ],
   "window_display": false
  }
 },
 "nbformat": 4,
 "nbformat_minor": 5
}
